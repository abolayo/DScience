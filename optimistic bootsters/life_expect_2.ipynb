{
 "cells": [
  {
   "cell_type": "code",
   "execution_count": 1,
   "id": "a317085b-83a9-48a8-9558-914635e2ca5d",
   "metadata": {},
   "outputs": [],
   "source": [
    "import pandas as pd\n",
    "import seaborn as sns\n",
    "import matplotlib.pyplot as plt\n",
    "import numpy as np\n",
    "%matplotlib inline"
   ]
  },
  {
   "cell_type": "code",
   "execution_count": 2,
   "id": "38cfe605-89d6-4668-a815-0782cc71721d",
   "metadata": {},
   "outputs": [],
   "source": [
    "life_data = pd.read_csv(\"Life Expectancy Data.csv\")"
   ]
  },
  {
   "cell_type": "code",
   "execution_count": 3,
   "id": "3a0b1350-6da5-4df3-8a56-c255170caedd",
   "metadata": {},
   "outputs": [
    {
     "data": {
      "text/plain": [
       "Index(['Country', 'Year', 'Status', 'Life expectancy ', 'Adult Mortality',\n",
       "       'infant deaths', 'Alcohol', 'percentage expenditure', 'Hepatitis B',\n",
       "       'Measles ', ' BMI ', 'under-five deaths ', 'Polio', 'Total expenditure',\n",
       "       'Diphtheria ', ' HIV/AIDS', 'GDP', 'Population',\n",
       "       ' thinness  1-19 years', ' thinness 5-9 years',\n",
       "       'Income composition of resources', 'Schooling'],\n",
       "      dtype='object')"
      ]
     },
     "execution_count": 3,
     "metadata": {},
     "output_type": "execute_result"
    }
   ],
   "source": [
    "life_data.columns"
   ]
  },
  {
   "cell_type": "code",
   "execution_count": 4,
   "id": "b539191f-b4eb-4a66-9f44-5953b2c87c91",
   "metadata": {},
   "outputs": [
    {
     "data": {
      "text/plain": [
       "Country                              0\n",
       "Year                                 0\n",
       "Status                               0\n",
       "infant deaths                        0\n",
       "percentage expenditure               0\n",
       "Measles                              0\n",
       " HIV/AIDS                            0\n",
       "under-five deaths                    0\n",
       "Life expectancy                     10\n",
       "Adult Mortality                     10\n",
       "Polio                               19\n",
       "Diphtheria                          19\n",
       " thinness 5-9 years                 34\n",
       " thinness  1-19 years               34\n",
       " BMI                                34\n",
       "Schooling                          163\n",
       "Income composition of resources    167\n",
       "Alcohol                            194\n",
       "Total expenditure                  226\n",
       "GDP                                448\n",
       "Hepatitis B                        553\n",
       "Population                         652\n",
       "dtype: int64"
      ]
     },
     "execution_count": 4,
     "metadata": {},
     "output_type": "execute_result"
    }
   ],
   "source": [
    "life_data.isnull().sum().sort_values()"
   ]
  },
  {
   "cell_type": "code",
   "execution_count": 5,
   "id": "4ad2e5c1-ca3f-42b9-88b1-a782193ac9d5",
   "metadata": {},
   "outputs": [
    {
     "data": {
      "text/plain": [
       "<AxesSubplot:xlabel='Life expectancy ', ylabel='Status'>"
      ]
     },
     "execution_count": 5,
     "metadata": {},
     "output_type": "execute_result"
    },
    {
     "data": {
      "image/png": "[encoded data removed]",
      "text/plain": [
       "<Figure size 1008x432 with 1 Axes>"
      ]
     },
     "metadata": {
      "needs_background": "light"
     },
     "output_type": "display_data"
    }
   ],
   "source": [
    "# life expexctancy compared with country status\n",
    "plt.figure(figsize=(14,6))\n",
    "sns.barplot(x=life_data['Life expectancy '], y=life_data.Status)"
   ]
  },
  {
   "cell_type": "code",
   "execution_count": 6,
   "id": "a94717f3-2286-4782-b3ca-8f40edd6a140",
   "metadata": {},
   "outputs": [
    {
     "data": {
      "text/html": [
       "<div>\n",
       "<style scoped>\n",
       "    .dataframe tbody tr th:only-of-type {\n",
       "        vertical-align: middle;\n",
       "    }\n",
       "\n",
       "    .dataframe tbody tr th {\n",
       "        vertical-align: top;\n",
       "    }\n",
       "\n",
       "    .dataframe thead th {\n",
       "        text-align: right;\n",
       "    }\n",
       "</style>\n",
       "<table border=\"1\" class=\"dataframe\">\n",
       "  <thead>\n",
       "    <tr style=\"text-align: right;\">\n",
       "      <th></th>\n",
       "      <th>Feature name</th>\n",
       "      <th>No. of Null Values</th>\n",
       "    </tr>\n",
       "  </thead>\n",
       "  <tbody>\n",
       "    <tr>\n",
       "      <th>0</th>\n",
       "      <td>Country</td>\n",
       "      <td>0</td>\n",
       "    </tr>\n",
       "    <tr>\n",
       "      <th>1</th>\n",
       "      <td>Year</td>\n",
       "      <td>0</td>\n",
       "    </tr>\n",
       "    <tr>\n",
       "      <th>2</th>\n",
       "      <td>Status</td>\n",
       "      <td>0</td>\n",
       "    </tr>\n",
       "    <tr>\n",
       "      <th>3</th>\n",
       "      <td>Life expectancy</td>\n",
       "      <td>10</td>\n",
       "    </tr>\n",
       "    <tr>\n",
       "      <th>4</th>\n",
       "      <td>Adult Mortality</td>\n",
       "      <td>10</td>\n",
       "    </tr>\n",
       "    <tr>\n",
       "      <th>5</th>\n",
       "      <td>infant deaths</td>\n",
       "      <td>0</td>\n",
       "    </tr>\n",
       "    <tr>\n",
       "      <th>6</th>\n",
       "      <td>Alcohol</td>\n",
       "      <td>194</td>\n",
       "    </tr>\n",
       "    <tr>\n",
       "      <th>7</th>\n",
       "      <td>percentage expenditure</td>\n",
       "      <td>0</td>\n",
       "    </tr>\n",
       "    <tr>\n",
       "      <th>8</th>\n",
       "      <td>Hepatitis B</td>\n",
       "      <td>553</td>\n",
       "    </tr>\n",
       "    <tr>\n",
       "      <th>9</th>\n",
       "      <td>Measles</td>\n",
       "      <td>0</td>\n",
       "    </tr>\n",
       "    <tr>\n",
       "      <th>10</th>\n",
       "      <td>BMI</td>\n",
       "      <td>34</td>\n",
       "    </tr>\n",
       "    <tr>\n",
       "      <th>11</th>\n",
       "      <td>under-five deaths</td>\n",
       "      <td>0</td>\n",
       "    </tr>\n",
       "    <tr>\n",
       "      <th>12</th>\n",
       "      <td>Polio</td>\n",
       "      <td>19</td>\n",
       "    </tr>\n",
       "    <tr>\n",
       "      <th>13</th>\n",
       "      <td>Total expenditure</td>\n",
       "      <td>226</td>\n",
       "    </tr>\n",
       "    <tr>\n",
       "      <th>14</th>\n",
       "      <td>Diphtheria</td>\n",
       "      <td>19</td>\n",
       "    </tr>\n",
       "    <tr>\n",
       "      <th>15</th>\n",
       "      <td>HIV/AIDS</td>\n",
       "      <td>0</td>\n",
       "    </tr>\n",
       "    <tr>\n",
       "      <th>16</th>\n",
       "      <td>GDP</td>\n",
       "      <td>448</td>\n",
       "    </tr>\n",
       "    <tr>\n",
       "      <th>17</th>\n",
       "      <td>Population</td>\n",
       "      <td>652</td>\n",
       "    </tr>\n",
       "    <tr>\n",
       "      <th>18</th>\n",
       "      <td>thinness  1-19 years</td>\n",
       "      <td>34</td>\n",
       "    </tr>\n",
       "    <tr>\n",
       "      <th>19</th>\n",
       "      <td>thinness 5-9 years</td>\n",
       "      <td>34</td>\n",
       "    </tr>\n",
       "    <tr>\n",
       "      <th>20</th>\n",
       "      <td>Income composition of resources</td>\n",
       "      <td>167</td>\n",
       "    </tr>\n",
       "    <tr>\n",
       "      <th>21</th>\n",
       "      <td>Schooling</td>\n",
       "      <td>163</td>\n",
       "    </tr>\n",
       "  </tbody>\n",
       "</table>\n",
       "</div>"
      ],
      "text/plain": [
       "                       Feature name  No. of Null Values\n",
       "0                           Country                   0\n",
       "1                              Year                   0\n",
       "2                            Status                   0\n",
       "3                  Life expectancy                   10\n",
       "4                   Adult Mortality                  10\n",
       "5                     infant deaths                   0\n",
       "6                           Alcohol                 194\n",
       "7            percentage expenditure                   0\n",
       "8                       Hepatitis B                 553\n",
       "9                          Measles                    0\n",
       "10                             BMI                   34\n",
       "11               under-five deaths                    0\n",
       "12                            Polio                  19\n",
       "13                Total expenditure                 226\n",
       "14                      Diphtheria                   19\n",
       "15                         HIV/AIDS                   0\n",
       "16                              GDP                 448\n",
       "17                       Population                 652\n",
       "18             thinness  1-19 years                  34\n",
       "19               thinness 5-9 years                  34\n",
       "20  Income composition of resources                 167\n",
       "21                        Schooling                 163"
      ]
     },
     "execution_count": 6,
     "metadata": {},
     "output_type": "execute_result"
    }
   ],
   "source": [
    "columns = list(life_data.columns)\n",
    "null_col = []\n",
    "for column in columns:\n",
    "    sum_of_null = life_data[column].isnull().sum()\n",
    "    null_col.append(sum_of_null)\n",
    "null_df = pd.DataFrame({'Feature name':columns,'No. of Null Values':null_col})\n",
    "null_df"
   ]
  },
  {
   "cell_type": "code",
   "execution_count": 7,
   "id": "04d4d16d-18ac-4f5e-9943-a9291c03d27a",
   "metadata": {},
   "outputs": [],
   "source": [
    "def fill_with_mean(column, dataset=life_data):\n",
    "  dataset[column].fillna(dataset[column].mean(), inplace=True)"
   ]
  },
  {
   "cell_type": "code",
   "execution_count": 8,
   "id": "4b81eb7b-22d1-4cbf-a197-b04e3fffae61",
   "metadata": {},
   "outputs": [],
   "source": [
    "under_40 = life_data.columns[(life_data.isnull().sum() < 40) & (life_data.isnull().sum() > 0)]\n",
    "for column in under_40:\n",
    "  fill_with_mean(column)"
   ]
  },
  {
   "cell_type": "code",
   "execution_count": 9,
   "id": "16765c66-20d7-40f6-b220-6884b998a175",
   "metadata": {},
   "outputs": [
    {
     "data": {
      "text/plain": [
       "Country                              0\n",
       " thinness 5-9 years                  0\n",
       " thinness  1-19 years                0\n",
       " HIV/AIDS                            0\n",
       "Diphtheria                           0\n",
       "Polio                                0\n",
       "under-five deaths                    0\n",
       "Measles                              0\n",
       " BMI                                 0\n",
       "percentage expenditure               0\n",
       "infant deaths                        0\n",
       "Adult Mortality                      0\n",
       "Life expectancy                      0\n",
       "Status                               0\n",
       "Year                                 0\n",
       "Schooling                          163\n",
       "Income composition of resources    167\n",
       "Alcohol                            194\n",
       "Total expenditure                  226\n",
       "GDP                                448\n",
       "Hepatitis B                        553\n",
       "Population                         652\n",
       "dtype: int64"
      ]
     },
     "execution_count": 9,
     "metadata": {},
     "output_type": "execute_result"
    }
   ],
   "source": [
    "life_data.isnull().sum().sort_values()"
   ]
  },
  {
   "cell_type": "code",
   "execution_count": 10,
   "id": "c5021a4f-adc3-42f3-bdb4-c290117a8aa3",
   "metadata": {},
   "outputs": [
    {
     "data": {
      "text/plain": [
       "Text(0.5, 1.0, 'with outliers')"
      ]
     },
     "execution_count": 10,
     "metadata": {},
     "output_type": "execute_result"
    },
    {
     "data": {
      "image/png": "[encoded data removed]",
      "text/plain": [
       "<Figure size 720x432 with 1 Axes>"
      ]
     },
     "metadata": {
      "needs_background": "light"
     },
     "output_type": "display_data"
    }
   ],
   "source": [
    "plt.figure(figsize=(10,6))\n",
    "sns.boxplot(data=life_data['Life expectancy '])\n",
    "plt.title('with outliers')"
   ]
  },
  {
   "cell_type": "code",
   "execution_count": 11,
   "id": "46456819-f339-498f-9665-ba4d8b6c9c48",
   "metadata": {},
   "outputs": [
    {
     "name": "stdout",
     "output_type": "stream",
     "text": [
      " Pre Outliers Shape:  (2938, 22)\n",
      "63.2\n",
      "75.6\n",
      "UPPER LIMIT 94.19999999999999\n",
      "LOWER LIMIT 44.600000000000016\n",
      "After Outliers Shape:  (2919, 22)\n"
     ]
    }
   ],
   "source": [
    "print(\" Pre Outliers Shape: \", life_data.shape) # shows 1649 observations\n",
    "\n",
    "Q1 = life_data.quantile(0.25) # defines 25th %ile\n",
    "print(Q1[\"Life expectancy \"])\n",
    "Q3 = life_data.quantile(0.75) # defines 75th %ile\n",
    "print(Q3[\"Life expectancy \"])\n",
    "IQR = Q3 - Q1 # defines interquartile range\n",
    "Upper = Q3 + 1.5*IQR # defines upper limit for outliers\n",
    "Lower = Q1 - 1.5*IQR # defines lower limit for outliers\n",
    "\n",
    "print(\"UPPER LIMIT\", Upper[\"Life expectancy \"]) # shows the value of upper limit so that we can use it\n",
    "print (\"LOWER LIMIT\", Lower[\"Life expectancy \"]) # shows the value of the lower limit so that we can use it\n",
    "\n",
    "outlier = life_data[(life_data['Life expectancy '] >= 94)|(life_data['Life expectancy '] <= 45)].index # identifies the outlier values\n",
    "\n",
    "life_data.drop(outlier, inplace=True) # drops the outliers\n",
    "\n",
    "print(\"After Outliers Shape: \", life_data.shape) \n"
   ]
  },
  {
   "cell_type": "code",
   "execution_count": 12,
   "id": "6556141d-6c6c-4b39-b824-21192108c311",
   "metadata": {},
   "outputs": [
    {
     "data": {
      "text/plain": [
       "Text(0.5, 1.0, 'without outliers')"
      ]
     },
     "execution_count": 12,
     "metadata": {},
     "output_type": "execute_result"
    },
    {
     "data": {
      "image/png": "[encoded data removed]",
      "text/plain": [
       "<Figure size 720x432 with 1 Axes>"
      ]
     },
     "metadata": {
      "needs_background": "light"
     },
     "output_type": "display_data"
    }
   ],
   "source": [
    "plt.figure(figsize=(10,6))\n",
    "sns.boxplot(data=life_data['Life expectancy '])\n",
    "plt.title('without outliers')"
   ]
  },
  {
   "cell_type": "code",
   "execution_count": 13,
   "id": "f1a03eda-3724-48c6-8cb0-7d3a7f182a73",
   "metadata": {},
   "outputs": [
    {
     "data": {
      "text/plain": [
       "0    65.0\n",
       "1    59.9\n",
       "2    59.9\n",
       "3    59.5\n",
       "4    59.2\n",
       "Name: Life expectancy , dtype: float64"
      ]
     },
     "execution_count": 13,
     "metadata": {},
     "output_type": "execute_result"
    }
   ],
   "source": [
    "lifeExpectancy = life_data.pop('Life expectancy ')\n",
    "lifeExpectancy.head()"
   ]
  },
  {
   "cell_type": "code",
   "execution_count": 14,
   "id": "39608900-4531-4018-a020-34a8b70c7417",
   "metadata": {},
   "outputs": [
    {
     "data": {
      "image/png": "[encoded data removed]",
      "text/plain": [
       "<Figure size 1152x864 with 2 Axes>"
      ]
     },
     "metadata": {
      "needs_background": "light"
     },
     "output_type": "display_data"
    }
   ],
   "source": [
    "corr_data = life_data.corr()\n",
    "plt.figure(figsize=(16, 12))\n",
    "sns.heatmap(corr_data);"
   ]
  },
  {
   "cell_type": "markdown",
   "id": "a4e2cb12-1cc8-40a2-b335-05d4df1f54a3",
   "metadata": {},
   "source": [
    "Use features correlation to impute missing values "
   ]
  },
  {
   "cell_type": "code",
   "execution_count": 15,
   "id": "0bc8e94c-3418-480b-868b-2cb9c5afae3f",
   "metadata": {},
   "outputs": [
    {
     "data": {
      "text/plain": [
       "Population       1.000000\n",
       "infant deaths    0.556829\n",
       "Name: Population, dtype: float64"
      ]
     },
     "execution_count": 15,
     "metadata": {},
     "output_type": "execute_result"
    }
   ],
   "source": [
    "corr_data['Population'].sort_values(ascending=False)[:2]"
   ]
  },
  {
   "cell_type": "code",
   "execution_count": 16,
   "id": "27eea5ec-3411-4bea-bce7-2e3d3a39c8cc",
   "metadata": {},
   "outputs": [
    {
     "data": {
      "text/plain": [
       "<AxesSubplot:xlabel='infant deaths', ylabel='Population'>"
      ]
     },
     "execution_count": 16,
     "metadata": {},
     "output_type": "execute_result"
    },
    {
     "data": {
      "image/png": "[encoded data removed]",
      "text/plain": [
       "<Figure size 432x288 with 1 Axes>"
      ]
     },
     "metadata": {
      "needs_background": "light"
     },
     "output_type": "display_data"
    }
   ],
   "source": [
    "sns.scatterplot(x=life_data['infant deaths'],y=life_data['Population'])"
   ]
  },
  {
   "cell_type": "code",
   "execution_count": 17,
   "id": "02f71998-2dff-41b0-b59c-6a8814cf73bb",
   "metadata": {},
   "outputs": [
    {
     "data": {
      "text/plain": [
       "[9049586.334287006,\n",
       " 54981415.85714286,\n",
       " 345269128.6666667,\n",
       " 1144077390.0,\n",
       " 50957181.75]"
      ]
     },
     "execution_count": 17,
     "metadata": {},
     "output_type": "execute_result"
    }
   ],
   "source": [
    "val_list = []\n",
    "val_list.append(life_data[life_data['infant deaths'] <= 250]['Population'].mean())\n",
    "val_list.append(life_data[(250 < life_data['infant deaths']) & (life_data['infant deaths'] <= 750)]['Population'].mean())\n",
    "val_list.append(life_data[(750 < life_data['infant deaths']) & (life_data['infant deaths'] <= 1400)]['Population'].mean())\n",
    "val_list.append(life_data[(1400 < life_data['infant deaths']) & (life_data['infant deaths'] <= 1600)]['Population'].mean())\n",
    "val_list.append(life_data[life_data['infant deaths'] > 1600]['Population'].mean())\n",
    "\n",
    "val_list"
   ]
  },
  {
   "cell_type": "code",
   "execution_count": 19,
   "id": "0d71ee15-0c50-4ed7-8175-d8796b94a36f",
   "metadata": {},
   "outputs": [],
   "source": [
    "def impute_pop(col):\n",
    "    p = col[0]\n",
    "    i = col[1]\n",
    "    if pd.isnull(p):\n",
    "        if i <= 250:\n",
    "            return val_list[0]\n",
    "        elif 250 < i <= 750:\n",
    "            return val_list[1]\n",
    "        elif 750 < i <= 1400:\n",
    "            return val_list[2]\n",
    "        elif 1400 < i <= 1600:\n",
    "            return val_list[3]\n",
    "        elif i > 1600:\n",
    "            return val_list[4]\n",
    "        \n",
    "    else:\n",
    "        return p\n",
    "    \n",
    "life_data['Population'] = life_data[['Population', 'infant deaths']].apply(impute_pop, axis=1)\n",
    "#data['Alcohol']=data[['Alcohol','Schooling']].apply(impute_Alcohol,axis=1)"
   ]
  },
  {
   "cell_type": "code",
   "execution_count": 20,
   "id": "818d24f1-d6ce-4d31-8b56-98a58689cbdf",
   "metadata": {},
   "outputs": [
    {
     "data": {
      "text/plain": [
       "Country                              0\n",
       " thinness 5-9 years                  0\n",
       " thinness  1-19 years                0\n",
       "Population                           0\n",
       " HIV/AIDS                            0\n",
       "Diphtheria                           0\n",
       "Polio                                0\n",
       " BMI                                 0\n",
       "under-five deaths                    0\n",
       "percentage expenditure               0\n",
       "infant deaths                        0\n",
       "Adult Mortality                      0\n",
       "Status                               0\n",
       "Year                                 0\n",
       "Measles                              0\n",
       "Schooling                          163\n",
       "Income composition of resources    167\n",
       "Alcohol                            194\n",
       "Total expenditure                  226\n",
       "GDP                                448\n",
       "Hepatitis B                        542\n",
       "dtype: int64"
      ]
     },
     "execution_count": 20,
     "metadata": {},
     "output_type": "execute_result"
    }
   ],
   "source": [
    "life_data.isnull().sum().sort_values()"
   ]
  },
  {
   "cell_type": "code",
   "execution_count": 21,
   "id": "96debc2b-dc23-44bd-a657-e60d32e378e6",
   "metadata": {},
   "outputs": [
    {
     "data": {
      "text/plain": [
       "GDP                       1.000000\n",
       "percentage expenditure    0.899258\n",
       "Name: GDP, dtype: float64"
      ]
     },
     "execution_count": 21,
     "metadata": {},
     "output_type": "execute_result"
    }
   ],
   "source": [
    "corr_data['GDP'].sort_values(ascending=False)[:2]"
   ]
  },
  {
   "cell_type": "code",
   "execution_count": 22,
   "id": "968d6222-960f-41cd-a554-bd26abaf8393",
   "metadata": {},
   "outputs": [
    {
     "data": {
      "text/plain": [
       "<AxesSubplot:xlabel='percentage expenditure', ylabel='GDP'>"
      ]
     },
     "execution_count": 22,
     "metadata": {},
     "output_type": "execute_result"
    },
    {
     "data": {
      "image/png": "[encoded data removed]",
      "text/plain": [
       "<Figure size 432x288 with 1 Axes>"
      ]
     },
     "metadata": {
      "needs_background": "light"
     },
     "output_type": "display_data"
    }
   ],
   "source": [
    "sns.scatterplot(x=life_data['percentage expenditure'],y=life_data['GDP'])"
   ]
  },
  {
   "cell_type": "code",
   "execution_count": null,
   "id": "ade822eb-c716-4343-bab7-6968a1faaa6f",
   "metadata": {},
   "outputs": [],
   "source": [
    "val_list = []\n",
    "val_list.append(life_data[life_data['percentage expenditure'] <= 2500]['GDP'].mean())\n",
    "val_list.append(life_data[(2500 < life_data['percentage expenditure']) & (life_data['percentage expenditure'] <= 7500)]['GDP'].mean())\n",
    "val_list.append(life_data[(7500 < life_data['percentage expenditure']) & (life_data['percentage expenditure'] <= 15000)]['GDP'].mean())\n",
    "val_list.append(life_data[life_data['percentage expenditure'] > 15000]['GDP'].mean())\n",
    "\n",
    "val_list"
   ]
  },
  {
   "cell_type": "code",
   "execution_count": 24,
   "id": "e446aab8-be8c-4a1d-982c-d2deab6bb7af",
   "metadata": {},
   "outputs": [],
   "source": [
    "def impute_gdp(col):\n",
    "    gdp = col[0]\n",
    "    pe = col[1]\n",
    "    if pd.isnull(gdp):\n",
    "        if pe <= 2500:\n",
    "            return val_list[0]\n",
    "        elif 2500 < pe <= 7500:\n",
    "            return val_list[1]\n",
    "        elif 7500 < i <= 15000:\n",
    "            return val_list[2]\n",
    "        elif i > 15000:\n",
    "            return val_list[3]\n",
    "        \n",
    "    else:\n",
    "        return gdp\n",
    "    \n",
    "life_data['GDP'] = life_data[['GDP', 'percentage expenditure']].apply(impute_gdp, axis=1)\n"
   ]
  },
  {
   "cell_type": "code",
   "execution_count": 25,
   "id": "0f1f0339-e9fb-405b-9553-de72139b993c",
   "metadata": {},
   "outputs": [
    {
     "data": {
      "text/plain": [
       "Country                              0\n",
       " thinness 5-9 years                  0\n",
       " thinness  1-19 years                0\n",
       "Population                           0\n",
       "GDP                                  0\n",
       " HIV/AIDS                            0\n",
       "Diphtheria                           0\n",
       "Polio                                0\n",
       " BMI                                 0\n",
       "under-five deaths                    0\n",
       "percentage expenditure               0\n",
       "infant deaths                        0\n",
       "Adult Mortality                      0\n",
       "Status                               0\n",
       "Year                                 0\n",
       "Measles                              0\n",
       "Schooling                          163\n",
       "Income composition of resources    167\n",
       "Alcohol                            194\n",
       "Total expenditure                  226\n",
       "Hepatitis B                        542\n",
       "dtype: int64"
      ]
     },
     "execution_count": 25,
     "metadata": {},
     "output_type": "execute_result"
    }
   ],
   "source": [
    "life_data.isnull().sum().sort_values()"
   ]
  },
  {
   "cell_type": "code",
   "execution_count": 26,
   "id": "d3d7744f-1a8b-4776-aa16-bd311fbc79bd",
   "metadata": {},
   "outputs": [
    {
     "data": {
      "text/plain": [
       "Hepatitis B    1.00000\n",
       "Diphtheria     0.60976\n",
       "Name: Hepatitis B, dtype: float64"
      ]
     },
     "execution_count": 26,
     "metadata": {},
     "output_type": "execute_result"
    }
   ],
   "source": [
    "corr_data['Hepatitis B'].sort_values(ascending=False)[:2]"
   ]
  },
  {
   "cell_type": "code",
   "execution_count": 27,
   "id": "0b47114c-39b2-4d11-b643-01b3b1ace08f",
   "metadata": {},
   "outputs": [
    {
     "data": {
      "text/plain": [
       "<AxesSubplot:xlabel='Diphtheria ', ylabel='Hepatitis B'>"
      ]
     },
     "execution_count": 27,
     "metadata": {},
     "output_type": "execute_result"
    },
    {
     "data": {
      "image/png": "[encoded data removed]",
      "text/plain": [
       "<Figure size 432x288 with 1 Axes>"
      ]
     },
     "metadata": {
      "needs_background": "light"
     },
     "output_type": "display_data"
    }
   ],
   "source": [
    "sns.scatterplot(x=life_data['Diphtheria '],y=life_data['Hepatitis B'])"
   ]
  },
  {
   "cell_type": "code",
   "execution_count": 28,
   "id": "97fb58eb-0d6f-4568-8593-19f74e27f143",
   "metadata": {},
   "outputs": [
    {
     "data": {
      "text/plain": [
       "[36.479674796747965, 45.303030303030305, 63.759643916913944, 88.39816315505132]"
      ]
     },
     "execution_count": 28,
     "metadata": {},
     "output_type": "execute_result"
    }
   ],
   "source": [
    "val_list = []\n",
    "val_list.append(life_data[life_data['Diphtheria '] <= 20]['Hepatitis B'].mean())\n",
    "val_list.append(life_data[(20 < life_data['Diphtheria ']) & (life_data['Diphtheria '] <= 60)]['Hepatitis B'].mean())\n",
    "val_list.append(life_data[(60 < life_data['Diphtheria ']) & (life_data['Diphtheria '] <= 80)]['Hepatitis B'].mean())\n",
    "val_list.append(life_data[life_data['Diphtheria '] > 80]['Hepatitis B'].mean())\n",
    "\n",
    "val_list"
   ]
  },
  {
   "cell_type": "code",
   "execution_count": 29,
   "id": "00a4a9a6-90e6-40c2-be47-44945b29a1f8",
   "metadata": {},
   "outputs": [],
   "source": [
    "def impute_hepatitis(col):\n",
    "    hep = col[0]\n",
    "    dp = col[1]\n",
    "    if pd.isnull(hep):\n",
    "        if dp <= 20:\n",
    "            return val_list[0]\n",
    "        elif 20 < dp <= 60:\n",
    "            return val_list[1]\n",
    "        elif 60 < dp <= 80:\n",
    "            return val_list[2]\n",
    "        elif dp > 80:\n",
    "            return val_list[3]\n",
    "        \n",
    "    else:\n",
    "        return hep\n",
    "    \n",
    "life_data['Hepatitis B'] = life_data[['Hepatitis B', 'Diphtheria ']].apply(impute_hepatitis, axis=1)"
   ]
  },
  {
   "cell_type": "code",
   "execution_count": 30,
   "id": "5ebc6300-155c-494c-8140-1cb83b54b20a",
   "metadata": {},
   "outputs": [
    {
     "data": {
      "text/plain": [
       "Country                              0\n",
       " thinness 5-9 years                  0\n",
       " thinness  1-19 years                0\n",
       "Population                           0\n",
       "GDP                                  0\n",
       " HIV/AIDS                            0\n",
       "Diphtheria                           0\n",
       "Polio                                0\n",
       " BMI                                 0\n",
       "under-five deaths                    0\n",
       "Hepatitis B                          0\n",
       "percentage expenditure               0\n",
       "infant deaths                        0\n",
       "Adult Mortality                      0\n",
       "Status                               0\n",
       "Year                                 0\n",
       "Measles                              0\n",
       "Schooling                          163\n",
       "Income composition of resources    167\n",
       "Alcohol                            194\n",
       "Total expenditure                  226\n",
       "dtype: int64"
      ]
     },
     "execution_count": 30,
     "metadata": {},
     "output_type": "execute_result"
    }
   ],
   "source": [
    "life_data.isnull().sum().sort_values()"
   ]
  },
  {
   "cell_type": "code",
   "execution_count": 31,
   "id": "cad0b01e-8d07-4712-8584-3c1c714fa086",
   "metadata": {},
   "outputs": [
    {
     "data": {
      "text/plain": [
       "Alcohol                            1.000000\n",
       "Schooling                          0.548217\n",
       "Income composition of resources    0.449940\n",
       "Name: Alcohol, dtype: float64"
      ]
     },
     "execution_count": 31,
     "metadata": {},
     "output_type": "execute_result"
    }
   ],
   "source": [
    "corr_data['Alcohol'].sort_values(ascending=False)[:3]"
   ]
  },
  {
   "cell_type": "code",
   "execution_count": 32,
   "id": "331c183c-7631-4678-aada-452692d7ac43",
   "metadata": {},
   "outputs": [
    {
     "data": {
      "text/plain": [
       "<AxesSubplot:xlabel='Schooling', ylabel='Alcohol'>"
      ]
     },
     "execution_count": 32,
     "metadata": {},
     "output_type": "execute_result"
    },
    {
     "data": {
      "image/png": "[encoded data removed]",
      "text/plain": [
       "<Figure size 432x288 with 1 Axes>"
      ]
     },
     "metadata": {
      "needs_background": "light"
     },
     "output_type": "display_data"
    }
   ],
   "source": [
    "sns.scatterplot(x=life_data['Schooling'],y=life_data['Alcohol'])"
   ]
  },
  {
   "cell_type": "code",
   "execution_count": 33,
   "id": "ba623339-0a93-4d08-9162-516143115ce9",
   "metadata": {},
   "outputs": [
    {
     "data": {
      "text/plain": [
       "[3.433529411764705, 1.3492660550458704, 4.284323809523827, 9.655932203389833]"
      ]
     },
     "execution_count": 33,
     "metadata": {},
     "output_type": "execute_result"
    }
   ],
   "source": [
    "val_list = []\n",
    "val_list.append(life_data[life_data['Schooling'] <= 2.5]['Alcohol'].mean())\n",
    "val_list.append(life_data[(2.5 < life_data['Schooling']) & (life_data['Schooling'] <= 7.5)]['Alcohol'].mean())\n",
    "val_list.append(life_data[(7.5 < life_data['Schooling']) & (life_data['Schooling'] <= 16)]['Alcohol'].mean())\n",
    "val_list.append(life_data[life_data['Schooling'] > 16]['Alcohol'].mean())\n",
    "\n",
    "val_list"
   ]
  },
  {
   "cell_type": "code",
   "execution_count": 34,
   "id": "e59f15d5-0938-480b-bf37-48b307cce18f",
   "metadata": {},
   "outputs": [],
   "source": [
    "def impute_alcohol(col):\n",
    "    alc = col[0]\n",
    "    sc = col[1]\n",
    "    if pd.isnull(alc):\n",
    "        if sc <= 2.5:\n",
    "            return val_list[0]\n",
    "        elif 2.5 < sc <= 7.5:\n",
    "            return val_list[1]\n",
    "        elif 7.5 < sc <= 16:\n",
    "            return val_list[2]\n",
    "        elif sc > 16:\n",
    "            return val_list[3]\n",
    "        \n",
    "    else:\n",
    "        return alc\n",
    "    \n",
    "life_data['Alcohol'] = life_data[['Alcohol', 'Schooling']].apply(impute_alcohol, axis=1)"
   ]
  },
  {
   "cell_type": "code",
   "execution_count": 35,
   "id": "81e6b008-0277-408a-ad46-60b8cd63fde2",
   "metadata": {},
   "outputs": [
    {
     "data": {
      "text/plain": [
       "Country                              0\n",
       " thinness 5-9 years                  0\n",
       " thinness  1-19 years                0\n",
       "Population                           0\n",
       "GDP                                  0\n",
       " HIV/AIDS                            0\n",
       "Diphtheria                           0\n",
       "Polio                                0\n",
       " BMI                                 0\n",
       "under-five deaths                    0\n",
       "Hepatitis B                          0\n",
       "percentage expenditure               0\n",
       "infant deaths                        0\n",
       "Adult Mortality                      0\n",
       "Status                               0\n",
       "Year                                 0\n",
       "Measles                              0\n",
       "Alcohol                              9\n",
       "Schooling                          163\n",
       "Income composition of resources    167\n",
       "Total expenditure                  226\n",
       "dtype: int64"
      ]
     },
     "execution_count": 35,
     "metadata": {},
     "output_type": "execute_result"
    }
   ],
   "source": [
    "life_data.isnull().sum().sort_values()"
   ]
  },
  {
   "cell_type": "code",
   "execution_count": 36,
   "id": "a300ae93-c7fa-4df3-abbd-bf40caefde54",
   "metadata": {},
   "outputs": [],
   "source": [
    "life_data['Alcohol'] = life_data['Alcohol'].fillna(value=life_data['Alcohol'].mean())"
   ]
  },
  {
   "cell_type": "code",
   "execution_count": 37,
   "id": "c6fad212-03d7-462f-b7db-a2b7412ab5bf",
   "metadata": {},
   "outputs": [
    {
     "data": {
      "text/plain": [
       "0"
      ]
     },
     "execution_count": 37,
     "metadata": {},
     "output_type": "execute_result"
    }
   ],
   "source": [
    "life_data['Alcohol'].isnull().sum()"
   ]
  },
  {
   "cell_type": "code",
   "execution_count": 38,
   "id": "ef7f5aca-138e-45e5-856a-a1e841893daf",
   "metadata": {},
   "outputs": [
    {
     "data": {
      "text/plain": [
       "Total expenditure    1.000000\n",
       "Alcohol              0.300043\n",
       "Schooling            0.257073\n",
       "Name: Total expenditure, dtype: float64"
      ]
     },
     "execution_count": 38,
     "metadata": {},
     "output_type": "execute_result"
    }
   ],
   "source": [
    "corr_data['Total expenditure'].sort_values(ascending=False)[:3]"
   ]
  },
  {
   "cell_type": "code",
   "execution_count": 39,
   "id": "edbc398c-c1b0-411e-9ae7-bb10191c3cae",
   "metadata": {},
   "outputs": [
    {
     "data": {
      "text/plain": [
       "<AxesSubplot:xlabel='Alcohol', ylabel='Total expenditure'>"
      ]
     },
     "execution_count": 39,
     "metadata": {},
     "output_type": "execute_result"
    },
    {
     "data": {
      "image/png": "[encoded data removed]",
      "text/plain": [
       "<Figure size 432x288 with 1 Axes>"
      ]
     },
     "metadata": {
      "needs_background": "light"
     },
     "output_type": "display_data"
    }
   ],
   "source": [
    "sns.scatterplot(x=life_data['Alcohol'],y=life_data['Total expenditure'])"
   ]
  },
  {
   "cell_type": "code",
   "execution_count": 40,
   "id": "cc2de9d5-b7a5-4272-b12b-e7841cc1ae98",
   "metadata": {},
   "outputs": [
    {
     "data": {
      "text/plain": [
       "[5.0828494623655835,\n",
       " 6.1197202797202666,\n",
       " 7.15888252148997,\n",
       " 6.880167130919221,\n",
       " 5.8136363636363635]"
      ]
     },
     "execution_count": 40,
     "metadata": {},
     "output_type": "execute_result"
    }
   ],
   "source": [
    "val_list = []\n",
    "val_list.append(life_data[life_data['Alcohol'] <= 2.5]['Total expenditure'].mean())\n",
    "val_list.append(life_data[(2.5 < life_data['Alcohol']) & (life_data['Alcohol'] <= 7.5)]['Total expenditure'].mean())\n",
    "val_list.append(life_data[(7.5 < life_data['Alcohol']) & (life_data['Alcohol'] <= 10)]['Total expenditure'].mean())\n",
    "val_list.append(life_data[(10 < life_data['Alcohol']) & (life_data['Alcohol'] <= 15)]['Total expenditure'].mean())\n",
    "val_list.append(life_data[life_data['Alcohol'] > 15]['Total expenditure'].mean())\n",
    "\n",
    "val_list"
   ]
  },
  {
   "cell_type": "code",
   "execution_count": 41,
   "id": "8be50b4d-f6e6-431d-84de-4b29f23cb91c",
   "metadata": {},
   "outputs": [],
   "source": [
    "def impute_expenditure(col):\n",
    "    te = col[0]\n",
    "    alc = col[1]\n",
    "    if pd.isnull(te):\n",
    "        if alc <= 2.5:\n",
    "            return val_list[0]\n",
    "        elif 2.5 < alc <= 7.5:\n",
    "            return val_list[1]\n",
    "        elif 7.5 < alc <= 10:\n",
    "            return val_list[2]\n",
    "        elif 10 < alc <= 15:\n",
    "            return val_list[3]\n",
    "        elif alc > 15:\n",
    "            return val_list[4]\n",
    "        \n",
    "    else:\n",
    "        return te\n",
    "    \n",
    "life_data['Total expenditure'] = life_data[['Total expenditure', 'Alcohol']].apply(impute_expenditure, axis=1)"
   ]
  },
  {
   "cell_type": "code",
   "execution_count": 42,
   "id": "b28e7c64-bd57-44d2-95a9-3c0dda6cbd73",
   "metadata": {},
   "outputs": [
    {
     "data": {
      "text/plain": [
       "0"
      ]
     },
     "execution_count": 42,
     "metadata": {},
     "output_type": "execute_result"
    }
   ],
   "source": [
    "life_data['Total expenditure'].isnull().sum()"
   ]
  },
  {
   "cell_type": "code",
   "execution_count": 43,
   "id": "13eadfaa-819f-439a-a33c-5e0d626e9aa3",
   "metadata": {},
   "outputs": [
    {
     "data": {
      "text/plain": [
       "Schooling                          1.000000\n",
       "Income composition of resources    0.799056\n",
       "Alcohol                            0.548217\n",
       "Name: Schooling, dtype: float64"
      ]
     },
     "execution_count": 43,
     "metadata": {},
     "output_type": "execute_result"
    }
   ],
   "source": [
    "corr_data['Schooling'].sort_values(ascending=False)[:3]"
   ]
  },
  {
   "cell_type": "code",
   "execution_count": 44,
   "id": "8781996d-d714-4eaf-bbeb-0dcab9d18457",
   "metadata": {},
   "outputs": [
    {
     "data": {
      "text/plain": [
       "432    NaN\n",
       "433    NaN\n",
       "434    NaN\n",
       "435    NaN\n",
       "436    NaN\n",
       "        ..\n",
       "2805   NaN\n",
       "2806   NaN\n",
       "2807   NaN\n",
       "2808   NaN\n",
       "2809   NaN\n",
       "Name: Income composition of resources, Length: 163, dtype: float64"
      ]
     },
     "execution_count": 44,
     "metadata": {},
     "output_type": "execute_result"
    }
   ],
   "source": [
    "life_data[life_data['Schooling'].isnull()]['Income composition of resources']"
   ]
  },
  {
   "cell_type": "code",
   "execution_count": 45,
   "id": "d938e63c-faf0-4262-b4bf-e8e25858d858",
   "metadata": {},
   "outputs": [
    {
     "data": {
      "text/plain": [
       "Income composition of resources    1.000000\n",
       "Schooling                          0.799056\n",
       " BMI                               0.494852\n",
       "GDP                                0.458760\n",
       "Name: Income composition of resources, dtype: float64"
      ]
     },
     "execution_count": 45,
     "metadata": {},
     "output_type": "execute_result"
    }
   ],
   "source": [
    "# schooling and income are missing the same data so i cant use one to impute the other\n",
    "corr_data['Income composition of resources'].sort_values(ascending=False)[:4]"
   ]
  },
  {
   "cell_type": "code",
   "execution_count": 47,
   "id": "217ac5af-4388-4c4a-a597-f6fcea4281fc",
   "metadata": {},
   "outputs": [
    {
     "data": {
      "text/plain": [
       "<AxesSubplot:xlabel=' BMI ', ylabel='Income composition of resources'>"
      ]
     },
     "execution_count": 47,
     "metadata": {},
     "output_type": "execute_result"
    },
    {
     "data": {
      "image/png": "[encoded data removed]",
      "text/plain": [
       "<Figure size 432x288 with 1 Axes>"
      ]
     },
     "metadata": {
      "needs_background": "light"
     },
     "output_type": "display_data"
    }
   ],
   "source": [
    "sns.scatterplot(x=life_data[' BMI '],y=life_data['Income composition of resources'])"
   ]
  },
  {
   "cell_type": "code",
   "execution_count": 48,
   "id": "678ef626-f142-4118-b7bb-4e11c80ec4f8",
   "metadata": {},
   "outputs": [
    {
     "data": {
      "text/plain": [
       "[0.6340725190839698,\n",
       " 0.47100501253132865,\n",
       " 0.5830695364238418,\n",
       " 0.7739319470699435,\n",
       " 0.6216666666666667]"
      ]
     },
     "execution_count": 48,
     "metadata": {},
     "output_type": "execute_result"
    }
   ],
   "source": [
    "val_list = []\n",
    "val_list.append(life_data[life_data[' BMI '] <= 10]['Income composition of resources'].mean())\n",
    "val_list.append(life_data[(10 < life_data[' BMI ']) & (life_data[' BMI '] <= 30)]['Income composition of resources'].mean())\n",
    "val_list.append(life_data[(30 < life_data[' BMI ']) & (life_data[' BMI '] <= 50)]['Income composition of resources'].mean())\n",
    "val_list.append(life_data[(50 < life_data[' BMI ']) & (life_data[' BMI '] <= 70)]['Income composition of resources'].mean())\n",
    "val_list.append(life_data[life_data[' BMI '] > 70]['Income composition of resources'].mean())\n",
    "\n",
    "val_list"
   ]
  },
  {
   "cell_type": "code",
   "execution_count": 49,
   "id": "ffa8add8-2e8d-46d6-b0fd-5a7d9f222c8c",
   "metadata": {},
   "outputs": [],
   "source": [
    "def impute_income(col):\n",
    "    inc = col[0]\n",
    "    bmi = col[1]\n",
    "    if pd.isnull(inc):\n",
    "        if bmi <= 10:\n",
    "            return val_list[0]\n",
    "        elif 10 < bmi <= 30:\n",
    "            return val_list[1]\n",
    "        elif 30 < bmi <= 50:\n",
    "            return val_list[2]\n",
    "        elif 50 < bmi <= 70:\n",
    "            return val_list[3]\n",
    "        elif bmi > 70:\n",
    "            return val_list[4]\n",
    "        \n",
    "    else:\n",
    "        return inc\n",
    "    \n",
    "life_data['Income composition of resources'] = life_data[['Income composition of resources', ' BMI ']].apply(impute_income, axis=1)"
   ]
  },
  {
   "cell_type": "code",
   "execution_count": 50,
   "id": "e8f01eb5-0cdd-435c-af7e-477625a46fe4",
   "metadata": {},
   "outputs": [
    {
     "data": {
      "text/plain": [
       "Country                              0\n",
       " thinness 5-9 years                  0\n",
       " thinness  1-19 years                0\n",
       "Population                           0\n",
       "GDP                                  0\n",
       " HIV/AIDS                            0\n",
       "Diphtheria                           0\n",
       "Total expenditure                    0\n",
       "Polio                                0\n",
       "Income composition of resources      0\n",
       "under-five deaths                    0\n",
       "Measles                              0\n",
       "Hepatitis B                          0\n",
       "percentage expenditure               0\n",
       "Alcohol                              0\n",
       "infant deaths                        0\n",
       "Adult Mortality                      0\n",
       "Status                               0\n",
       "Year                                 0\n",
       " BMI                                 0\n",
       "Schooling                          163\n",
       "dtype: int64"
      ]
     },
     "execution_count": 50,
     "metadata": {},
     "output_type": "execute_result"
    }
   ],
   "source": [
    "life_data.isnull().sum().sort_values()"
   ]
  },
  {
   "cell_type": "code",
   "execution_count": 51,
   "id": "8ee88172-64cd-4355-b9f4-ff1ef99cb6d0",
   "metadata": {},
   "outputs": [
    {
     "data": {
      "text/plain": [
       "<AxesSubplot:xlabel='Income composition of resources', ylabel='Schooling'>"
      ]
     },
     "execution_count": 51,
     "metadata": {},
     "output_type": "execute_result"
    },
    {
     "data": {
      "image/png": "[encoded data removed]",
      "text/plain": [
       "<Figure size 432x288 with 1 Axes>"
      ]
     },
     "metadata": {
      "needs_background": "light"
     },
     "output_type": "display_data"
    }
   ],
   "source": [
    "sns.scatterplot(x=life_data['Income composition of resources'],y=life_data['Schooling'])"
   ]
  },
  {
   "cell_type": "code",
   "execution_count": 52,
   "id": "5e5bc525-e28c-498a-b032-14687a855010",
   "metadata": {},
   "outputs": [
    {
     "data": {
      "text/plain": [
       "[8.10230769230769,\n",
       " 6.629885057471262,\n",
       " 9.373478260869572,\n",
       " 12.939241549876336,\n",
       " 15.913843351548257]"
      ]
     },
     "execution_count": 52,
     "metadata": {},
     "output_type": "execute_result"
    }
   ],
   "source": [
    "val_list = []\n",
    "val_list.append(life_data[life_data['Income composition of resources'] <= 0.2]['Schooling'].mean())\n",
    "val_list.append(life_data[(0.2 < life_data['Income composition of resources']) & (life_data['Income composition of resources'] <= 0.4)]['Schooling'].mean())\n",
    "val_list.append(life_data[(0.4 < life_data['Income composition of resources']) & (life_data['Income composition of resources'] <= 0.6)]['Schooling'].mean())\n",
    "val_list.append(life_data[(0.6 < life_data['Income composition of resources']) & (life_data['Income composition of resources'] <= 0.8)]['Schooling'].mean())\n",
    "val_list.append(life_data[life_data['Income composition of resources'] > 0.8]['Schooling'].mean())\n",
    "\n",
    "val_list"
   ]
  },
  {
   "cell_type": "code",
   "execution_count": 53,
   "id": "413cdf4e-d3f7-4485-9d6e-f9f711b6da85",
   "metadata": {},
   "outputs": [],
   "source": [
    "def impute_schooling(col):\n",
    "    sc = col[0]\n",
    "    inc = col[1]\n",
    "    if pd.isnull(sc):\n",
    "        if inc <= 0.2:\n",
    "            return val_list[0]\n",
    "        elif 0.2 < inc <= 0.4:\n",
    "            return val_list[1]\n",
    "        elif 0.4 < inc <= 0.6:\n",
    "            return val_list[2]\n",
    "        elif 0.6 < inc <= 0.8:\n",
    "            return val_list[3]\n",
    "        elif inc > 0.8:\n",
    "            return val_list[4]\n",
    "        \n",
    "    else:\n",
    "        return sc\n",
    "    \n",
    "life_data['Schooling'] = life_data[['Schooling','Income composition of resources']].apply(impute_schooling, axis=1)"
   ]
  },
  {
   "cell_type": "code",
   "execution_count": 54,
   "id": "501ec7ce-71c3-4898-9ad7-88f8d4c3f16b",
   "metadata": {},
   "outputs": [
    {
     "data": {
      "text/plain": [
       "Country                            0\n",
       " thinness 5-9 years                0\n",
       " thinness  1-19 years              0\n",
       "Population                         0\n",
       "GDP                                0\n",
       " HIV/AIDS                          0\n",
       "Diphtheria                         0\n",
       "Total expenditure                  0\n",
       "Polio                              0\n",
       "Income composition of resources    0\n",
       "under-five deaths                  0\n",
       "Measles                            0\n",
       "Hepatitis B                        0\n",
       "percentage expenditure             0\n",
       "Alcohol                            0\n",
       "infant deaths                      0\n",
       "Adult Mortality                    0\n",
       "Status                             0\n",
       "Year                               0\n",
       " BMI                               0\n",
       "Schooling                          0\n",
       "dtype: int64"
      ]
     },
     "execution_count": 54,
     "metadata": {},
     "output_type": "execute_result"
    }
   ],
   "source": [
    "life_data.isnull().sum().sort_values()"
   ]
  },
  {
   "cell_type": "code",
   "execution_count": 55,
   "id": "2056b1a5-113e-4dd9-9e93-fcf69871cbfd",
   "metadata": {},
   "outputs": [
    {
     "data": {
      "text/html": [
       "<div>\n",
       "<style scoped>\n",
       "    .dataframe tbody tr th:only-of-type {\n",
       "        vertical-align: middle;\n",
       "    }\n",
       "\n",
       "    .dataframe tbody tr th {\n",
       "        vertical-align: top;\n",
       "    }\n",
       "\n",
       "    .dataframe thead th {\n",
       "        text-align: right;\n",
       "    }\n",
       "</style>\n",
       "<table border=\"1\" class=\"dataframe\">\n",
       "  <thead>\n",
       "    <tr style=\"text-align: right;\">\n",
       "      <th></th>\n",
       "      <th>Country</th>\n",
       "      <th>Year</th>\n",
       "      <th>Status</th>\n",
       "      <th>Adult Mortality</th>\n",
       "      <th>infant deaths</th>\n",
       "      <th>Alcohol</th>\n",
       "      <th>percentage expenditure</th>\n",
       "      <th>Hepatitis B</th>\n",
       "      <th>Measles</th>\n",
       "      <th>BMI</th>\n",
       "      <th>...</th>\n",
       "      <th>Polio</th>\n",
       "      <th>Total expenditure</th>\n",
       "      <th>Diphtheria</th>\n",
       "      <th>HIV/AIDS</th>\n",
       "      <th>GDP</th>\n",
       "      <th>Population</th>\n",
       "      <th>thinness  1-19 years</th>\n",
       "      <th>thinness 5-9 years</th>\n",
       "      <th>Income composition of resources</th>\n",
       "      <th>Schooling</th>\n",
       "    </tr>\n",
       "  </thead>\n",
       "  <tbody>\n",
       "    <tr>\n",
       "      <th>2929</th>\n",
       "      <td>Zimbabwe</td>\n",
       "      <td>2008</td>\n",
       "      <td>1</td>\n",
       "      <td>632.0</td>\n",
       "      <td>30</td>\n",
       "      <td>3.56</td>\n",
       "      <td>20.843429</td>\n",
       "      <td>75.0</td>\n",
       "      <td>0</td>\n",
       "      <td>28.6</td>\n",
       "      <td>...</td>\n",
       "      <td>75.0</td>\n",
       "      <td>4.96</td>\n",
       "      <td>75.0</td>\n",
       "      <td>20.5</td>\n",
       "      <td>325.678573</td>\n",
       "      <td>13558469.0</td>\n",
       "      <td>7.8</td>\n",
       "      <td>7.8</td>\n",
       "      <td>0.421</td>\n",
       "      <td>9.7</td>\n",
       "    </tr>\n",
       "    <tr>\n",
       "      <th>2930</th>\n",
       "      <td>Zimbabwe</td>\n",
       "      <td>2007</td>\n",
       "      <td>1</td>\n",
       "      <td>67.0</td>\n",
       "      <td>29</td>\n",
       "      <td>3.88</td>\n",
       "      <td>29.814566</td>\n",
       "      <td>72.0</td>\n",
       "      <td>242</td>\n",
       "      <td>28.2</td>\n",
       "      <td>...</td>\n",
       "      <td>73.0</td>\n",
       "      <td>4.47</td>\n",
       "      <td>73.0</td>\n",
       "      <td>23.7</td>\n",
       "      <td>396.998217</td>\n",
       "      <td>1332999.0</td>\n",
       "      <td>8.2</td>\n",
       "      <td>8.2</td>\n",
       "      <td>0.414</td>\n",
       "      <td>9.6</td>\n",
       "    </tr>\n",
       "    <tr>\n",
       "      <th>2931</th>\n",
       "      <td>Zimbabwe</td>\n",
       "      <td>2006</td>\n",
       "      <td>1</td>\n",
       "      <td>7.0</td>\n",
       "      <td>28</td>\n",
       "      <td>4.57</td>\n",
       "      <td>34.262169</td>\n",
       "      <td>68.0</td>\n",
       "      <td>212</td>\n",
       "      <td>27.9</td>\n",
       "      <td>...</td>\n",
       "      <td>71.0</td>\n",
       "      <td>5.12</td>\n",
       "      <td>7.0</td>\n",
       "      <td>26.8</td>\n",
       "      <td>414.796232</td>\n",
       "      <td>13124267.0</td>\n",
       "      <td>8.6</td>\n",
       "      <td>8.6</td>\n",
       "      <td>0.408</td>\n",
       "      <td>9.5</td>\n",
       "    </tr>\n",
       "    <tr>\n",
       "      <th>2936</th>\n",
       "      <td>Zimbabwe</td>\n",
       "      <td>2001</td>\n",
       "      <td>1</td>\n",
       "      <td>686.0</td>\n",
       "      <td>25</td>\n",
       "      <td>1.72</td>\n",
       "      <td>0.000000</td>\n",
       "      <td>76.0</td>\n",
       "      <td>529</td>\n",
       "      <td>25.9</td>\n",
       "      <td>...</td>\n",
       "      <td>76.0</td>\n",
       "      <td>6.16</td>\n",
       "      <td>75.0</td>\n",
       "      <td>42.1</td>\n",
       "      <td>548.587312</td>\n",
       "      <td>12366165.0</td>\n",
       "      <td>1.6</td>\n",
       "      <td>1.7</td>\n",
       "      <td>0.427</td>\n",
       "      <td>9.8</td>\n",
       "    </tr>\n",
       "    <tr>\n",
       "      <th>2937</th>\n",
       "      <td>Zimbabwe</td>\n",
       "      <td>2000</td>\n",
       "      <td>1</td>\n",
       "      <td>665.0</td>\n",
       "      <td>24</td>\n",
       "      <td>1.68</td>\n",
       "      <td>0.000000</td>\n",
       "      <td>79.0</td>\n",
       "      <td>1483</td>\n",
       "      <td>25.5</td>\n",
       "      <td>...</td>\n",
       "      <td>78.0</td>\n",
       "      <td>7.10</td>\n",
       "      <td>78.0</td>\n",
       "      <td>43.5</td>\n",
       "      <td>547.358878</td>\n",
       "      <td>12222251.0</td>\n",
       "      <td>11.0</td>\n",
       "      <td>11.2</td>\n",
       "      <td>0.434</td>\n",
       "      <td>9.8</td>\n",
       "    </tr>\n",
       "  </tbody>\n",
       "</table>\n",
       "<p>5 rows × 21 columns</p>\n",
       "</div>"
      ],
      "text/plain": [
       "       Country  Year  Status  Adult Mortality  infant deaths  Alcohol  \\\n",
       "2929  Zimbabwe  2008       1            632.0             30     3.56   \n",
       "2930  Zimbabwe  2007       1             67.0             29     3.88   \n",
       "2931  Zimbabwe  2006       1              7.0             28     4.57   \n",
       "2936  Zimbabwe  2001       1            686.0             25     1.72   \n",
       "2937  Zimbabwe  2000       1            665.0             24     1.68   \n",
       "\n",
       "      percentage expenditure  Hepatitis B  Measles    BMI   ...  Polio  \\\n",
       "2929               20.843429         75.0         0   28.6  ...   75.0   \n",
       "2930               29.814566         72.0       242   28.2  ...   73.0   \n",
       "2931               34.262169         68.0       212   27.9  ...   71.0   \n",
       "2936                0.000000         76.0       529   25.9  ...   76.0   \n",
       "2937                0.000000         79.0      1483   25.5  ...   78.0   \n",
       "\n",
       "      Total expenditure  Diphtheria    HIV/AIDS         GDP  Population  \\\n",
       "2929               4.96         75.0       20.5  325.678573  13558469.0   \n",
       "2930               4.47         73.0       23.7  396.998217   1332999.0   \n",
       "2931               5.12          7.0       26.8  414.796232  13124267.0   \n",
       "2936               6.16         75.0       42.1  548.587312  12366165.0   \n",
       "2937               7.10         78.0       43.5  547.358878  12222251.0   \n",
       "\n",
       "       thinness  1-19 years   thinness 5-9 years  \\\n",
       "2929                    7.8                  7.8   \n",
       "2930                    8.2                  8.2   \n",
       "2931                    8.6                  8.6   \n",
       "2936                    1.6                  1.7   \n",
       "2937                   11.0                 11.2   \n",
       "\n",
       "      Income composition of resources  Schooling  \n",
       "2929                            0.421        9.7  \n",
       "2930                            0.414        9.6  \n",
       "2931                            0.408        9.5  \n",
       "2936                            0.427        9.8  \n",
       "2937                            0.434        9.8  \n",
       "\n",
       "[5 rows x 21 columns]"
      ]
     },
     "execution_count": 55,
     "metadata": {},
     "output_type": "execute_result"
    }
   ],
   "source": [
    "from sklearn.preprocessing import LabelEncoder\n",
    "\n",
    "status_encoder = LabelEncoder()\n",
    "\n",
    "life_data[\"Status\"] = status_encoder.fit_transform(life_data[\"Status\"])\n",
    "\n",
    "life_data.tail()"
   ]
  },
  {
   "cell_type": "code",
   "execution_count": 56,
   "id": "2d0d60cb-fc2e-40b1-94d4-a6709c46bf56",
   "metadata": {},
   "outputs": [],
   "source": [
    "country_dummy = pd.get_dummies(life_data['Country'])\n",
    "life_data.drop(['Country'],inplace=True,axis=1)\n",
    "life_data =pd.concat([life_data ,country_dummy],axis=1)\n"
   ]
  },
  {
   "cell_type": "code",
   "execution_count": 57,
   "id": "3d692302-28a3-4133-95fd-e60155bc20d5",
   "metadata": {},
   "outputs": [
    {
     "data": {
      "text/html": [
       "<div>\n",
       "<style scoped>\n",
       "    .dataframe tbody tr th:only-of-type {\n",
       "        vertical-align: middle;\n",
       "    }\n",
       "\n",
       "    .dataframe tbody tr th {\n",
       "        vertical-align: top;\n",
       "    }\n",
       "\n",
       "    .dataframe thead th {\n",
       "        text-align: right;\n",
       "    }\n",
       "</style>\n",
       "<table border=\"1\" class=\"dataframe\">\n",
       "  <thead>\n",
       "    <tr style=\"text-align: right;\">\n",
       "      <th></th>\n",
       "      <th>Year</th>\n",
       "      <th>Status</th>\n",
       "      <th>Adult Mortality</th>\n",
       "      <th>infant deaths</th>\n",
       "      <th>Alcohol</th>\n",
       "      <th>percentage expenditure</th>\n",
       "      <th>Hepatitis B</th>\n",
       "      <th>Measles</th>\n",
       "      <th>BMI</th>\n",
       "      <th>under-five deaths</th>\n",
       "      <th>...</th>\n",
       "      <th>United Republic of Tanzania</th>\n",
       "      <th>United States of America</th>\n",
       "      <th>Uruguay</th>\n",
       "      <th>Uzbekistan</th>\n",
       "      <th>Vanuatu</th>\n",
       "      <th>Venezuela (Bolivarian Republic of)</th>\n",
       "      <th>Viet Nam</th>\n",
       "      <th>Yemen</th>\n",
       "      <th>Zambia</th>\n",
       "      <th>Zimbabwe</th>\n",
       "    </tr>\n",
       "  </thead>\n",
       "  <tbody>\n",
       "    <tr>\n",
       "      <th>0</th>\n",
       "      <td>2015</td>\n",
       "      <td>1</td>\n",
       "      <td>263.0</td>\n",
       "      <td>62</td>\n",
       "      <td>0.01</td>\n",
       "      <td>71.279624</td>\n",
       "      <td>65.0</td>\n",
       "      <td>1154</td>\n",
       "      <td>19.1</td>\n",
       "      <td>83</td>\n",
       "      <td>...</td>\n",
       "      <td>0</td>\n",
       "      <td>0</td>\n",
       "      <td>0</td>\n",
       "      <td>0</td>\n",
       "      <td>0</td>\n",
       "      <td>0</td>\n",
       "      <td>0</td>\n",
       "      <td>0</td>\n",
       "      <td>0</td>\n",
       "      <td>0</td>\n",
       "    </tr>\n",
       "    <tr>\n",
       "      <th>1</th>\n",
       "      <td>2014</td>\n",
       "      <td>1</td>\n",
       "      <td>271.0</td>\n",
       "      <td>64</td>\n",
       "      <td>0.01</td>\n",
       "      <td>73.523582</td>\n",
       "      <td>62.0</td>\n",
       "      <td>492</td>\n",
       "      <td>18.6</td>\n",
       "      <td>86</td>\n",
       "      <td>...</td>\n",
       "      <td>0</td>\n",
       "      <td>0</td>\n",
       "      <td>0</td>\n",
       "      <td>0</td>\n",
       "      <td>0</td>\n",
       "      <td>0</td>\n",
       "      <td>0</td>\n",
       "      <td>0</td>\n",
       "      <td>0</td>\n",
       "      <td>0</td>\n",
       "    </tr>\n",
       "    <tr>\n",
       "      <th>2</th>\n",
       "      <td>2013</td>\n",
       "      <td>1</td>\n",
       "      <td>268.0</td>\n",
       "      <td>66</td>\n",
       "      <td>0.01</td>\n",
       "      <td>73.219243</td>\n",
       "      <td>64.0</td>\n",
       "      <td>430</td>\n",
       "      <td>18.1</td>\n",
       "      <td>89</td>\n",
       "      <td>...</td>\n",
       "      <td>0</td>\n",
       "      <td>0</td>\n",
       "      <td>0</td>\n",
       "      <td>0</td>\n",
       "      <td>0</td>\n",
       "      <td>0</td>\n",
       "      <td>0</td>\n",
       "      <td>0</td>\n",
       "      <td>0</td>\n",
       "      <td>0</td>\n",
       "    </tr>\n",
       "    <tr>\n",
       "      <th>3</th>\n",
       "      <td>2012</td>\n",
       "      <td>1</td>\n",
       "      <td>272.0</td>\n",
       "      <td>69</td>\n",
       "      <td>0.01</td>\n",
       "      <td>78.184215</td>\n",
       "      <td>67.0</td>\n",
       "      <td>2787</td>\n",
       "      <td>17.6</td>\n",
       "      <td>93</td>\n",
       "      <td>...</td>\n",
       "      <td>0</td>\n",
       "      <td>0</td>\n",
       "      <td>0</td>\n",
       "      <td>0</td>\n",
       "      <td>0</td>\n",
       "      <td>0</td>\n",
       "      <td>0</td>\n",
       "      <td>0</td>\n",
       "      <td>0</td>\n",
       "      <td>0</td>\n",
       "    </tr>\n",
       "    <tr>\n",
       "      <th>4</th>\n",
       "      <td>2011</td>\n",
       "      <td>1</td>\n",
       "      <td>275.0</td>\n",
       "      <td>71</td>\n",
       "      <td>0.01</td>\n",
       "      <td>7.097109</td>\n",
       "      <td>68.0</td>\n",
       "      <td>3013</td>\n",
       "      <td>17.2</td>\n",
       "      <td>97</td>\n",
       "      <td>...</td>\n",
       "      <td>0</td>\n",
       "      <td>0</td>\n",
       "      <td>0</td>\n",
       "      <td>0</td>\n",
       "      <td>0</td>\n",
       "      <td>0</td>\n",
       "      <td>0</td>\n",
       "      <td>0</td>\n",
       "      <td>0</td>\n",
       "      <td>0</td>\n",
       "    </tr>\n",
       "  </tbody>\n",
       "</table>\n",
       "<p>5 rows × 213 columns</p>\n",
       "</div>"
      ],
      "text/plain": [
       "   Year  Status  Adult Mortality  infant deaths  Alcohol  \\\n",
       "0  2015       1            263.0             62     0.01   \n",
       "1  2014       1            271.0             64     0.01   \n",
       "2  2013       1            268.0             66     0.01   \n",
       "3  2012       1            272.0             69     0.01   \n",
       "4  2011       1            275.0             71     0.01   \n",
       "\n",
       "   percentage expenditure  Hepatitis B  Measles    BMI   under-five deaths   \\\n",
       "0               71.279624         65.0      1154   19.1                  83   \n",
       "1               73.523582         62.0       492   18.6                  86   \n",
       "2               73.219243         64.0       430   18.1                  89   \n",
       "3               78.184215         67.0      2787   17.6                  93   \n",
       "4                7.097109         68.0      3013   17.2                  97   \n",
       "\n",
       "   ...  United Republic of Tanzania  United States of America  Uruguay  \\\n",
       "0  ...                            0                         0        0   \n",
       "1  ...                            0                         0        0   \n",
       "2  ...                            0                         0        0   \n",
       "3  ...                            0                         0        0   \n",
       "4  ...                            0                         0        0   \n",
       "\n",
       "   Uzbekistan  Vanuatu  Venezuela (Bolivarian Republic of)  Viet Nam  Yemen  \\\n",
       "0           0        0                                   0         0      0   \n",
       "1           0        0                                   0         0      0   \n",
       "2           0        0                                   0         0      0   \n",
       "3           0        0                                   0         0      0   \n",
       "4           0        0                                   0         0      0   \n",
       "\n",
       "   Zambia  Zimbabwe  \n",
       "0       0         0  \n",
       "1       0         0  \n",
       "2       0         0  \n",
       "3       0         0  \n",
       "4       0         0  \n",
       "\n",
       "[5 rows x 213 columns]"
      ]
     },
     "execution_count": 57,
     "metadata": {},
     "output_type": "execute_result"
    }
   ],
   "source": [
    "life_data.head()"
   ]
  },
  {
   "cell_type": "code",
   "execution_count": 58,
   "id": "ada80fe0-e7f9-4462-b48d-87a6b3f6d3f2",
   "metadata": {},
   "outputs": [],
   "source": [
    "life_data.drop(['Year'],inplace=True,axis=1)"
   ]
  },
  {
   "cell_type": "code",
   "execution_count": 59,
   "id": "df483d14-b714-4e96-9204-07e6c6c8315c",
   "metadata": {},
   "outputs": [],
   "source": [
    "from sklearn.model_selection import train_test_split\n",
    "y = lifeExpectancy\n",
    "X = life_data\n",
    "\n",
    "X_train, X_test, y_train, y_test = train_test_split(X, y, test_size=0.2)\n"
   ]
  },
  {
   "cell_type": "code",
   "execution_count": 60,
   "id": "819cb711-0638-4ee3-ba30-0f259fbebbbe",
   "metadata": {},
   "outputs": [],
   "source": [
    "from sklearn.preprocessing import StandardScaler\n",
    "scaler = StandardScaler()\n",
    "X_train = scaler.fit_transform(X_train)\n",
    "X_test = scaler.transform(X_test)"
   ]
  },
  {
   "cell_type": "code",
   "execution_count": 61,
   "id": "0cc7a69a-e3ab-4b2f-8f8e-0077878bef77",
   "metadata": {},
   "outputs": [],
   "source": [
    "from sklearn.metrics import mean_squared_error"
   ]
  },
  {
   "cell_type": "code",
   "execution_count": 62,
   "id": "0cee24bd-38e6-4850-8c2e-e483c4252fe0",
   "metadata": {},
   "outputs": [
    {
     "data": {
      "text/plain": [
       "RandomForestRegressor(max_depth=3, n_estimators=50, random_state=0)"
      ]
     },
     "execution_count": 62,
     "metadata": {},
     "output_type": "execute_result"
    }
   ],
   "source": [
    "from sklearn.ensemble import RandomForestRegressor # tool for building random forest models\n",
    "\n",
    "RFR = RandomForestRegressor(n_estimators=50, random_state=0, max_depth=3)\n",
    "RFR.fit(X_train, y_train)\n"
   ]
  },
  {
   "cell_type": "code",
   "execution_count": 63,
   "id": "d4bd3f28-d748-4dcc-8a1d-4ca05f318cc5",
   "metadata": {},
   "outputs": [
    {
     "data": {
      "text/plain": [
       "array([81.29084369, 72.23678352, 68.25539798, 54.97527001, 64.42124419,\n",
       "       54.28785509, 72.14846822, 72.31923472, 81.21682937, 75.73674383])"
      ]
     },
     "execution_count": 63,
     "metadata": {},
     "output_type": "execute_result"
    }
   ],
   "source": [
    "# random forrest regression prediction\n",
    "y_pred1 = RFR.predict(X_test)\n",
    "y_pred1[0:10]"
   ]
  },
  {
   "cell_type": "code",
   "execution_count": 64,
   "id": "725a3efd-9b8b-42f7-a3a4-74eddc9328a9",
   "metadata": {},
   "outputs": [
    {
     "name": "stdout",
     "output_type": "stream",
     "text": [
      "RFR Scores:  [0.8335423  0.87346497 0.84237389 0.86808339 0.85162378]\n",
      "RFR Cross Val Score:  0.8538176647159309\n",
      "Mean_squared_error:  3.6354020398564524\n"
     ]
    }
   ],
   "source": [
    "# random forrest regression evaluation\n",
    "\n",
    "from sklearn.model_selection import cross_val_score \n",
    "RFRscore = cross_val_score(RFR,X_train,y_train,cv=5) # plugs test data into the RFR model and measures the success rate\n",
    "print('RFR Scores: ', RFRscore)\n",
    "print('RFR Cross Val Score: ', RFRscore.mean())\n",
    "print('Mean_squared_error: ',mean_squared_error(y_test, y_pred1)**(0.5))"
   ]
  },
  {
   "cell_type": "code",
   "execution_count": 65,
   "id": "af1225eb-5d16-457a-9b30-e4c599399841",
   "metadata": {},
   "outputs": [
    {
     "data": {
      "text/plain": [
       "Ridge()"
      ]
     },
     "execution_count": 65,
     "metadata": {},
     "output_type": "execute_result"
    }
   ],
   "source": [
    "# use the ridge regression \n",
    "from sklearn.linear_model import Ridge\n",
    "ridge_model=Ridge()\n",
    "ridge_model.fit(X_train,y_train)"
   ]
  },
  {
   "cell_type": "code",
   "execution_count": 66,
   "id": "1311faea-fa40-4f04-adc5-732f770c68f9",
   "metadata": {},
   "outputs": [
    {
     "data": {
      "text/plain": [
       "array([82.8827847 , 75.34785264, 63.94741658, 51.78740886, 70.10183435,\n",
       "       57.74236448, 73.58532168, 75.10101466, 82.06233115, 76.28490851])"
      ]
     },
     "execution_count": 66,
     "metadata": {},
     "output_type": "execute_result"
    }
   ],
   "source": [
    "# ridge regression prediction\n",
    "y_pred2=ridge_model.predict(X_test)\n",
    "y_pred2[0:10]\n"
   ]
  },
  {
   "cell_type": "code",
   "execution_count": 67,
   "id": "2a03c685-e8dd-4684-9ff4-fc0d2bb5fbe8",
   "metadata": {},
   "outputs": [
    {
     "name": "stdout",
     "output_type": "stream",
     "text": [
      "ridge_model_score:  0.9492440538595344\n",
      "mean squared error:  2.183977541723843\n"
     ]
    }
   ],
   "source": [
    "# ridge regression evaluation\n",
    "print('ridge_model_score: ',ridge_model.score(X_test, y_test))\n",
    "print('mean squared error: ',mean_squared_error(y_test,y_pred2)**(0.5))"
   ]
  },
  {
   "cell_type": "code",
   "execution_count": 68,
   "id": "2f6a2222-ee39-46c4-b7d2-5e2a9569b6ea",
   "metadata": {},
   "outputs": [
    {
     "data": {
      "text/plain": [
       "ExtraTreesRegressor()"
      ]
     },
     "execution_count": 68,
     "metadata": {},
     "output_type": "execute_result"
    }
   ],
   "source": [
    "# use extra trees regression \n",
    "from sklearn.ensemble import ExtraTreesRegressor\n",
    "egt_model = ExtraTreesRegressor()\n",
    "egt_model.fit(X_train, y_train)"
   ]
  },
  {
   "cell_type": "code",
   "execution_count": 69,
   "id": "84df3be4-18de-4c7c-8602-21c7ae3a1f94",
   "metadata": {},
   "outputs": [
    {
     "data": {
      "text/plain": [
       "array([81.996     , 75.08549863, 64.217     , 53.139     , 63.895     ,\n",
       "       58.787     , 75.652     , 75.276     , 81.237     , 76.887     ])"
      ]
     },
     "execution_count": 69,
     "metadata": {},
     "output_type": "execute_result"
    }
   ],
   "source": [
    "# extra trees regression prediction\n",
    "y_pred3 = egt_model.predict(X_test)\n",
    "y_pred3[0:10]"
   ]
  },
  {
   "cell_type": "code",
   "execution_count": 70,
   "id": "c31faf62-156e-45fc-ab63-81b1548187ec",
   "metadata": {},
   "outputs": [
    {
     "name": "stdout",
     "output_type": "stream",
     "text": [
      "egt_model_score:  0.9712696054369272\n",
      "mean squared error:  1.6431435234339407\n"
     ]
    }
   ],
   "source": [
    "#extra trees regression evaluation\n",
    "print('egt_model_score: ',egt_model.score(X_test, y_test))\n",
    "print('mean squared error: ',mean_squared_error(y_test,y_pred3)**(0.5))"
   ]
  },
  {
   "cell_type": "code",
   "execution_count": 71,
   "id": "0717f164-91e3-4a12-b754-c9246fda92d4",
   "metadata": {},
   "outputs": [
    {
     "data": {
      "text/plain": [
       "Lasso(alpha=0.1)"
      ]
     },
     "execution_count": 71,
     "metadata": {},
     "output_type": "execute_result"
    }
   ],
   "source": [
    "#using lasso regression\n",
    "from sklearn.linear_model import Lasso\n",
    "lasso_model=Lasso(alpha=0.1)\n",
    "lasso_model.fit(X_train,y_train)"
   ]
  },
  {
   "cell_type": "code",
   "execution_count": 72,
   "id": "a56e6696-1ad7-4bc4-9f88-55fd9d090a3b",
   "metadata": {},
   "outputs": [
    {
     "data": {
      "text/plain": [
       "array([82.87668315, 72.96647614, 63.0400324 , 52.98699763, 66.60581485,\n",
       "       61.56395247, 71.21686655, 74.36289583, 79.17615261, 75.97439401])"
      ]
     },
     "execution_count": 72,
     "metadata": {},
     "output_type": "execute_result"
    }
   ],
   "source": [
    "# lasso regression prediction\n",
    "y_pred4 = lasso_model.predict(X_test)\n",
    "y_pred4[0:10]"
   ]
  },
  {
   "cell_type": "code",
   "execution_count": 73,
   "id": "017df377-ce9b-4bde-ba10-a56aa8c3bca7",
   "metadata": {},
   "outputs": [
    {
     "name": "stdout",
     "output_type": "stream",
     "text": [
      "lasso_model_score:  0.9240493576348752\n",
      "mean squared error:  2.6715938180436294\n"
     ]
    }
   ],
   "source": [
    "#lasso regressor evalaution\n",
    "print('lasso_model_score: ',lasso_model.score(X_test, y_test))\n",
    "print('mean squared error: ',mean_squared_error(y_test,y_pred4)**(0.5))"
   ]
  },
  {
   "cell_type": "code",
   "execution_count": 74,
   "id": "77ae7b5b-9574-4463-8b9c-7cb9001a5a28",
   "metadata": {},
   "outputs": [
    {
     "data": {
      "text/plain": [
       "ElasticNet(random_state=0)"
      ]
     },
     "execution_count": 74,
     "metadata": {},
     "output_type": "execute_result"
    }
   ],
   "source": [
    "from sklearn.linear_model import ElasticNet\n",
    "el_model = ElasticNet(random_state=0)\n",
    "el_model.fit(X_train, y_train)"
   ]
  },
  {
   "cell_type": "code",
   "execution_count": 75,
   "id": "1b7db7af-dc6e-4a0c-8576-a60d86ab466a",
   "metadata": {},
   "outputs": [
    {
     "data": {
      "text/plain": [
       "array([81.23280608, 68.01426104, 61.7473698 , 58.04959059, 64.40568233,\n",
       "       63.56481299, 69.63302352, 68.96842577, 75.08450225, 75.36429507])"
      ]
     },
     "execution_count": 75,
     "metadata": {},
     "output_type": "execute_result"
    }
   ],
   "source": [
    "y_pred5 = el_model.predict(X_test)\n",
    "y_pred5[0:10]"
   ]
  },
  {
   "cell_type": "code",
   "execution_count": 76,
   "id": "efb6f4aa-74b8-43d1-aeda-c68f8733aa52",
   "metadata": {},
   "outputs": [
    {
     "name": "stdout",
     "output_type": "stream",
     "text": [
      "el_model_score:  0.8019982646206689\n",
      "mean squared error:  4.313593365022457\n"
     ]
    }
   ],
   "source": [
    "print('el_model_score: ',el_model.score(X_test, y_test))\n",
    "print('mean squared error: ',mean_squared_error(y_test,y_pred5)**(0.5))\n"
   ]
  },
  {
   "cell_type": "code",
   "execution_count": null,
   "id": "4b792ebb-88df-471d-94de-2567ea939788",
   "metadata": {},
   "outputs": [],
   "source": []
  }
 ],
 "metadata": {
  "kernelspec": {
   "display_name": "Python 3",
   "language": "python",
   "name": "python3"
  },
  "language_info": {
   "codemirror_mode": {
    "name": "ipython",
    "version": 3
   },
   "file_extension": ".py",
   "mimetype": "text/x-python",
   "name": "python",
   "nbconvert_exporter": "python",
   "pygments_lexer": "ipython3",
   "version": "3.8.8"
  }
 },
 "nbformat": 4,
 "nbformat_minor": 5
}
