{
 "cells": [
  {
   "cell_type": "code",
   "execution_count": 1,
   "id": "4a2c4f39",
   "metadata": {},
   "outputs": [
    {
     "data": {
      "text/plain": [
       "<matplotlib.collections.PolyCollection at 0x299c6feb220>"
      ]
     },
     "execution_count": 1,
     "metadata": {},
     "output_type": "execute_result"
    },
    {
     "data": {
      "image/png": "[encoded data removed]",
      "text/plain": [
       "<Figure size 432x288 with 1 Axes>"
      ]
     },
     "metadata": {
      "needs_background": "light"
     },
     "output_type": "display_data"
    }
   ],
   "source": [
    "import numpy as np\n",
    "import matplotlib.pyplot as plt\n",
    "# True values\n",
    "x = np.linspace(1,5,5)           # x values\n",
    "y = 1.5*x - 0.5                  # function that calculates the true y values\n",
    "y_predicted = [1, 2, 1, 6, 8]    # predicted y_predicted values\n",
    "# calculating the RMSE step by step\n",
    "# step 1 - calucalte the residuals\n",
    "residuals = (y-y_predicted)**2\n",
    "# step 2 - sum the residuals\n",
    "residuals_sum = residuals.sum()\n",
    "#step 3 - divide by the number of values\n",
    "mean_squared_error = residuals_sum/5\n",
    "#step 4 - square root answer\n",
    "RMSE_calculated = np.sqrt(mean_squared_error)\n",
    "RMSE_calculated\n",
    "# Using the Scikit library, we can calculate the same value.\n",
    "from sklearn.metrics import mean_squared_error\n",
    "RMSE_sklearn = mean_squared_error(y, y_predicted, squared=False)\n",
    "RMSE_sklearn\n",
    "# Viewing our true values (blue), predicited values (orange), residuals (black), 1st standard deviation/RMSE in pale blue\n",
    "plt.plot(x,y)\n",
    "plt.plot((x,x),(y, y_predicted),c='black')\n",
    "plt.plot(x,y_predicted,'*')\n",
    "plt.fill_between(x, y-RMSE_calculated, y+RMSE_calculated, alpha=0.2)"
   ]
  },
  {
   "cell_type": "code",
   "execution_count": 2,
   "id": "6028fa0f",
   "metadata": {},
   "outputs": [
    {
     "data": {
      "text/plain": [
       "1.449137674618944"
      ]
     },
     "execution_count": 2,
     "metadata": {},
     "output_type": "execute_result"
    }
   ],
   "source": [
    "RMSE_calculated"
   ]
  },
  {
   "cell_type": "code",
   "execution_count": 3,
   "id": "b9a2e2d6",
   "metadata": {},
   "outputs": [
    {
     "data": {
      "text/plain": [
       "1.449137674618944"
      ]
     },
     "execution_count": 3,
     "metadata": {},
     "output_type": "execute_result"
    }
   ],
   "source": [
    "RMSE_sklearn"
   ]
  }
 ],
 "metadata": {
  "kernelspec": {
   "display_name": "Python 3",
   "language": "python",
   "name": "python3"
  },
  "language_info": {
   "codemirror_mode": {
    "name": "ipython",
    "version": 3
   },
   "file_extension": ".py",
   "mimetype": "text/x-python",
   "name": "python",
   "nbconvert_exporter": "python",
   "pygments_lexer": "ipython3",
   "version": "3.8.8"
  }
 },
 "nbformat": 4,
 "nbformat_minor": 5
}
