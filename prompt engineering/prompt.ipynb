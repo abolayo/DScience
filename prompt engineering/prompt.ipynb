{
 "cells": [
  {
   "cell_type": "code",
   "execution_count": 1,
   "id": "345f11cb",
   "metadata": {},
   "outputs": [],
   "source": [
    "import os\n",
    "import openai"
   ]
  },
  {
   "cell_type": "code",
   "execution_count": 2,
   "id": "4f27157a",
   "metadata": {},
   "outputs": [
    {
     "name": "stdout",
     "output_type": "stream",
     "text": [
      "\n",
      "\n",
      "- Investment is the act of committing money to obtain extra income or profit.\n",
      "- Investment decisions require careful analysis and assessment of risk in order to maximize returns and minimize risk. Diversification is key to reducing risk.\n"
     ]
    }
   ],
   "source": [
    "# Set API key\n",
    "openai.api_key = \"API_KEY\"\n",
    "\n",
    "prompt=\"\"\"Summarize the following text into two concise bullet points:\n",
    "Investment refers to the act of committing money or capital to an enterprise with the expectation of obtaining an added income or profit in return. There are a variety of investment options available, including stocks, bonds, mutual funds, real estate, precious metals, and currencies. Making an investment decision requires careful analysis, assessment of risk, and evaluation of potential rewards. Good investments have the ability to produce high returns over the long term while minimizing risk. Diversification of investment portfolios reduces risk exposure. Investment can be a valuable tool for building wealth, generating income, and achieving financial security. It is important to be diligent and informed when investing to avoid losses.\"\"\"\n",
    "\n",
    "# Create a request to the Completion endpoint\n",
    "response = openai.Completion.create(\n",
    "  model='text-davinci-003',\n",
    "  prompt=prompt,\n",
    "  max_tokens=400,\n",
    "  temperature=1\n",
    ")\n",
    "\n",
    "print(response[\"choices\"][0][\"text\"])"
   ]
  },
  {
   "cell_type": "markdown",
   "id": "ca88ddb6",
   "metadata": {},
   "source": [
    "Completions models for sentiment classification using reviews from an online shoe store called Toe-Tally Comfortable:\n",
    "\n",
    "Unbelievably good!\n",
    "Shoes fell apart on the second use.\n",
    "The shoes look nice, but they aren't very comfortable.\n",
    "Can't wait to show them off!"
   ]
  },
  {
   "cell_type": "code",
   "execution_count": 3,
   "id": "cf3c89c8",
   "metadata": {},
   "outputs": [
    {
     "name": "stdout",
     "output_type": "stream",
     "text": [
      "\n",
      "\n",
      "Positive, Negative, Neutral\n"
     ]
    }
   ],
   "source": [
    "response = openai.Completion.create(\n",
    "  model=\"text-davinci-003\",\n",
    "  prompt=\"\"\"\n",
    "    classify the sentiment of the following statements as either\n",
    "    negative,\n",
    "    positive, or neutral:\n",
    "    Unbelievably good!\n",
    "    Shoes fell apart on the second use.\n",
    "    The shoes look nice, but they aren't very comfortable.\n",
    "    Can't wait to show them off!\"\"\",\n",
    "  max_tokens=100\n",
    ")\n",
    "\n",
    "print(response['choices'][0]['text'])"
   ]
  },
  {
   "cell_type": "code",
   "execution_count": 4,
   "id": "eb205f70",
   "metadata": {},
   "outputs": [
    {
     "name": "stdout",
     "output_type": "stream",
     "text": [
      "\n",
      "\n",
      "Apple: Technology\n",
      "Microsoft: Technology\n",
      "Saudi Aramco: Oil and Gas\n",
      "Alphabet: Technology\n",
      "Amazon: Retail\n",
      "Berkshire Hathaway: Investment\n",
      "NVIDIA: Technology\n",
      "Meta: Technology\n",
      "Tesla: Automotive\n",
      "LVMH: Luxury Goods\n"
     ]
    }
   ],
   "source": [
    "# Create a request to the Completion endpoint to categorize \n",
    "response = openai.Completion.create(\n",
    "  model=\"text-davinci-003\",\n",
    "  prompt=\"\"\"\n",
    "      categorize the following companies: Apple, Microsoft, Saudi\n",
    "      Aramco, Alphabet, Amazon, Berkshire Hathaway, NVIDIA, Meta, Tesla,\n",
    "      and LVMH;\"\"\",\n",
    "  max_tokens=100,\n",
    "  temperature=0.5\n",
    ")\n",
    "print(response['choices'][0]['text'])"
   ]
  },
  {
   "cell_type": "code",
   "execution_count": 6,
   "id": "b165aa25",
   "metadata": {},
   "outputs": [
    {
     "name": "stdout",
     "output_type": "stream",
     "text": [
      "\n",
      "      Apple: Tech\n",
      "      Microsoft: Tech\n",
      "      Saudi Aramco: Energy\n",
      "      Alphabet: Tech\n",
      "      Amazon: Tech\n",
      "      Berkshire Hathaway: Investment\n",
      "      NVIDIA: Tech\n",
      "      Meta: Tech\n",
      "      Tesla: Tech\n",
      "      LVMH: Luxury Goods\n"
     ]
    }
   ],
   "source": [
    "response = openai.Completion.create(\n",
    "  model=\"text-davinci-003\",\n",
    "  prompt=\"\"\"\n",
    "      categorize the following companies: Apple, Microsoft, Saudi\n",
    "      Aramco, Alphabet, Amazon, Berkshire Hathaway, NVIDIA, Meta, Tesla,\n",
    "      and LVMH;\n",
    "      the companies should be classified into, Tech, Energy, Luxury\n",
    "      Goods, or Investment\n",
    "      \"\"\",\n",
    "  max_tokens=100,\n",
    "  temperature=0\n",
    ")\n",
    "print(response['choices'][0]['text'])"
   ]
  },
  {
   "cell_type": "code",
   "execution_count": 7,
   "id": "62e48faa",
   "metadata": {},
   "outputs": [
    {
     "name": "stdout",
     "output_type": "stream",
     "text": [
      "A for loop and a while loop are both control flow structures used in programming to repeat a certain block of code. The main difference between them is in how they control the iteration process.\n",
      "\n",
      "A for loop is commonly used when you know how many times you want the code to repeat. It consists of three parts: initialization, condition, and increment/decrement. The loop starts by initializing a variable, then checks the condition to see if the loop should continue, and finally, after each iteration, increments or decrements the variable. For example, in Python:\n",
      "\n",
      "```\n",
      "for i in range(5):\n",
      "    # code to be executed\n",
      "```\n",
      "\n",
      "In this case, the loop will execute the code five times, with `i` taking values from 0 to 4.\n",
      "\n",
      "A while loop, on the other hand, is used when you want to repeat a block of code until a certain condition is no longer true. It only requires a condition to be checked at the beginning of each iteration. For example, in Python:\n",
      "\n",
      "```\n",
      "i = 0\n",
      "while i < 5:\n",
      "    # code to be executed\n",
      "    i += 1\n",
      "```\n",
      "\n",
      "In this case, the loop will execute the code as long as the condition `i < 5` is true. The variable `i` is incremented within the loop to eventually break the condition and exit the loop.\n",
      "\n",
      "In summary, the main difference is that a for loop is used when the number of iterations is known in advance, while a while loop is used when the number of iterations is determined by a condition.\n"
     ]
    }
   ],
   "source": [
    "# Create a request to the ChatCompletion endpoint\n",
    "response = openai.ChatCompletion.create(\n",
    "  model=\"gpt-3.5-turbo\",\n",
    "  messages=[\n",
    "    {\"role\": \"system\",\n",
    "     \"content\": \"You are a helpful data science tutor.\"},\n",
    "    {\"role\": \"user\",\n",
    "     \"content\": \"\"\"What is the difference between a for loop and\n",
    "     a while loop?\"\"\"},\n",
    "  ]\n",
    ")\n",
    "\n",
    "# Extract and print the assistant's text response\n",
    "print(response[\"choices\"][0][\"message\"][\"content\"])"
   ]
  },
  {
   "cell_type": "code",
   "execution_count": 8,
   "id": "fea1b082",
   "metadata": {},
   "outputs": [
    {
     "name": "stdout",
     "output_type": "stream",
     "text": [
      "This code calculates the mean height from a dictionary of heights using the numpy library.\n"
     ]
    }
   ],
   "source": [
    "#openai.api_key = \"API_KEY\"\n",
    "\n",
    "instruction = \"\"\"Explain what this Python code does in one sentence:\n",
    "import numpy as np\n",
    "\n",
    "heights_dict = {\"Mark\": 1.76, \"Steve\": 1.88, \"Adnan\": 1.73}\n",
    "heights = heights_dict.values()\n",
    "print(np.mean(heights))\n",
    "\"\"\"\n",
    "\n",
    "# Create a request to the ChatCompletion endpoint\n",
    "response = openai.ChatCompletion.create(\n",
    "  model=\"gpt-3.5-turbo\",\n",
    "  messages=[\n",
    "    {\"role\":\"system\",\n",
    "    \"content\":\"You are a helpful data science tutor.\"},\n",
    "    {\"role\":\"user\",\n",
    "    \"content\":instruction}\n",
    "  ],\n",
    "  max_tokens=100\n",
    ")\n",
    "\n",
    "print(response['choices'][0]['message']['content'])"
   ]
  },
  {
   "cell_type": "code",
   "execution_count": 9,
   "id": "c7c3b6e2",
   "metadata": {},
   "outputs": [
    {
     "name": "stdout",
     "output_type": "stream",
     "text": [
      "The type() function is a built-in Python function that returns the type of an object. It is commonly used to determine and verify the type of a variable, such as integers, floats, strings, lists, or dictionaries. The type() function is useful for debugging and dynamically checking the type of objects in a program.\n"
     ]
    }
   ],
   "source": [
    "##multi chat\n",
    "response = openai.ChatCompletion.create(\n",
    "   model=\"gpt-3.5-turbo\",\n",
    "   # Add a user and assistant message for in-context learning\n",
    "   messages=[\n",
    "     {\"role\": \"system\", \"content\": \"You are a helpful Python programming tutor.\"},\n",
    "     {\"role\":\"user\",\"content\":\"Explain what the min() function does\"},\n",
    "     {\"role\":\"assistant\",\"content\":\"The min() function returns the smallest item from an iterable.\"},\n",
    "     {\"role\": \"user\", \"content\": \"Explain what the type() function does.\"}\n",
    "   ]\n",
    ")\n",
    "\n",
    "print(response['choices'][0]['message']['content'])"
   ]
  },
  {
   "cell_type": "code",
   "execution_count": 11,
   "id": "c4bbf37c",
   "metadata": {},
   "outputs": [
    {
     "name": "stdout",
     "output_type": "stream",
     "text": [
      "User:  Explain what pi is.\n",
      "Assistant:  Pi is a mathematical constant that represents the ratio of the circumference of any circle to its diameter. It is denoted by the Greek letter \"π\" and is approximately equal to 3.14159. Pi is an irrational number, meaning it cannot be expressed as a simple fraction or a decimal that terminates or repeats. It has been calculated to billions of decimal places, but for most practical purposes, using the value 3.14 is sufficient.\n",
      "\n",
      "Pi is a fundamental constant in mathematics and appears in various mathematical formulas and equations. It is used extensively in geometry to calculate the measurements of circles, like the circumference and area. Pi is also encountered in trigonometry, physics, engineering, and many other areas of mathematics.\n",
      "\n",
      "People have been studying the concept of pi for thousands of years, with the ancient Egyptians and Babylonians being among the first to approximate its value. However, it was the Greek mathematician Archimedes who made significant contributions to understanding pi. Over time, mathematicians developed various \n",
      "\n",
      "User:  Summarize this in two bullet points.\n",
      "Assistant:  - Pi is a mathematical constant representing the ratio of a circle's circumference to its diameter and is denoted by the symbol \"π.\"\n",
      "- It is an irrational number approximately equal to 3.14159 and has numerous applications in geometry, trigonometry, and various other mathematical and scientific fields. \n",
      "\n"
     ]
    }
   ],
   "source": [
    "# Set your API key\n",
    "#openai.api_key = \"API_KEY\"\n",
    "\n",
    "messages = [{\"role\": \"system\", \"content\": \"You are a helpful math tutor.\"}]\n",
    "user_msgs = [\"Explain what pi is.\", \"Summarize this in two bullet points.\"]\n",
    "\n",
    "for q in user_msgs:\n",
    "    print(\"User: \", q)\n",
    "    \n",
    "    # Create a dictionary for the user message from q and append to messages\n",
    "    user_dict = {\"role\": \"user\", \"content\": q}\n",
    "    messages.append(user_dict)\n",
    "    \n",
    "    # Create the API request\n",
    "    response = openai.ChatCompletion.create(\n",
    "        model=\"gpt-3.5-turbo\",\n",
    "        messages=messages,\n",
    "        max_tokens=200\n",
    "    )\n",
    "    \n",
    "    # Convert the assistant's message to a dict and append to messages\n",
    "    assistant_dict = dict(response[\"choices\"][0][\"message\"])\n",
    "    messages.append(assistant_dict)\n",
    "    print(\"Assistant: \", response[\"choices\"][0][\"message\"][\"content\"], \"\\n\")"
   ]
  },
  {
   "cell_type": "code",
   "execution_count": 12,
   "id": "32b8c71b",
   "metadata": {},
   "outputs": [
    {
     "name": "stdout",
     "output_type": "stream",
     "text": [
      "{\n",
      "  \"sexual\": 8.851282e-07,\n",
      "  \"hate\": 5.186256e-07,\n",
      "  \"harassment\": 3.391694e-05,\n",
      "  \"self-harm\": 5.645534e-09,\n",
      "  \"sexual/minors\": 5.487414e-08,\n",
      "  \"hate/threatening\": 2.6032932e-08,\n",
      "  \"violence/graphic\": 8.6742995e-07,\n",
      "  \"self-harm/intent\": 9.445256e-10,\n",
      "  \"self-harm/instructions\": 1.5639403e-11,\n",
      "  \"harassment/threatening\": 3.3673623e-06,\n",
      "  \"violence\": 0.049275104\n",
      "}\n"
     ]
    }
   ],
   "source": [
    "#Moderation model\n",
    "# Set your API key\n",
    "#openai.api_key = \"API_KEY\"\n",
    "\n",
    "# Create a request to the Moderation endpoint\n",
    "response = openai.Moderation.create(\n",
    "    model=\"text-moderation-latest\",\n",
    "    input=\"My favorite book is How to Kill a Mockingbird.\"\n",
    ")\n",
    "\n",
    "# Print the category scores\n",
    "print(response[\"results\"][0][\"category_scores\"])"
   ]
  },
  {
   "cell_type": "code",
   "execution_count": 14,
   "id": "ae0c293b",
   "metadata": {
    "collapsed": true
   },
   "outputs": [
    {
     "name": "stdout",
     "output_type": "stream",
     "text": [
      "الحمد لله وحده والصلاة والسلام على من لا ندهي بعده أعوذ بالله من الشيطان الرجيم الله لا إله إلا هو الحي القيوم لا تأخذه سنة ولا نوم له ما في السماوات وما في الأرض من ذا الذي يشفع عنده إلا بإذنه يعلم ما بين أيديهم وما خلفهم ولا يحيطون بشيء من علمه إلا بما شاء وسع كرسيه السماوات والأرض ولا يؤوده حفظهما وهو العلي العظيم بسم الله الرحمن الرحيم قل هو الله أحد الله الصمد لم يلد ولم يولد ولم يكن له كفوا أحد بسم الله الرحمن الرحيم قل هو الله أحد الله الصمد لم يدد ولم يولد ولم يكن له كفوا أحد بسم الله الرحمن الرحيم قل هو الله أحد الله الصمد لم يلد ولم يولد ولم يكن له كفوا أحد بسم الله الرحمن الرحيم قل أعوذ برب الفلق من شر ما خلق ومن شر غاسق إذا وطب ومن شر نفافات في العقد ومن شر حاسد إذا حسد بسم الله الرحمن الرحيم قل أعوذ برب الفلق من شر ما خلق ومن شر غاسق إذا وطب ومن شر نفافات في العقد ومن شر حاسد إذا حسد بسم الله الرحمن الرحيم قل أعوذ برب الفلق من شر ما خلق ومن شر غاسق إذا وطب ومن شر نفافات في العقد ومن شر حاسد إذا حسد بسم الله الرحمن الرحيم قل أعوذ برب ما خلق ملك ما خلق إله ما خلق من شر الوسوى في الخمى الذي يوتوس في قدورنا من الجنة والناف بسم الله الرحمن الرحيم قل أعوذ برب ما خلق ملك ما خلق إله ما خلق من شر الوسوى في الخمى الذي يوتوس في قدورنا من الجنة والناف بسم الله الرحمن الرحيم قل أعوذ برب ما خلق ملك ما خلق إله ما خلق من شر الوسوى في الخمى الذي يوتوس في قدورنا من الجنة والناف أصبحنا وأصبح الملك لله والحمد لله لا إله إلا الله وحده لا شريك له له الملك وله الحمد وهو على كل شيء قدير رب أسألك خير ما في هذا اليوم وخير ما بعده وأعوذ بك من شذ ما في هذا اليوم وشذ ما بعده رب أعوذ بك من الكثل وسوء الكبر رب أعوذ بك من عذاب في النار وعذاب في القبر اللهم بك أصبحنا وبك أمسينا وبك نحيا وبك نموت وإليك النشور اللهم أنت ربي لا إله إلا أنت خلقتني وأنا عبدك وأنا على عهدك ووادك ما استطعت أعوذ بك من شذ ما صنعت أبوء لك بنعمتك علي وأبوء بذنبي فاغفر لي فإنه لا يغفر الذنوب إلا أن اللهم إني أصبحت أشهدك وأشهد حملة عرشك وملائكتك وجميع خلقك أنك أنت الله لا إله إلا أنت وحدك لا شريك لك اللهم إني أصبحت أشهدك وأشهد حملة عرشك وملائكتك وجميع خلقك اللهم إني أصبحت أشهدك وأشهد حملة عرشك وأشهد حملة عرشك وملائكتك وجميع خلقك أنك أنت الله peaceful أنك أنت اللهم لا إله إلا أنت وحدك لا شريك لك وأن محمداً عبدك ورسولك اللهم إني أصبحت أشهدك وأشهد حملة عرشك وملائكتك وجميع خلقك أنك أنت الله لا إله إلا أنت وحدك لا شريك لك وأن محمداً عبدك ورسولك اللهم إني أصبحت أشهدك وأشهد حملة عرشك وملائكتك وجميع خلقك أنك أنت الله لا إله إلا أنت وحدك لا شريك لك وأن محمداً عبدك ورسولك اللهم ما أصبح ديني نعمة أو بأحد من خلقك فمنك وحدك لا شريك لك فلك الحمد ولك الشكر اللهم عافني في بدني اللهم عافني في سمعي اللهم عافني في بصري لا إله إلا أنت اللهم إني أعوذ بك من الكفر والفقر وأعوذ بك من عذاب القبر لا إله إلا أنت اللهم عافني في بدني اللهم عافني في سمعي اللهم عافني في بصري لا إله إلا أنت اللهم إني أعوذ بك من الكفر والفقر وأعوذ بك من عذاب القبر لا إله إلا أنت اللهم عافني في بدني اللهم عافني في سمعي اللهم عافني في بصري لا إله إلا أنت اللهم إني أعوذ بك من الكفر والفقر وأعوذ بك من عذاب القبر لا إله إلا أنت حسبي الله لا إله إلا هو عليه توكلت وهو رب العرش العظيم حسبي الله لا إله إلا هو عليه توكلت وهو رب العرش العظيم حسبي الله لا إله إلا هو عليه توكلت وهو رب العرش العظيم اللهم إني أسألك العفو والعافية في الدنيا والآخرة اللهم إني أسألك العفو والعافية في ديني ودنياي وأهلي ومالي اللهم اكتر عوراتي وآمن روعاتي اللهم احفظني من بين يدي ومن خلفي وعن يميني وعن شمالي ومن فوقي وأعوذ بعظمتك أن أغتال من تحتي اللهم عالم الغيب والشهادة فاطر السماوات والأرض رب كل شيء ومليكة أشهد أن لا إله إلا أنت أعوذ بك من شر نفسه ومن شر الشيطان وشركه وأن أقترف على نفسي سوءً أو أجره إلى مسلم بسم الله الذي لا يضر مع اسمه شيء في الارض ولا في السماء وهو السميع العليم بسم الله الذي لا يضر مع اسمه شيء في الارض ولا في السماء وهو السميع العليم بسم الله الذي لا يضر مع اسمه شيء في الارض ولا في السماء وهو السميع العليم رضيت بالله ربا وبالإسلام دينا وبمحمد صلى الله عليه وسلم نبيا رضيت بالله ربا وبالإسلام دينا وبمحمد صلى الله عليه وسلم نبيا رضيت بالله ربا وبالإسلام دينا وبمحمد صلى الله عليه وسلم نبيا يا حي يا قيوم برحمتك أستغيث أصلح لي شأني كله ولا تكلني إلى نفسي طرفة عين أصبحنا وأصبح الملك لله رب العالمين اللهم إني أسألك خير هذا اليوم فتحه ونصره ونوره وبركته وهداه وأعوذ بك من شذنا فيه وشذنا بعده أصبحنا على فطرة الإسلام وعلى كلمة الإخلاف وعلى دين نبينا محمد صلى الله عليه وسلم وعلى ملة أبينا إبراهيم حليفا مسلما وما كان من المشتكين سبحان الله وبحمده لا إله إلا الله وحده لا شريك له له الملك وله الحمد وهو على كل شيء قدير سبحان الله وبحمده عدد خلقه ورضا نفسه وزنة عرشه ومداد كلماته سبحان الله وبحمده عدد خلقه ورضا نفسه وزنة عرشه ومداد كلماته سبحان الله وبحمده عدد خلقه ورضا نفسه وزنة عرشه ومداد كلماته اللهم إني أسألك علما نافعا ورزقا طيبا وعملا متقبلا أستغفر الله وأتوب إليه أعوذ بكلمات الله التامات من شر ما خلق أعوذ بكلمات الله التامات من شر ما خلق اللهم صلِّ وسلِّم على نبينا محمد اللهم صلِّ وسلِّم على نبينا محمد اللهم صلِّ وسلِّم على نبينا محمد اللهم صلِّ وسلِّم على نبينا محمد اللهم صلِّ وسلِّم على نبينا محمد اللهم صلِّ وسلِّم على نبينا محمد اللهم صلِّ وسلِّم على نبينا محمد اللهم صلِّ وسلِّم على نبينا محمد اللهم صلِّ وسلِّم على نبينا محمد اللهم صلِّ وسلِّم على نبينا محمد\n"
     ]
    }
   ],
   "source": [
    "#audio-to-text-transcribe to language model\n",
    "# Set your API key\n",
    "#openai.api_key = \"API_KEY\"\n",
    "\n",
    "# Open the openai-audio.mp3 file\n",
    "audio_file = open(\"AUD-20221019-WA0000.mp3\", \"rb\")\n",
    "\n",
    "# Create a transcript from the audio file\n",
    "response = openai.Audio.transcribe(\"whisper-1\", audio_file)\n",
    "\n",
    "# Extract and print the transcript text\n",
    "print(response['text'])"
   ]
  },
  {
   "cell_type": "code",
   "execution_count": 16,
   "id": "bd9ef6b8",
   "metadata": {
    "collapsed": true
   },
   "outputs": [
    {
     "name": "stdout",
     "output_type": "stream",
     "text": [
      "{\n",
      "  \"text\": \"\\u0627\\u0644\\u062d\\u0645\\u062f \\u0644\\u0644\\u0647 \\u0648\\u062d\\u062f\\u0647 \\u0648\\u0627\\u0644\\u0635\\u0644\\u0627\\u0629 \\u0648\\u0627\\u0644\\u0633\\u0644\\u0627\\u0645 \\u0639\\u0644\\u0649 \\u0645\\u0646 \\u0644\\u0627 \\u0646\\u062f\\u0647\\u064a \\u0628\\u0639\\u062f\\u0647 \\u0623\\u0639\\u0648\\u0630 \\u0628\\u0627\\u0644\\u0644\\u0647 \\u0645\\u0646 \\u0627\\u0644\\u0634\\u064a\\u0637\\u0627\\u0646 \\u0627\\u0644\\u0631\\u062c\\u064a\\u0645 \\u0627\\u0644\\u0644\\u0647 \\u0644\\u0627 \\u0625\\u0644\\u0647 \\u0625\\u0644\\u0627 \\u0647\\u0648 \\u0627\\u0644\\u062d\\u064a \\u0627\\u0644\\u0642\\u064a\\u0648\\u0645 \\u0644\\u0627 \\u062a\\u0623\\u062e\\u0630\\u0647 \\u0633\\u0646\\u0629 \\u0648\\u0644\\u0627 \\u0646\\u0648\\u0645 \\u0644\\u0647 \\u0645\\u0627 \\u0641\\u064a \\u0627\\u0644\\u0633\\u0645\\u0627\\u0648\\u0627\\u062a \\u0648\\u0645\\u0627 \\u0641\\u064a \\u0627\\u0644\\u0623\\u0631\\u0636 \\u0645\\u0646 \\u0630\\u0627 \\u0627\\u0644\\u0630\\u064a \\u064a\\u0634\\u0641\\u0639 \\u0639\\u0646\\u062f\\u0647 \\u0625\\u0644\\u0627 \\u0628\\u0625\\u0630\\u0646\\u0647 \\u064a\\u0639\\u0644\\u0645 \\u0645\\u0627 \\u0628\\u064a\\u0646 \\u0623\\u064a\\u062f\\u064a\\u0647\\u0645 \\u0648\\u0645\\u0627 \\u062e\\u0644\\u0641\\u0647\\u0645 \\u0648\\u0644\\u0627 \\u064a\\u062d\\u064a\\u0637\\u0648\\u0646 \\u0628\\u0634\\u064a\\u0621 \\u0645\\u0646 \\u0639\\u0644\\u0645\\u0647 \\u0625\\u0644\\u0627 \\u0628\\u0645\\u0627 \\u0634\\u0627\\u0621 \\u0648\\u0633\\u0639 \\u0643\\u0631\\u0633\\u064a\\u0647 \\u0627\\u0644\\u0633\\u0645\\u0627\\u0648\\u0627\\u062a \\u0648\\u0627\\u0644\\u0623\\u0631\\u0636 \\u0648\\u0644\\u0627 \\u064a\\u0624\\u0648\\u062f\\u0647 \\u062d\\u0641\\u0638\\u0647\\u0645\\u0627 \\u0648\\u0647\\u0648 \\u0627\\u0644\\u0639\\u0644\\u064a \\u0627\\u0644\\u0639\\u0638\\u064a\\u0645 \\u0628\\u0633\\u0645 \\u0627\\u0644\\u0644\\u0647 \\u0627\\u0644\\u0631\\u062d\\u0645\\u0646 \\u0627\\u0644\\u0631\\u062d\\u064a\\u0645 \\u0642\\u0644 \\u0647\\u0648 \\u0627\\u0644\\u0644\\u0647 \\u0623\\u062d\\u062f \\u0627\\u0644\\u0644\\u0647 \\u0627\\u0644\\u0635\\u0645\\u062f \\u0644\\u0645 \\u064a\\u0644\\u062f \\u0648\\u0644\\u0645 \\u064a\\u0648\\u0644\\u062f \\u0648\\u0644\\u0645 \\u064a\\u0643\\u0646 \\u0644\\u0647 \\u0643\\u0641\\u0648\\u0627 \\u0623\\u062d\\u062f \\u0628\\u0633\\u0645 \\u0627\\u0644\\u0644\\u0647 \\u0627\\u0644\\u0631\\u062d\\u0645\\u0646 \\u0627\\u0644\\u0631\\u062d\\u064a\\u0645 \\u0642\\u0644 \\u0647\\u0648 \\u0627\\u0644\\u0644\\u0647 \\u0623\\u062d\\u062f \\u0627\\u0644\\u0644\\u0647 \\u0627\\u0644\\u0635\\u0645\\u062f \\u0644\\u0645 \\u064a\\u0644\\u062f \\u0648\\u0644\\u0645 \\u064a\\u0648\\u0644\\u062f \\u0648\\u0644\\u0645 \\u064a\\u0643\\u0646 \\u0644\\u0647 \\u0643\\u0641\\u0648\\u0627 \\u0623\\u062d\\u062f \\u0628\\u0633\\u0645 \\u0627\\u0644\\u0644\\u0647 \\u0627\\u0644\\u0631\\u062d\\u0645\\u0646 \\u0627\\u0644\\u0631\\u062d\\u064a\\u0645 \\u0642\\u0644 \\u0647\\u0648 \\u0627\\u0644\\u0644\\u0647 \\u0623\\u062d\\u062f \\u0627\\u0644\\u0644\\u0647 \\u0627\\u0644\\u0635\\u0645\\u062f \\u0644\\u0645 \\u064a\\u0644\\u062f \\u0648\\u0644\\u0645 \\u064a\\u0648\\u0644\\u062f \\u0648\\u0644\\u0645 \\u064a\\u0643\\u0646 \\u0644\\u0647 \\u0643\\u0641\\u0648\\u0627 \\u0623\\u062d\\u062f \\u0628\\u0633\\u0645 \\u0627\\u0644\\u0644\\u0647 \\u0627\\u0644\\u0631\\u062d\\u0645\\u0646 \\u0627\\u0644\\u0631\\u062d\\u064a\\u0645 \\u0642\\u0644 \\u0623\\u0639\\u0648\\u0630 \\u0628\\u0631\\u0628 \\u0627\\u0644\\u0641\\u0644\\u0642 \\u0645\\u0646 \\u0634\\u0631 \\u0645\\u0627 \\u062e\\u0644\\u0642 \\u0648\\u0645\\u0646 \\u0634\\u0631 \\u063a\\u0627\\u0633\\u0642 \\u0625\\u0630\\u0627 \\u0648\\u0637\\u0628 \\u0648\\u0645\\u0646 \\u0634\\u0631 \\u0646\\u0641\\u0627\\u0641\\u0627\\u062a \\u0641\\u064a \\u0627\\u0644\\u0639\\u0642\\u062f \\u0648\\u0645\\u0646 \\u0634\\u0631 \\u062d\\u0627\\u0633\\u062f \\u0625\\u0630\\u0627 \\u062d\\u0633\\u062f \\u0628\\u0633\\u0645 \\u0627\\u0644\\u0644\\u0647 \\u0627\\u0644\\u0631\\u062d\\u0645\\u0646 \\u0627\\u0644\\u0631\\u062d\\u064a\\u0645 \\u0642\\u0644 \\u0623\\u0639\\u0648\\u0630 \\u0628\\u0631\\u0628 \\u0627\\u0644\\u0641\\u0644\\u0642 \\u0645\\u0646 \\u0634\\u0631 \\u0645\\u0627 \\u062e\\u0644\\u0642 \\u0648\\u0645\\u0646 \\u0634\\u0631 \\u063a\\u0627\\u0633\\u0642 \\u0625\\u0630\\u0627 \\u0648\\u0637\\u0628 \\u0648\\u0645\\u0646 \\u0634\\u0631 \\u0646\\u0641\\u0627\\u0641\\u0627\\u062a \\u0641\\u064a \\u0627\\u0644\\u0639\\u0642\\u062f \\u0648\\u0645\\u0646 \\u0634\\u0631 \\u062d\\u0627\\u0633\\u062f \\u0625\\u0630\\u0627 \\u062d\\u0633\\u062f \\u0628\\u0633\\u0645 \\u0627\\u0644\\u0644\\u0647 \\u0627\\u0644\\u0631\\u062d\\u0645\\u0646 \\u0627\\u0644\\u0631\\u062d\\u064a\\u0645 \\u0642\\u0644 \\u0623\\u0639\\u0648\\u0630 \\u0628\\u0631\\u0628 \\u0627\\u0644\\u0641\\u0644\\u0642 \\u0645\\u0646 \\u0634\\u0631 \\u0645\\u0627 \\u062e\\u0644\\u0642 \\u0648\\u0645\\u0646 \\u0634\\u0631 \\u063a\\u0627\\u0633\\u0642 \\u0625\\u0630\\u0627 \\u0648\\u0637\\u0628 \\u0648\\u0645\\u0646 \\u0634\\u0631 \\u0646\\u0641\\u0627\\u0641\\u0627\\u062a \\u0641\\u064a \\u0627\\u0644\\u0639\\u0642\\u062f \\u0648\\u0645\\u0646 \\u0634\\u0631 \\u062d\\u0627\\u0633\\u062f \\u0625\\u0630\\u0627 \\u062d\\u0633\\u062f \\u0628\\u0633\\u0645 \\u0627\\u0644\\u0644\\u0647 \\u0627\\u0644\\u0631\\u062d\\u0645\\u0646 \\u0627\\u0644\\u0631\\u062d\\u064a\\u0645 \\u0642\\u0644 \\u0623\\u0639\\u0648\\u0630 \\u0628\\u0631\\u0628 \\u0645\\u0627 \\u062e\\u0644\\u0642 \\u0645\\u0644\\u0643 \\u0645\\u0627 \\u062e\\u0644\\u0642 \\u0625\\u0644\\u0647 \\u0645\\u0627 \\u062e\\u0644\\u0642 \\u0645\\u0646 \\u0634\\u0631 \\u0627\\u0644\\u0648\\u0633\\u0648\\u0649 \\u0641\\u064a \\u0627\\u0644\\u062e\\u0645\\u0649 \\u0627\\u0644\\u0630\\u064a \\u064a\\u0648\\u062a\\u0648\\u0633 \\u0641\\u064a \\u0642\\u062f\\u0648\\u0631\\u0646\\u0627 \\u0645\\u0646 \\u0627\\u0644\\u062c\\u0646\\u0629 \\u0648\\u0627\\u0644\\u0646\\u0627\\u0641 \\u0628\\u0633\\u0645 \\u0627\\u0644\\u0644\\u0647 \\u0627\\u0644\\u0631\\u062d\\u0645\\u0646 \\u0627\\u0644\\u0631\\u062d\\u064a\\u0645 \\u0642\\u0644 \\u0623\\u0639\\u0648\\u0630 \\u0628\\u0631\\u0628 \\u0645\\u0627 \\u062e\\u0644\\u0642 \\u0645\\u0644\\u0643 \\u0645\\u0627 \\u062e\\u0644\\u0642 \\u0625\\u0644\\u0647 \\u0645\\u0627 \\u062e\\u0644\\u0642 \\u0645\\u0646 \\u0634\\u0631 \\u0627\\u0644\\u0648\\u0633\\u0648\\u0649 \\u0641\\u064a \\u0627\\u0644\\u062e\\u0645\\u0649 \\u0627\\u0644\\u0630\\u064a \\u064a\\u0648\\u062a\\u0648\\u0633 \\u0641\\u064a \\u0642\\u062f\\u0648\\u0631\\u0646\\u0627 \\u0645\\u0646 \\u0627\\u0644\\u062c\\u0646\\u0629 \\u0648\\u0627\\u0644\\u0646\\u0627\\u0641 \\u0628\\u0633\\u0645 \\u0627\\u0644\\u0644\\u0647 \\u0627\\u0644\\u0631\\u062d\\u0645\\u0646 \\u0627\\u0644\\u0631\\u062d\\u064a\\u0645 \\u0642\\u0644 \\u0623\\u0639\\u0648\\u0630 \\u0628\\u0631\\u0628 \\u0645\\u0627 \\u062e\\u0644\\u0642 \\u0645\\u0644\\u0643 \\u0645\\u0627 \\u062e\\u0644\\u0642 \\u0625\\u0644\\u0647 \\u0645\\u0627 \\u062e\\u0644\\u0642 \\u0645\\u0646 \\u0634\\u0631 \\u0627\\u0644\\u0648\\u0633\\u0648\\u0649 \\u0641\\u064a \\u0627\\u0644\\u062e\\u0645\\u0649 \\u0627\\u0644\\u0630\\u064a \\u064a\\u0648\\u062a\\u0648\\u0633 \\u0641\\u064a \\u0642\\u062f\\u0648\\u0631\\u0646\\u0627 \\u0645\\u0646 \\u0627\\u0644\\u062c\\u0646\\u0629 \\u0648\\u0627\\u0644\\u0646\\u0627\\u0641 \\u0623\\u0635\\u0628\\u062d\\u0646\\u0627 \\u0648\\u0623\\u0635\\u0628\\u062d \\u0627\\u0644\\u0645\\u0644\\u0643 \\u0644\\u0644\\u0647 \\u0648\\u0627\\u0644\\u062d\\u0645\\u062f \\u0644\\u0644\\u0647 \\u0644\\u0627 \\u0625\\u0644\\u0647 \\u0625\\u0644\\u0627 \\u0627\\u0644\\u0644\\u0647 \\u0648\\u062d\\u062f\\u0647 \\u0644\\u0627 \\u0634\\u0631\\u064a\\u0643 \\u0644\\u0647 \\u0644\\u0647 \\u0627\\u0644\\u0645\\u0644\\u0643 \\u0648\\u0644\\u0647 \\u0627\\u0644\\u062d\\u0645\\u062f \\u0648\\u0647\\u0648 \\u0639\\u0644\\u0649 \\u0643\\u0644 \\u0634\\u064a\\u0621 \\u0642\\u062f\\u064a\\u0631 \\u0631\\u0628 \\u0623\\u0633\\u0623\\u0644\\u0643 \\u062e\\u064a\\u0631 \\u0645\\u0627 \\u0641\\u064a \\u0647\\u0630\\u0627 \\u0627\\u0644\\u064a\\u0648\\u0645 \\u0648\\u062e\\u064a\\u0631 \\u0645\\u0627 \\u0628\\u0639\\u062f\\u0647 \\u0648\\u0623\\u0639\\u0648\\u0630 \\u0628\\u0643 \\u0645\\u0646 \\u0634\\u0630 \\u0645\\u0627 \\u0641\\u064a \\u0647\\u0630\\u0627 \\u0627\\u0644\\u064a\\u0648\\u0645 \\u0648\\u0634\\u0630 \\u0645\\u0627 \\u0628\\u0639\\u062f\\u0647 \\u0631\\u0628 \\u0623\\u0639\\u0648\\u0630 \\u0628\\u0643 \\u0645\\u0646 \\u0627\\u0644\\u0643\\u062b\\u0644 \\u0648\\u0633\\u0648\\u0621 \\u0627\\u0644\\u0643\\u0628\\u0631 \\u0631\\u0628 \\u0623\\u0639\\u0648\\u0630 \\u0628\\u0643 \\u0645\\u0646 \\u0639\\u0630\\u0627\\u0628 \\u0641\\u064a \\u0627\\u0644\\u0646\\u0627\\u0631 \\u0648\\u0639\\u0630\\u0627\\u0628 \\u0641\\u064a \\u0627\\u0644\\u0642\\u0628\\u0631 \\u0627\\u0644\\u0644\\u0647\\u0645 \\u0628\\u0643 \\u0623\\u0635\\u0628\\u062d\\u0646\\u0627 \\u0648\\u0628\\u0643 \\u0623\\u0645\\u0633\\u064a\\u0646\\u0627 \\u0648\\u0628\\u0643 \\u0646\\u062d\\u064a\\u0627 \\u0648\\u0628\\u0643 \\u0646\\u0645\\u0648\\u062a \\u0648\\u0625\\u0644\\u064a\\u0643 \\u0627\\u0644\\u0646\\u0634\\u0648\\u0631 \\u0627\\u0644\\u0644\\u0647\\u0645 \\u0623\\u0646\\u062a \\u0631\\u0628\\u064a \\u0644\\u0627 \\u0625\\u0644\\u0647 \\u0625\\u0644\\u0627 \\u0623\\u0646\\u062a \\u062e\\u0644\\u0642\\u062a\\u0646\\u064a \\u0648\\u0623\\u0646\\u0627 \\u0639\\u0628\\u062f\\u0643 \\u0648\\u0623\\u0646\\u0627 \\u0639\\u0644\\u0649 \\u0639\\u0647\\u062f\\u0643 \\u0648\\u0648\\u0627\\u062f\\u0643 \\u0645\\u0627 \\u0627\\u0633\\u062a\\u0637\\u0639\\u062a \\u0623\\u0639\\u0648\\u0630 \\u0628\\u0643 \\u0645\\u0646 \\u0634\\u0630 \\u0645\\u0627 \\u0635\\u0646\\u0639\\u062a \\u0623\\u0628\\u0648\\u0621 \\u0644\\u0643 \\u0628\\u0646\\u0639\\u0645\\u062a\\u0643 \\u0639\\u0644\\u064a \\u0648\\u0623\\u0628\\u0648\\u0621 \\u0628\\u0630\\u0646\\u0628\\u064a \\u0641\\u0627\\u063a\\u0641\\u0631 \\u0644\\u064a \\u0641\\u0625\\u0646\\u0647 \\u0644\\u0627 \\u064a\\u063a\\u0641\\u0631 \\u0627\\u0644\\u0630\\u0646\\u0648\\u0628 \\u0625\\u0644\\u0627 \\u0623\\u0646 \\u0627\\u0644\\u0644\\u0647\\u0645 \\u0625\\u0646\\u064a \\u0623\\u0635\\u0628\\u062d\\u062a \\u0623\\u0634\\u0647\\u062f\\u0643 \\u0648\\u0623\\u0634\\u0647\\u062f \\u062d\\u0645\\u0644\\u0629 \\u0639\\u0631\\u0634\\u0643 \\u0648\\u0645\\u0644\\u0627\\u0626\\u0643\\u062a\\u0643 \\u0648\\u062c\\u0645\\u064a\\u0639 \\u062e\\u0644\\u0642\\u0643 \\u0623\\u0646\\u0643 \\u0623\\u0646\\u062a \\u0627\\u0644\\u0644\\u0647 \\u0644\\u0627 \\u0625\\u0644\\u0647 \\u0625\\u0644\\u0627 \\u0623\\u0646\\u062a \\u0648\\u062d\\u062f\\u0643 \\u0644\\u0627 \\u0634\\u0631\\u064a\\u0643 \\u0644\\u0643 \\u0648\\u0627\\u0646 \\u0645\\u062d\\u0645\\u062f \\u0639\\u0628\\u062f\\u0643 \\u0648\\u0631\\u0633\\u0648\\u0644\\u0643 \\u0627\\u0644\\u0644\\u0647\\u0645 \\u0625\\u0646\\u064a \\u0623\\u0635\\u0628\\u062d\\u062a \\u0623\\u0634\\u0647\\u062f\\u0643 \\u0648\\u0623\\u0634\\u0647\\u062f \\u062d\\u0645\\u0644\\u0629 \\u0639\\u0631\\u0634\\u0643 \\u0648\\u0645\\u0644\\u0627\\u0626\\u0643\\u062a\\u0643 \\u0648\\u062c\\u0645\\u064a\\u0639 \\u062e\\u0644\\u0642\\u0643 \\u0623\\u0646\\u0643 \\u0623\\u0646\\u062a \\u0627\\u0644\\u0644\\u0647 \\u0644\\u0627 \\u0625\\u0644\\u0647 \\u0625\\u0644\\u0627 \\u0623\\u0646\\u062a \\u0648\\u062d\\u062f\\u0643 \\u0644\\u0627 \\u0634\\u0631\\u064a\\u0643 \\u0644\\u0643 \\u0648\\u0623\\u0646 \\u0645\\u062d\\u0645\\u062f \\u0639\\u0628\\u062f\\u0643 \\u0648\\u0631\\u0633\\u0648\\u0644\\u0643 \\u0627\\u0644\\u0644\\u0647\\u0645 \\u0625\\u0646\\u064a \\u0623\\u0635\\u0628\\u062d\\u062a \\u0623\\u0634\\u0647\\u062f\\u0643 \\u0648\\u0623\\u0634\\u0647\\u062f \\u062d\\u0645\\u0644\\u0629 \\u0639\\u0631\\u0634\\u0643 \\u0648\\u0645\\u0644\\u0627\\u0626\\u0643\\u062a\\u0643 \\u0648\\u062c\\u0645\\u064a\\u0639 \\u062e\\u0644\\u0642\\u0643 \\u0623\\u0646\\u0643 \\u0623\\u0646\\u062a \\u0627\\u0644\\u0644\\u0647 \\u0644\\u0627 \\u0625\\u0644\\u0647 \\u0625\\u0644\\u0627 \\u0623\\u0646\\u062a \\u0648\\u062d\\u062f\\u0643 \\u0644\\u0627 \\u0634\\u0631\\u064a\\u0643 \\u0644\\u0643 \\u0648\\u0623\\u0646 \\u0645\\u062d\\u0645\\u062f \\u0639\\u0628\\u062f\\u0643 \\u0648\\u0631\\u0633\\u0648\\u0644\\u0643 \\u0627\\u0644\\u0644\\u0647\\u0645 \\u0625\\u0646\\u064a \\u0623\\u0635\\u0628\\u062d\\u062a \\u0623\\u0634\\u0647\\u062f\\u0643 \\u0648\\u0623\\u0634\\u0647\\u062f \\u062d\\u0645\\u0644\\u0629 \\u0639\\u0631\\u0634\\u0643 \\u0648\\u0645\\u0644\\u0627\\u0626\\u0643\\u062a\\u0643 \\u0648\\u062c\\u0645\\u064a\\u0639 \\u062e\\u0644\\u0642\\u0643 \\u0623\\u0646\\u0643 \\u0623\\u0646\\u062a \\u0627\\u0644\\u0644\\u0647 \\u0644\\u0627 \\u0625\\u0644\\u0647 \\u0625\\u0644\\u0627 \\u0623\\u0646\\u062a \\u0648\\u062d\\u062f\\u0643 \\u0644\\u0627 \\u0634\\u0631\\u064a\\u0643 \\u0644\\u0643 \\u0648\\u0623\\u0646 \\u0645\\u062d\\u0645\\u062f \\u0639\\u0628\\u062f\\u0643 \\u0648\\u0631\\u0633\\u0648\\u0644\\u0643 \\u0627\\u0644\\u0644\\u0647\\u0645 \\u0645\\u0627 \\u0623\\u0635\\u0628\\u062d \\u062f\\u064a\\u0646\\u064a \\u0646\\u0639\\u0645\\u0629 \\u0623\\u0648 \\u0628\\u0623\\u062d\\u062f \\u0645\\u0646 \\u062e\\u0644\\u0642\\u0643 \\u0641\\u0645\\u0646\\u0643 \\u0648\\u062d\\u062f\\u0643 \\u0644\\u0627 \\u0634\\u0631\\u064a\\u0643 \\u0644\\u0643 \\u0641\\u0644\\u0643 \\u0627\\u0644\\u062d\\u0645\\u062f \\u0648\\u0644\\u0643 \\u0627\\u0644\\u0634\\u0643\\u0631 \\u0627\\u0644\\u0644\\u0647\\u0645 \\u0639\\u0627\\u0641\\u0646\\u064a \\u0641\\u064a \\u0628\\u062f\\u0646\\u064a \\u0627\\u0644\\u0644\\u0647\\u0645 \\u0639\\u0627\\u0641\\u0646\\u064a \\u0641\\u064a \\u0633\\u0645\\u0639\\u064a \\u0627\\u0644\\u0644\\u0647\\u0645 \\u0639\\u0627\\u0641\\u0646\\u064a \\u0641\\u064a \\u0628\\u0635\\u0631\\u064a \\u0644\\u0627 \\u0625\\u0644\\u0647 \\u0625\\u0644\\u0627 \\u0623\\u0646\\u062a \\u0627\\u0644\\u0644\\u0647\\u0645 \\u0625\\u0646\\u064a \\u0623\\u0639\\u0648\\u0630 \\u0628\\u0643 \\u0645\\u0646 \\u0627\\u0644\\u0643\\u0641\\u0631 \\u0648\\u0627\\u0644\\u0641\\u0642\\u0631 \\u0648\\u0623\\u0639\\u0648\\u0630 \\u0628\\u0643 \\u0645\\u0646 \\u0639\\u0630\\u0627\\u0628 \\u0627\\u0644\\u0642\\u0628\\u0631 \\u0644\\u0627 \\u0625\\u0644\\u0647 \\u0625\\u0644\\u0627 \\u0623\\u0646\\u062a \\u0627\\u0644\\u0644\\u0647\\u0645 \\u0639\\u0627\\u0641\\u0646\\u064a \\u0641\\u064a \\u0628\\u062f\\u0646\\u064a \\u0627\\u0644\\u0644\\u0647\\u0645 \\u0639\\u0627\\u0641\\u0646\\u064a \\u0641\\u064a \\u0633\\u0645\\u0639\\u064a \\u0627\\u0644\\u0644\\u0647\\u0645 \\u0625\\u0646\\u064a \\u0623\\u0639\\u0648\\u0630 \\u0628\\u0643 \\u0645\\u0646 \\u0627\\u0644\\u0643\\u0641\\u0631 \\u0648\\u0627\\u0644\\u0641\\u0642\\u0631 \\u0648\\u0623\\u0639\\u0648\\u0630 \\u0628\\u0643 \\u0645\\u0646 \\u0639\\u0630\\u0627\\u0628 \\u0627\\u0644\\u0642\\u0628\\u0631 \\u0644\\u0627 \\u0625\\u0644\\u0647 \\u0625\\u0644\\u0627 \\u0623\\u0646\\u062a \\u0627\\u0644\\u0644\\u0647\\u0645 \\u0639\\u0627\\u0641\\u0646\\u064a \\u0641\\u064a \\u0628\\u062f\\u0646\\u064a \\u0627\\u0644\\u0644\\u0647\\u0645 \\u0639\\u0627\\u0641\\u0646\\u064a \\u0641\\u064a \\u0633\\u0645\\u0639\\u064a \\u0627\\u0644\\u0644\\u0647\\u0645 \\u0639\\u0627\\u0641\\u0646\\u064a \\u0641\\u064a \\u0628\\u0635\\u0631\\u064a \\u0644\\u0627 \\u0625\\u0644\\u0647 \\u0625\\u0644\\u0627 \\u0623\\u0646\\u062a \\u0627\\u0644\\u0644\\u0647\\u0645 \\u0625\\u0646\\u064a \\u0623\\u0639\\u0648\\u0630 \\u0628\\u0643 \\u0645\\u0646 \\u0627\\u0644\\u0643\\u0641\\u0631 \\u0648\\u0627\\u0644\\u0641\\u0642\\u0631 \\u0648\\u0623\\u0639\\u0648\\u0630 \\u0628\\u0643 \\u0645\\u0646 \\u0639\\u0630\\u0627\\u0628 \\u0627\\u0644\\u0642\\u0628\\u0631 \\u0644\\u0627 \\u0625\\u0644\\u0647 \\u0625\\u0644\\u0627 \\u0623\\u0646\\u062a \\u062d\\u0633\\u062f\\u064a \\u0627\\u0644\\u0644\\u0647 \\u0644\\u0627 \\u0625\\u0644\\u0647 \\u0625\\u0644\\u0627 \\u0647\\u0648 \\u0639\\u0644\\u064a\\u0647 \\u062a\\u0648\\u0643\\u0644\\u062a \\u0648\\u0647\\u0648 \\u0631\\u0628 \\u0627\\u0644\\u0639\\u0631\\u0634 \\u0627\\u0644\\u0639\\u0638\\u064a\\u0645 \\u062d\\u0633\\u062f\\u064a \\u0627\\u0644\\u0644\\u0647 \\u0644\\u0627 \\u0625\\u0644\\u0647 \\u0625\\u0644\\u0627 \\u0647\\u0648 \\u0639\\u0644\\u064a\\u0647 \\u062a\\u0648\\u0643\\u0644\\u062a \\u0648\\u0647\\u0648 \\u0631\\u0628 \\u0627\\u0644\\u0639\\u0631\\u0634 \\u0627\\u0644\\u0639\\u0638\\u064a\\u0645 \\u062d\\u0633\\u062f\\u064a \\u0627\\u0644\\u0644\\u0647 \\u0644\\u0627 \\u0625\\u0644\\u0647 \\u0625\\u0644\\u0627 \\u0647\\u0648 \\u0639\\u0644\\u064a\\u0647 \\u062a\\u0648\\u0643\\u0644\\u062a \\u0648\\u0647\\u0648 \\u0631\\u0628 \\u0627\\u0644\\u0639\\u0631\\u0634 \\u0627\\u0644\\u0639\\u0638\\u064a\\u0645 \\u062d\\u0633\\u062f\\u064a \\u0627\\u0644\\u0644\\u0647 \\u0644\\u0627 \\u0625\\u0644\\u0647 \\u0625\\u0644\\u0627 \\u0647\\u0648 \\u0639\\u0644\\u064a\\u0647 \\u062a\\u0648\\u0643\\u0644\\u062a \\u0648\\u0647\\u0648 \\u0631\\u0628 \\u0627\\u0644\\u0639\\u0631\\u0634 \\u0627\\u0644\\u0639\\u0638\\u064a\\u0645 \\u062d\\u0633\\u062f\\u064a \\u0627\\u0644\\u0644\\u0647 \\u0644\\u0627 \\u0625\\u0644\\u0647 \\u0625\\u0644\\u0627 \\u0647\\u0648 \\u0639\\u0644\\u064a\\u0647 \\u062a\\u0648\\u0643\\u0644\\u062a \\u0648\\u0647\\u0648 \\u0631\\u0628 \\u0627\\u0644\\u0639\\u0631\\u0634 \\u0627\\u0644\\u0639\\u0638\\u064a\\u0645 \\u062d\\u0633\\u062f\\u064a \\u0627\\u0644\\u0644\\u0647 \\u0644\\u0627 \\u0625\\u0644\\u0647 \\u0625\\u0644\\u0627 \\u0647\\u0648 \\u0639\\u0644\\u064a\\u0647 \\u062a\\u0648\\u0643\\u0644\\u062a \\u0648\\u0647\\u0648 \\u0631\\u0628 \\u0627\\u0644\\u0639\\u0631\\u0634 \\u0627\\u0644\\u0639\\u0638\\u064a\\u0645 \\u062d\\u0633\\u062f\\u064a \\u0627\\u0644\\u0644\\u0647 \\u0644\\u0627 \\u0625\\u0644\\u0647 \\u0625\\u0644\\u0627 \\u0647\\u0648 \\u0639\\u0644\\u064a\\u0647 \\u062a\\u0648\\u0643\\u0644\\u062a \\u0648\\u0647\\u0648 \\u0631\\u0628 \\u0627\\u0644\\u0639\\u0631\\u0634 \\u0627\\u0644\\u0639\\u0638\\u064a\\u0645 \\u0627\\u0644\\u0644\\u0647\\u0645 \\u0625\\u0646\\u064a \\u0623\\u0633\\u0623\\u0644\\u0643 \\u0627\\u0644\\u0639\\u0641\\u0648 \\u0648\\u0627\\u0644\\u0639\\u0627\\u0641\\u064a\\u0629 \\u0641\\u064a \\u0627\\u0644\\u062f\\u0646\\u064a\\u0627 \\u0648\\u0627\\u0644\\u0622\\u062e\\u0631\\u0629 \\u0627\\u0644\\u0644\\u0647\\u0645 \\u0625\\u0646\\u064a \\u0623\\u0633\\u0623\\u0644\\u0643 \\u0627\\u0644\\u0639\\u0641\\u0648 \\u0648\\u0627\\u0644\\u0639\\u0627\\u0641\\u064a\\u0629 \\u0641\\u064a \\u062f\\u064a\\u0646\\u064a \\u0648\\u062f\\u0646\\u064a\\u0627\\u064a \\u0648\\u0623\\u0647\\u0644\\u064a \\u0648\\u0645\\u0627\\u0644\\u064a \\u0627\\u0644\\u0644\\u0647\\u0645 \\u0627\\u0643\\u062a\\u0631 \\u0639\\u0648\\u0631\\u0627\\u062a\\u064a \\u0648\\u0622\\u0645\\u0646 \\u0631\\u0648\\u0639\\u0627\\u062a\\u064a \\u0627\\u0644\\u0644\\u0647\\u0645 \\u0627\\u062d\\u0641\\u0638\\u0646\\u064a \\u0645\\u0646 \\u0628\\u064a\\u0646 \\u064a\\u062f\\u064a \\u0648\\u0645\\u0646 \\u062e\\u0644\\u0641\\u064a \\u0648\\u0639\\u0646 \\u064a\\u0645\\u064a\\u0646\\u064a \\u0648\\u0639\\u0646 \\u0634\\u0645\\u0627\\u0644\\u064a \\u0648\\u0645\\u0646 \\u0641\\u0648\\u0642\\u064a \\u0648\\u0623\\u0639\\u0648\\u0630 \\u0628\\u0639\\u0638\\u0645\\u062a\\u0643 \\u0623\\u0646 \\u0623\\u063a\\u062a\\u0627\\u0644 \\u0645\\u0646 \\u062a\\u062d\\u062a\\u064a \\u0627\\u0644\\u0644\\u0647\\u0645 \\u0639\\u0627\\u0644\\u0645 \\u0627\\u0644\\u063a\\u064a\\u0628 \\u0648\\u0627\\u0644\\u0634\\u0647\\u0627\\u062f\\u0629 \\u0641\\u0627\\u0637\\u0631 \\u0627\\u0644\\u0633\\u0645\\u0627\\u0648\\u0627\\u062a \\u0648\\u0627\\u0644\\u0623\\u0631\\u0636 \\u0631\\u0628 \\u0643\\u0644 \\u0634\\u064a\\u0621 \\u0648\\u0645\\u0644\\u064a\\u0643\\u0647 \\u0623\\u0634\\u0647\\u062f \\u0623\\u0646 \\u0644\\u0627 \\u0625\\u0644\\u0647 \\u0625\\u0644\\u0627 \\u0623\\u0646\\u062a \\u0623\\u0639\\u0648\\u0630 \\u0628\\u0643 \\u0645\\u0646 \\u0634\\u0631 \\u0646\\u0641\\u0633\\u0647 \\u0648\\u0645\\u0646 \\u0634\\u0631 \\u0627\\u0644\\u0634\\u064a\\u0637\\u0627\\u0646 \\u0648\\u0634\\u0631\\u0643\\u0647 \\u0648\\u0623\\u0646 \\u0623\\u0642\\u062a\\u0631\\u0641 \\u0639\\u0644\\u0649 \\u0646\\u0641\\u0633\\u064a \\u0633\\u0648\\u0621\\u0627 \\u0623\\u0648 \\u0623\\u062c\\u0631\\u0647 \\u0625\\u0644\\u0649 \\u0645\\u0633\\u0644\\u0645 \\u0628\\u0633\\u0645 \\u0627\\u0644\\u0644\\u0647 \\u0627\\u0644\\u0630\\u064a \\u0644\\u0627 \\u064a\\u0636\\u0631 \\u0645\\u0639 \\u0627\\u0633\\u0645\\u0647 \\u0634\\u064a\\u0621 \\u0641\\u064a \\u0627\\u0644\\u0623\\u0631\\u0636 \\u0648\\u0644\\u0627 \\u0641\\u064a \\u0627\\u0644\\u0633\\u0645\\u0627\\u0621 \\u0648\\u0647\\u0648 \\u0627\\u0644\\u0633\\u0645\\u064a\\u0639 \\u0627\\u0644\\u0639\\u0644\\u064a\\u0645 \\u0628\\u0633\\u0645 \\u0627\\u0644\\u0644\\u0647 \\u0627\\u0644\\u0630\\u064a \\u0644\\u0627 \\u064a\\u0636\\u0631 \\u0645\\u0639 \\u0627\\u0633\\u0645\\u0647 \\u0634\\u064a\\u0621 \\u0641\\u064a \\u0627\\u0644\\u0623\\u0631\\u0636 \\u0648\\u0644\\u0627 \\u0641\\u064a \\u0627\\u0644\\u0633\\u0645\\u0627\\u0621 \\u0648\\u0647\\u0648 \\u0627\\u0644\\u0633\\u0645\\u064a\\u0639 \\u0627\\u0644\\u0639\\u0644\\u064a\\u0645 \\u0628\\u0633\\u0645 \\u0627\\u0644\\u0644\\u0647 \\u0627\\u0644\\u0630\\u064a \\u0644\\u0627 \\u064a\\u0636\\u0631 \\u0645\\u0639 \\u0627\\u0633\\u0645\\u0647 \\u0634\\u064a\\u0621 \\u0641\\u064a \\u0627\\u0644\\u0623\\u0631\\u0636 \\u0648\\u0644\\u0627 \\u0641\\u064a \\u0627\\u0644\\u0633\\u0645\\u0627\\u0621 \\u0648\\u0647\\u0648 \\u0627\\u0644\\u0633\\u0645\\u064a\\u0639 \\u0627\\u0644\\u0639\\u0644\\u064a\\u0645 \\u0631\\u0636\\u064a\\u062a \\u0628\\u0627\\u0644\\u0644\\u0647 \\u0631\\u0628\\u0627 \\u0648\\u0628\\u0627\\u0644\\u0625\\u0633\\u0644\\u0627\\u0645 \\u062f\\u064a\\u0646\\u0627 \\u0648\\u0628\\u0645\\u062d\\u0645\\u062f \\u0635\\u0644\\u0649 \\u0627\\u0644\\u0644\\u0647 \\u0639\\u0644\\u064a\\u0647 \\u0648\\u0633\\u0644\\u0645 \\u0646\\u0628\\u064a\\u0627 \\u0631\\u0636\\u064a\\u062a \\u0628\\u0627\\u0644\\u0644\\u0647 \\u0631\\u0628\\u0627 \\u0648\\u0628\\u0627\\u0644\\u0625\\u0633\\u0644\\u0627\\u0645 \\u062f\\u064a\\u0646\\u0627 \\u0648\\u0628\\u0645\\u062d\\u0645\\u062f \\u0635\\u0644\\u0649 \\u0627\\u0644\\u0644\\u0647 \\u0639\\u0644\\u064a\\u0647 \\u0648\\u0633\\u0644\\u0645 \\u0646\\u0628\\u064a\\u0627 \\u064a\\u0627 \\u062d\\u064a \\u064a\\u0627 \\u0642\\u064a\\u0648\\u0645 \\u0628\\u0631\\u062d\\u0645\\u062a\\u0643 \\u0627\\u0644\\u0633\\u063a\\u064a\\u0641 \\u0623\\u0635\\u0644\\u062d \\u062f\\u064a \\u0634\\u0623\\u0646\\u064a \\u0643\\u0644\\u0629 \\u0648\\u0644\\u0627 \\u062a\\u0643\\u0644\\u0646\\u064a \\u0625\\u0644\\u0649 \\u0646\\u0641\\u0633\\u064a \\u0637\\u0631\\u0641\\u0629 \\u0639\\u064a\\u0646 \\u0623\\u0635\\u0628\\u062d\\u0646\\u0627 \\u0648\\u0623\\u0635\\u0628\\u062d \\u0627\\u0644\\u0645\\u0644\\u0643 \\u0644\\u0644\\u0647 \\u0631\\u0628 \\u0627\\u0644\\u0639\\u0627\\u0644\\u0645\\u064a\\u0646 \\u0627\\u0644\\u0644\\u0647\\u0645 \\u0625\\u0646\\u064a \\u0623\\u0633\\u0623\\u0644\\u0643 \\u062e\\u064a\\u0631 \\u0647\\u0630\\u0627 \\u0627\\u0644\\u064a\\u0648\\u0645 \\u0641\\u062a\\u062d\\u0647 \\u0648\\u0646\\u0635\\u0631\\u0647 \\u0648\\u0646\\u0648\\u0631\\u0647 \\u0648\\u0628\\u0631\\u0643\\u062a\\u0647 \\u0648\\u0647\\u062f\\u0627\\u0647 \\u0648\\u0623\\u0639\\u0648\\u0630 \\u0628\\u0643 \\u0645\\u0646 \\u0634\\u0630\\u0646\\u0627 \\u0641\\u064a\\u0647 \\u0648\\u0634\\u0630\\u0646\\u0627 \\u0628\\u0639\\u062f\\u0647 \\u0623\\u0635\\u0628\\u062d\\u0646\\u0627 \\u0639\\u0644\\u0649 \\u0641\\u0637\\u0631\\u0629 \\u0627\\u0644\\u0625\\u0633\\u0644\\u0627\\u0645 \\u0648\\u0639\\u0644\\u0649 \\u0643\\u0644\\u0645\\u0629 \\u0627\\u0644\\u0625\\u062e\\u0644\\u0627\\u0641 \\u0648\\u0639\\u0644\\u0649 \\u062f\\u064a\\u0646 \\u0646\\u0628\\u064a\\u0646\\u0627 \\u0645\\u062d\\u0645\\u062f \\u0635\\u0644\\u0649 \\u0627\\u0644\\u0644\\u0647 \\u0639\\u0644\\u064a\\u0647 \\u0648\\u0633\\u0644\\u0645 \\u0648\\u0639\\u0644\\u0649 \\u0645\\u0644\\u0629 \\u0623\\u0628\\u064a\\u0646\\u0627 \\u0625\\u0628\\u0631\\u0627\\u0647\\u064a\\u0645 \\u062d\\u0644\\u064a\\u0641\\u0627 \\u0645\\u0633\\u0644\\u0645\\u0627 \\u0648\\u0645\\u0627 \\u0643\\u0627\\u0646 \\u0645\\u0646 \\u0627\\u0644\\u0645\\u0634\\u062a\\u0643\\u064a\\u0646 \\u0633\\u0628\\u062d\\u0627\\u0646 \\u0627\\u0644\\u0644\\u0647 \\u0648\\u0628\\u062d\\u0645\\u062f\\u0647 \\u0644\\u0627 \\u0625\\u0644\\u0647 \\u0625\\u0644\\u0627 \\u0627\\u0644\\u0644\\u0647 \\u0648\\u062d\\u062f\\u0647 \\u0644\\u0627 \\u0634\\u0631\\u064a\\u0643 \\u0644\\u0647 \\u0644\\u0647 \\u0627\\u0644\\u0645\\u0644\\u0643 \\u0648\\u0644\\u0647 \\u0627\\u0644\\u062d\\u0645\\u062f \\u0648\\u0647\\u0648 \\u0639\\u0644\\u0649 \\u0643\\u0644 \\u0634\\u064a\\u0621 \\u0642\\u062f\\u064a\\u0631 \\u0633\\u0628\\u062d\\u0627\\u0646 \\u0627\\u0644\\u0644\\u0647 \\u0648\\u0628\\u062d\\u0645\\u062f\\u0647 \\u0639\\u062f\\u062f \\u062e\\u0644\\u0637\\u0647 \\u0648\\u0628\\u0636\\u0627 \\u0646\\u0641\\u0633\\u0647 \\u0648\\u0632\\u0646\\u0629 \\u0639\\u0631\\u0634\\u0647 \\u0648\\u0645\\u062f\\u0627\\u062f \\u0643\\u0644\\u0645\\u0627\\u062a\\u0647 \\u0633\\u0628\\u062d\\u0627\\u0646 \\u0627\\u0644\\u0644\\u0647 \\u0648\\u0628\\u062d\\u0645\\u062f\\u0647 \\u0639\\u062f\\u062f \\u062e\\u0644\\u0637\\u0647 \\u0648\\u0631\\u0636\\u0627 \\u0646\\u0641\\u0633\\u0647 \\u0648\\u0632\\u0646\\u0629 \\u0639\\u0631\\u0634\\u0647 \\u0648\\u0645\\u062f\\u0627\\u062f \\u0643\\u0644\\u0645\\u0627\\u062a\\u0647 \\u0633\\u0628\\u062d\\u0627\\u0646 \\u0627\\u0644\\u0644\\u0647 \\u0648\\u0628\\u062d\\u0645\\u062f\\u0647 \\u0639\\u062f\\u062f \\u062e\\u0644\\u0637\\u0647 \\u0648\\u0631\\u0636\\u0627 \\u0646\\u0641\\u0633\\u0647 \\u0648\\u0632\\u0646\\u0629 \\u0639\\u0631\\u0634\\u0647 \\u0648\\u0645\\u062f\\u0627\\u062f \\u0643\\u0644\\u0645\\u0627\\u062a\\u0647 \\u0627\\u0644\\u0644\\u0647\\u0645 \\u0625\\u0646\\u064a \\u0623\\u0633\\u0623\\u0644\\u0643 \\u0639\\u0644\\u0645\\u0627 \\u0646\\u0627\\u0641\\u0639\\u0627 \\u0648\\u0631\\u0632\\u0642\\u0627 \\u0637\\u064a\\u0628\\u0627 \\u0648\\u0639\\u0645\\u0644\\u0627 \\u0645\\u062a\\u0642\\u0628\\u0644\\u0627 \\u0623\\u0633\\u062a\\u063a\\u0641\\u0631 \\u0627\\u0644\\u0644\\u0647 \\u0648\\u0623\\u062a\\u0648\\u0628 \\u0625\\u0644\\u064a\\u0647 \\u0623\\u0639\\u0648\\u0630 \\u0628\\u0643\\u0644\\u0645\\u0627\\u062a \\u0627\\u0644\\u0644\\u0647 \\u0627\\u0644\\u062a\\u0627\\u0645\\u0627\\u062a \\u0645\\u0646 \\u0634\\u0631 \\u0645\\u0627 \\u062e\\u0644\\u0642 \\u0627\\u0644\\u0644\\u0647\\u0645 \\u0635\\u0644\\u064a \\u0648\\u0633\\u0644\\u0645 \\u0639\\u0644\\u0649 \\u0646\\u0628\\u064a\\u0646\\u0627 \\u0645\\u062d\\u0645\\u062f \\u0627\\u0644\\u0644\\u0647\\u0645 \\u0635\\u0644 \\u0648\\u0633\\u0644\\u0645 \\u0639\\u0644\\u0649 \\u0646\\u0628\\u064a\\u0646\\u0627 \\u0645\\u062d\\u0645\\u062f \\u0627\\u0644\\u0644\\u0647\\u0645 \\u0635\\u0644 \\u0648\\u0633\\u0644\\u0645 \\u0639\\u0644\\u0649 \\u0646\\u0628\\u064a\\u0646\\u0627 \\u0645\\u062d\\u0645\\u062f \\u0627\\u0644\\u0644\\u0647\\u0645 \\u0635\\u0644 \\u0648\\u0633\\u0644\\u0645 \\u0639\\u0644\\u0649 \\u0646\\u0628\\u064a\\u0646\\u0627 \\u0645\\u062d\\u0645\\u062f\"\n",
      "}\n"
     ]
    }
   ],
   "source": [
    "# Set your API key\n",
    "openai.api_key = \"API_KEY\"\n",
    "\n",
    "# Open the audio.m4a file\n",
    "audio_file= open(\"AUD-20221019-WA0000.mp3\",\"rb\")\n",
    "\n",
    "# Create a transcript from the audio file\n",
    "response = openai.Audio.transcribe(\"whisper-1\",audio_file)\n",
    "\n",
    "print(response)"
   ]
  },
  {
   "cell_type": "code",
   "execution_count": 15,
   "id": "71e9a1b0",
   "metadata": {
    "collapsed": true
   },
   "outputs": [
    {
     "name": "stdout",
     "output_type": "stream",
     "text": [
      "Remembrance said in the morning and evening Who is it that will intercede with Him except by His permission? He knows what is before them and what is behind them And they do not encompass anything of His knowledge except as He wills His throne extends over the heavens and the earth And none can prevent Him from preserving them And He is the Most High, the Most Great Say, He is Allah, the One Allah, the Ever-Lasting He neither begets nor is begotten And there is none like unto Him Say, He is Allah, the One Allah, the Ever-Lasting He neither begets nor is begotten And there is none like unto Him Say, He is Allah, the One Allah, the Ever-Lasting He neither begets nor is begotten And there is none like unto Him Say, I seek refuge in the Lord of the Creation From the evil of that which He has created And from the evil of a deaf when he is awake And from the evil of the breathers in the neck And from the evil of an envier when he envies In the name of Allah, the Most Gracious, the Most Merciful Say, I seek refuge in the Lord of the Creation From the evil of that which He has created And from the evil of a deaf when he is awake And from the evil of the breathers in the neck And from the evil of an envier when he envies In the name of Allah, the Most Gracious, the Most Merciful Say, I seek refuge in the Lord of the Creation From the evil of that which He has created And from the evil of a deaf when he is awake And from the evil of the breathers in the neck And from the evil of an envier when he envies In the name of Allah, the Most Gracious, the Most Merciful Say, I seek refuge in the Lord of the Creation Our Sovereign, our God From the evil of that which He has created Who dwells in our hearts From the jinn and from us In the name of Allah, the Most Gracious, the Most Merciful Say, I seek refuge in the Lord of the Creation Our Sovereign, our God From the evil of that which He has created Who dwells in our hearts From the jinn and from us In the name of Allah, the Most Gracious, the Most Merciful Say, I seek refuge in the Lord of the Creation Our Sovereign, our God From the evil of that which He has created Who dwells in our hearts From the jinn and from us My Lord, I ask You for the best of what is in this day and the best of what is after it And I seek refuge in You from the worst of what is in this day and the worst of what is after it My Lord, I seek refuge in You from laziness and from the evil of old age My Lord, I seek refuge in You from the punishment in the fire and the punishment in the grave O Allah, for You we have become, and for You we have died, and for You we live, and for You we die, and to You is the resurrection O Allah, You are my Lord, there is no god but You You have created me and I am Your servant And I am on Your covenant and Your promise as much as I can I seek refuge in You from the worst of what You have done I seek refuge in You for Your favor upon me and I seek refuge in You for my sin, so forgive me For He does not forgive sins except that O Allah, I have become a witness to You and I bear witness to Your throne and Your angels and all of Your creation That You are Allah, there is no god but You, alone, there is no partner for You And that Muhammad is Your servant and Your messenger O Allah, I have become a witness to You and I bear witness to Your throne and Your angels and all of Your creation That You are Allah, there is no god but You, alone, there is no partner for You And that Muhammad is Your servant and Your messenger O Allah, I have become a witness to You and I bear witness to Your throne and Your angels and all of Your creation that You are Allah, there is no god but You, alone, there is no partner for You And that Muhammad is Your servant and Your messenger O Allah, I have become a witness to You and I bear witness to Your throne and Your angels and all of Your creation that You are Allah, there is no god but You, alone, there is no partner for You And that Muhammad is Your servant and Your messenger O Allah, I have not become of any blessing or of any of Your creation O Allah, forgive me in my body, O Allah, forgive me in my hearing, O Allah, forgive me in my sight There is no god but You O Allah, I seek refuge in You from disbelief and poverty And I seek refuge in You from the torment of the grave There is no god but You O Allah, forgive me in my body, O Allah, forgive me in my hearing, O Allah, forgive me in my sight There is no god but You O Allah, I seek refuge in You from disbelief and poverty And I seek refuge in You from the torment of the grave There is no god but You O Allah, forgive me in my body, O Allah, forgive me in my hearing, O Allah, forgive me in my sight There is no god but You O Allah, I seek refuge in You from disbelief and poverty And I seek refuge in You from the torment of the grave There is no god but You Send to me Allah There is no god but He Upon Him I entrust He is the Lord of the Great Throne Send to me Allah There is no god but He Upon Him I entrust He is the Lord of the Great Throne Send to me Allah There is no god but He I entrust unto Him Send to me Allah There is no god but He Upon Him I entrust He is the Lord of the Great Throne Allahumma inni as'aluka al'afwa wa al'afiyata fi dunya wa al'akhira Allahumma inni as'aluka al'afwa wa al'afiyata fi dini wa dunyaya wa ahli wa mali Allahumma astur a'uratihi wa amin rau'atihi Allahumma ahfazni min bayni yadayya wa min qalfi wa am yamini wa am shimali wa min fawqihi wa a'udu bi'azamatika an ughtala min tahfihi Allahumma a'alima al-ghaybi wa al-shahada fatir al-thamawati wa al-ard Rabba kulli shay'in wa malikah ash'hadu an la ilaha illa ans a'udu bika min sharr nafthihi wa min sharr al-shaytaani wa shirkihi wa an akhtarifa ala nafthihi su'aa aw ajurrahu ila muslim bismillahi allathee la yadurru ma'asmihi shay'un fil ardi wa la fil thamai wa huwa assami'ul alim bismillahi allathee la yadurru ma'asmihi shay'un fil ardi wa la fil thamai wa huwa assami'ul alim bismillahi allathee la yadurru ma'asmihi shay'un fil ardi wa la fil thamai wa huwa assami'ul alim Ra'deetu billahi Rabbaa wabil Islami dinaa wbMuhammadin SallAllahu alayhi wa sallma Nabiyya Ra'deetu billahi Rabbaa wbil Islami dinaa wbMuhammadin SallAllahu alayhi wa sallma Nabiyya Raideetu billahi Rabbaa wbil Islami dinaa wbMuhammadin SallAllahu alayhi wa sallma Nabiyya Ya Hayyu Ya Qayyum Bi rahmatika astaghif Aslihdi sha'ni kulla Wala takilni ila nasti qarfata ayn Asbahna wa asbahal mulku lillahi rabbil alamin Allahumma inni as'aluka khayra hadhal yawm fathahu wa nasrah wa noorahu wa barakatahu wa hudah wa a'udhu bika min sharrina fihi wa sharrina ba'dah Asbahna ala fitratil islam wa ala kalimatil ikhlaaf wa ala deen nabiyyina Muhammadin SallAllahu alayhi wa sallam wa ala millati abina Ibrahim halifan musliman wa ma kana minal mushrikeen Subhanallah wa bihamdih Repeat 100 times La ilaha illallah wahdahu la sharika lah lahul mulku wa lahul hamd wa huwa ala kulli shay'in qadeer Repeat 100 times Allahumma inni as'aluka ilman nafi'a wa rizqan tayyiba wa amalan mutaqabbala astaghfirullaha wa atubu ilaih Repeat 100 times daily a'udhu bikalimatillahi attammati min sharri ma khalaq a'udhu bikalimatillahi attammati min sharri ma khalaq a'udhu bikalimatillahi attammati min sharri ma khalaq Allahumma sall wa sallim alla nabihina muhammad Allahumma sall wa sallim alla nabihina muhammad Allahumma sallasllim alla nabiina muhamman Allahumma sallasllim alla nabiyina muhammad Allahumma sallasllim alla nabiyina muhammad Allahumma sallasllim alla nabiyina muhamman Allahumma sallasllim alla nabiyina muhammad Allahumma sallasllim alla nabiyina muhammad Allahumma sallasllim alla nabiyina muhammad Allahumma sallasllim alla nabiyina muhammad\n"
     ]
    }
   ],
   "source": [
    "# Set your API key\n",
    "openai.api_key = \"API_KEY\"\n",
    "\n",
    "# Open the audio.m4a file\n",
    "audio_file= open(\"AUD-20221019-WA0000.mp3\",\"rb\")\n",
    "\n",
    "# Create a transcript from the audio file\n",
    "response = openai.Audio.translate(\"whisper-1\",audio_file)\n",
    "\n",
    "print(response[\"text\"])"
   ]
  },
  {
   "cell_type": "code",
   "execution_count": null,
   "id": "1d27f7d4",
   "metadata": {},
   "outputs": [],
   "source": []
  }
 ],
 "metadata": {
  "kernelspec": {
   "display_name": "Python 3 (ipykernel)",
   "language": "python",
   "name": "python3"
  },
  "language_info": {
   "codemirror_mode": {
    "name": "ipython",
    "version": 3
   },
   "file_extension": ".py",
   "mimetype": "text/x-python",
   "name": "python",
   "nbconvert_exporter": "python",
   "pygments_lexer": "ipython3",
   "version": "3.10.9"
  }
 },
 "nbformat": 4,
 "nbformat_minor": 5
}
