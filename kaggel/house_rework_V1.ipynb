{
 "cells": [
  {
   "cell_type": "code",
   "execution_count": 19,
   "id": "095441bb",
   "metadata": {},
   "outputs": [],
   "source": [
    "#Import important libraries\n",
    "import pandas as pd\n",
    "import numpy as np\n",
    "import seaborn as sns\n",
    "import matplotlib.pyplot as plt\n",
    "plt.style.use('fivethirtyeight')\n",
    "from scipy import stats\n",
    "import sklearn\n",
    "from sklearn import preprocessing\n",
    "from sklearn.preprocessing import OneHotEncoder\n",
    "from sklearn.preprocessing import LabelEncoder\n",
    "from sklearn.impute import SimpleImputer\n",
    "from sklearn.linear_model import LinearRegression, Ridge  \n",
    "from sklearn.metrics import mean_absolute_error\n",
    "from sklearn.pipeline import make_pipeline\n",
    "from sklearn.model_selection import cross_val_score,GridSearchCV\n",
    "import warnings\n",
    "warnings.filterwarnings('ignore')\n",
    "\n",
    "\n",
    "from scipy import stats\n",
    "from scipy.stats import norm, skew"
   ]
  },
  {
   "cell_type": "code",
   "execution_count": 2,
   "id": "9033d637",
   "metadata": {},
   "outputs": [],
   "source": [
    "def wrangle(datapath):\n",
    "    #read data into dataframe\n",
    "    df = pd.read_csv(datapath)\n",
    "    \n",
    "    #get list of features with above 20% missing values\n",
    "    mask = df.isna().sum()[df.isna().sum()/len(df) > 0.2].keys().tolist()\n",
    "    #drop the features above with above 20% missing value\n",
    "    df.drop(columns=mask,inplace=True)\n",
    "    \n",
    "\n",
    "    #trimming the bottom and top 10% of properties in terms of \"surface_covered_in_m2\"\n",
    "    low, high = df[\"MSSubClass\"].quantile([0.1, 0.9])\n",
    "    mask_area = df[\"MSSubClass\"].between(low, high)\n",
    "    df = df[mask_area] \n",
    "    \n",
    "    #group unique feature values in 3 classes (multicollinerity columns)\n",
    "    mid_unique_values =[]\n",
    "    large_unique_values =[]\n",
    "    target = []\n",
    "    #concatinating features with mid and low counts of unique values\n",
    "    for col in df.columns:\n",
    "        value = df[col].nunique()\n",
    "        if value < 25:\n",
    "                mid_unique_values.append(col)\n",
    "        elif col == \"SalePrice\":\n",
    "            target.append(col)\n",
    "        else:\n",
    "                large_unique_values.append(col)\n",
    "               \n",
    "    data = pd.concat([df[mid_unique_values],df[target]],axis=1)\n",
    "    return data"
   ]
  },
  {
   "cell_type": "code",
   "execution_count": 3,
   "id": "1c996406",
   "metadata": {},
   "outputs": [],
   "source": [
    "train = wrangle('train_house.csv')\n",
    "test = wrangle('test_house.csv')"
   ]
  },
  {
   "cell_type": "code",
   "execution_count": 4,
   "id": "450fb6a2",
   "metadata": {},
   "outputs": [],
   "source": [
    "#recasting float types in test as ints\n",
    "y_train = train[\"SalePrice\"]\n",
    "train.drop(columns=\"SalePrice\",inplace=True)\n",
    "\n",
    "#drop features not common to both train and test datasets\n",
    "off = []\n",
    "for col in train.columns:\n",
    "      if col not in test.columns:\n",
    "            off.append(col)\n",
    "train.drop(columns=off,inplace=True)"
   ]
  },
  {
   "cell_type": "code",
   "execution_count": 5,
   "id": "d768ca34",
   "metadata": {},
   "outputs": [],
   "source": [
    "#Train function\n",
    "def clean(dataframe):\n",
    "    \n",
    "    clean = dataframe\n",
    "      \n",
    "    #Get cordinality of categorical features and output result as a dataframe for the clean data\n",
    "    categorical_data_clean = clean.select_dtypes(include='object').copy()\n",
    "    \n",
    "    #mask high cordinality feature in the clean dataset (categorical)\n",
    "    large_unique_value_clean =[]\n",
    "    for col in categorical_data_clean.columns:\n",
    "        value = len(categorical_data_clean[col].unique())\n",
    "        if value > 5:\n",
    "            large_unique_value_clean.append(col)\n",
    "\n",
    "    #caste of high cordinality features for clean dataset\n",
    "    for val in large_unique_value_clean:\n",
    "        top_5_clean = clean[val].value_counts().head(5)\n",
    "        clean[val] = clean[val].apply(lambda c: c if c in top_5_clean else \"Others\")\n",
    "        \n",
    "    #Get cordinality of numerical features and output result as a dataframe for clean data\n",
    "    int_data_clean = clean.select_dtypes(include='int64').copy()\n",
    "    \n",
    "    #concatinating features with mid and low counts of unique values numerical clean data\n",
    "    large_unique_int =[]\n",
    "    for col in int_data_clean.columns:\n",
    "        value = len(int_data_clean[col].unique())\n",
    "        if value > 5:\n",
    "            large_unique_int.append(col)\n",
    "            \n",
    "    #caste of high cordinality features numerical clean data\n",
    "    for val in large_unique_int:\n",
    "        top_5 = clean[val].value_counts().head(5)\n",
    "        clean[val] = clean[val].apply(lambda c: c if c in top_5 else 0)\n",
    "        \n",
    "    #getting columns with missing values for train dataset\n",
    "    #missing_col = clean.isna().sum()[clean.isna().sum() != 0].index.tolist()\n",
    "    #fill NAN with mean value.\n",
    "    #for col in missing_col:\n",
    "        #clean[col] = clean[col].fillna(value='mean')\n",
    "\n",
    "    #Using label_encoder for all categorical features\n",
    "    clean_copy = clean.copy()\n",
    "    for c in categorical_data_clean:\n",
    "        label_encoder = LabelEncoder() \n",
    "        label_encoder.fit(list(clean_copy[c].values)) \n",
    "        clean_copy[c] = label_encoder.transform(list(clean_copy[c].values))\n",
    "\n",
    "    clean=clean_copy.copy().dropna()\n",
    "    return clean"
   ]
  },
  {
   "cell_type": "code",
   "execution_count": 6,
   "id": "6e23ff63",
   "metadata": {},
   "outputs": [],
   "source": [
    "train_data = clean(train)\n",
    "test_data = clean(test)"
   ]
  },
  {
   "cell_type": "code",
   "execution_count": 13,
   "id": "315dc8d8",
   "metadata": {},
   "outputs": [
    {
     "name": "stdout",
     "output_type": "stream",
     "text": [
      "1357\n",
      "1352\n",
      "1357\n"
     ]
    }
   ],
   "source": [
    "print(len(train_data))\n",
    "print(len(test_data))\n",
    "print(len(y_train))"
   ]
  },
  {
   "cell_type": "code",
   "execution_count": 21,
   "id": "588e3286",
   "metadata": {},
   "outputs": [],
   "source": [
    "from sklearn.model_selection import KFold,cross_val_score\n",
    "from sklearn.metrics import make_scorer,r2_score\n",
    "from sklearn.metrics import mean_squared_error\n",
    "\n",
    "def test_model(model, X_train=train_data, y_train=y_train):\n",
    "    cv = KFold(n_splits=7,shuffle=True,random_state=42)\n",
    "    r2 = make_scorer(r2_score)\n",
    "    r2_val_score = cross_val_score(model,X_train,y_train,cv=cv,scoring=r2)\n",
    "    score = [r2_val_score.mean()]\n",
    "    return score"
   ]
  },
  {
   "cell_type": "code",
   "execution_count": 22,
   "id": "63025582",
   "metadata": {},
   "outputs": [
    {
     "data": {
      "text/plain": [
       "[0.742064686140237]"
      ]
     },
     "execution_count": 22,
     "metadata": {},
     "output_type": "execute_result"
    }
   ],
   "source": [
    "# Build Model\n",
    "RidR = Ridge(alpha = 0.5)\n",
    "# Fit model\n",
    "RidR.fit(train_data,y_train)\n",
    "test_model(RidR)"
   ]
  },
  {
   "cell_type": "code",
   "execution_count": 25,
   "id": "3be396a0",
   "metadata": {},
   "outputs": [
    {
     "data": {
      "text/plain": [
       "[0.7419492074437909]"
      ]
     },
     "execution_count": 25,
     "metadata": {},
     "output_type": "execute_result"
    }
   ],
   "source": [
    "from sklearn.linear_model import LinearRegression,Lasso\n",
    "LR = LinearRegression( n_jobs=-1)\n",
    "LR.fit(train_data,y_train)\n",
    "test_model(LR)"
   ]
  },
  {
   "cell_type": "code",
   "execution_count": 26,
   "id": "c363103b",
   "metadata": {},
   "outputs": [
    {
     "data": {
      "text/plain": [
       "[0.7419492261454846]"
      ]
     },
     "execution_count": 26,
     "metadata": {},
     "output_type": "execute_result"
    }
   ],
   "source": [
    "LasR = Lasso(alpha = 0.001)\n",
    "LasR.fit(train_data,y_train)\n",
    "test_model(LasR)"
   ]
  },
  {
   "cell_type": "code",
   "execution_count": 27,
   "id": "533b1b36",
   "metadata": {},
   "outputs": [
    {
     "data": {
      "text/plain": [
       "[0.6152316435637115]"
      ]
     },
     "execution_count": 27,
     "metadata": {},
     "output_type": "execute_result"
    }
   ],
   "source": [
    "from sklearn.tree import DecisionTreeRegressor\n",
    "\n",
    "DTree = DecisionTreeRegressor(max_depth=8)\n",
    "DTree.fit(train_data,y_train)\n",
    "test_model(DTree)"
   ]
  },
  {
   "cell_type": "code",
   "execution_count": 28,
   "id": "14ff2a2e",
   "metadata": {},
   "outputs": [
    {
     "data": {
      "text/plain": [
       "[0.7976838749418521]"
      ]
     },
     "execution_count": 28,
     "metadata": {},
     "output_type": "execute_result"
    }
   ],
   "source": [
    "from sklearn.ensemble import RandomForestRegressor\n",
    "RF = RandomForestRegressor(random_state = 42)\n",
    "RF.fit(train_data,y_train)\n",
    "test_model(RF)"
   ]
  },
  {
   "cell_type": "code",
   "execution_count": 29,
   "id": "28d0771e",
   "metadata": {},
   "outputs": [
    {
     "data": {
      "text/plain": [
       "[0.7419707733370192]"
      ]
     },
     "execution_count": 29,
     "metadata": {},
     "output_type": "execute_result"
    }
   ],
   "source": [
    "from sklearn.linear_model import ElasticNet\n",
    "from sklearn.pipeline import make_pipeline\n",
    "from sklearn.preprocessing import RobustScaler\n",
    "ENet = make_pipeline(RobustScaler(), ElasticNet(alpha=0.0005, l1_ratio=.9, random_state=3))\n",
    "test_model(ENet)"
   ]
  },
  {
   "cell_type": "code",
   "execution_count": 30,
   "id": "6c1d3cf8",
   "metadata": {},
   "outputs": [
    {
     "data": {
      "text/plain": [
       "[0.7928820662736124]"
      ]
     },
     "execution_count": 30,
     "metadata": {},
     "output_type": "execute_result"
    }
   ],
   "source": [
    "import xgboost\n",
    "xgb = xgboost.XGBRegressor(learning_rate=0.05, max_depth=3, random_state=4)\n",
    "xgb.fit(train_data,y_train)\n",
    "test_model(xgb)"
   ]
  },
  {
   "cell_type": "code",
   "execution_count": null,
   "id": "59b94e49",
   "metadata": {},
   "outputs": [],
   "source": [
    "y_test_pred = pd.Series(RF.predict(test_data))\n",
    "y_test_pred.head()"
   ]
  },
  {
   "cell_type": "code",
   "execution_count": null,
   "id": "166e7029",
   "metadata": {},
   "outputs": [],
   "source": [
    "#check our accuracy score\n",
    "error = mean_absolute_error(y_train[:len(y_test_pred)],y_test_pred)\n",
    "error"
   ]
  },
  {
   "cell_type": "code",
   "execution_count": 16,
   "id": "fa50afa5",
   "metadata": {},
   "outputs": [
    {
     "data": {
      "image/png": "[encoded data removed]",
      "text/plain": [
       "<Figure size 432x288 with 1 Axes>"
      ]
     },
     "metadata": {},
     "output_type": "display_data"
    }
   ],
   "source": [
    "coefficients = model.coef_\n",
    "features = train.columns\n",
    "feat_imp = pd.Series(coefficients,index=features).sort_values(key=abs).tail(15)\n",
    "# Build bar chart for the 15 most influential coefficients of the model\n",
    "feat_imp.plot(kind=\"barh\")\n",
    "# Label axes\n",
    "plt.xlabel(\"Importance [USD]\")\n",
    "plt.ylabel(\"Feature\")\n",
    "# Add title\n",
    "plt.title(\"Feature Importances for Apartment Price\");"
   ]
  },
  {
   "cell_type": "code",
   "execution_count": null,
   "id": "263f8697",
   "metadata": {},
   "outputs": [],
   "source": [
    "#save the model for future use,using pickle\n",
    "import pickle \n",
    "\n",
    "pickle.dump(model, open('model_house.pkl', 'wb'))"
   ]
  },
  {
   "cell_type": "code",
   "execution_count": null,
   "id": "02d95055",
   "metadata": {},
   "outputs": [],
   "source": [
    "import eli5\n",
    "from eli5.sklearn import PermutationImportance\n",
    "\n",
    "perm = PermutationImportance(model, random_state=1).fit(train_data,y_train)\n",
    "eli5.show_weights(perm, feature_names = train_data.columns.tolist())"
   ]
  },
  {
   "cell_type": "code",
   "execution_count": null,
   "id": "a1c28786",
   "metadata": {},
   "outputs": [],
   "source": []
  }
 ],
 "metadata": {
  "kernelspec": {
   "display_name": "Python 3",
   "language": "python",
   "name": "python3"
  },
  "language_info": {
   "codemirror_mode": {
    "name": "ipython",
    "version": 3
   },
   "file_extension": ".py",
   "mimetype": "text/x-python",
   "name": "python",
   "nbconvert_exporter": "python",
   "pygments_lexer": "ipython3",
   "version": "3.8.8"
  }
 },
 "nbformat": 4,
 "nbformat_minor": 5
}
