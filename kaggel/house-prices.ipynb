{
 "cells": [
  {
   "cell_type": "code",
   "execution_count": 1,
   "id": "9b23c8d4",
   "metadata": {
    "_cell_guid": "b1076dfc-b9ad-4769-8c92-a6c4dae69d19",
    "_uuid": "8f2839f25d086af736a60e9eeb907d3b93b6e0e5",
    "execution": {
     "iopub.execute_input": "2022-02-13T16:02:37.138612Z",
     "iopub.status.busy": "2022-02-13T16:02:37.137936Z",
     "iopub.status.idle": "2022-02-13T16:02:37.151817Z",
     "shell.execute_reply": "2022-02-13T16:02:37.152591Z",
     "shell.execute_reply.started": "2022-02-13T15:48:28.468113Z"
    },
    "papermill": {
     "duration": 0.090956,
     "end_time": "2022-02-13T16:02:37.152982",
     "exception": false,
     "start_time": "2022-02-13T16:02:37.062026",
     "status": "completed"
    },
    "tags": []
   },
   "outputs": [],
   "source": [
    "# This Python 3 environment comes with many helpful analytics libraries installed\n",
    "# It is defined by the kaggle/python Docker image: https://github.com/kaggle/docker-python\n",
    "# For example, here's several helpful packages to load\n",
    "\n",
    "import numpy as np # linear algebra\n",
    "import pandas as pd # data processing, CSV file I/O (e.g. pd.read_csv)\n",
    "\n",
    "# Input data files are available in the read-only \"../input/\" directory\n",
    "# For example, running this (by clicking run or pressing Shift+Enter) will list all files under the input directory\n",
    "\n",
    "import os\n",
    "for dirname, _, filenames in os.walk('/kaggle/input'):\n",
    "    for filename in filenames:\n",
    "        print(os.path.join(dirname, filename))\n",
    "\n",
    "# You can write up to 20GB to the current directory (/kaggle/working/) that gets preserved as output when you create a version using \"Save & Run All\" \n",
    "# You can also write temporary files to /kaggle/temp/, but they won't be saved outside of the current session"
   ]
  },
  {
   "cell_type": "code",
   "execution_count": 2,
   "id": "941509bc",
   "metadata": {},
   "outputs": [],
   "source": [
    "# Kaggle API\n",
    "import os\n",
    "os.environ['KAGGLE_USERNAME'] = \"apanpa\"\n",
    "os.environ['KAGGLE_KEY'] = \"e7615325d329785bb9ff5a0df0a5c06d\""
   ]
  },
  {
   "cell_type": "code",
   "execution_count": 3,
   "id": "7e92df6f",
   "metadata": {},
   "outputs": [
    {
     "name": "stdout",
     "output_type": "stream",
     "text": [
      "house-prices-advanced-regression-techniques.zip: Skipping, found more recently modified local copy (use --force to force download)\n"
     ]
    }
   ],
   "source": [
    "# Downloading the dataset directly from Kaggle on the Colab environment \n",
    "!kaggle competitions download -c house-prices-advanced-regression-techniques\n"
   ]
  },
  {
   "cell_type": "code",
   "execution_count": 4,
   "id": "d77f445b",
   "metadata": {},
   "outputs": [
    {
     "name": "stderr",
     "output_type": "stream",
     "text": [
      "'unzip' is not recognized as an internal or external command,\n",
      "operable program or batch file.\n"
     ]
    }
   ],
   "source": [
    "# Unzipping the dataset\n",
    "#! unzip/edit/Desktop/DataScience/kaggel/house-prices-advanced-regression-techniques.zip\n",
    "! unzip house-prices-advanced-regression-techniques.zip -d train "
   ]
  },
  {
   "cell_type": "markdown",
   "id": "52a3bd80",
   "metadata": {
    "papermill": {
     "duration": 0.062835,
     "end_time": "2022-02-13T16:02:37.279976",
     "exception": false,
     "start_time": "2022-02-13T16:02:37.217141",
     "status": "completed"
    },
    "tags": []
   },
   "source": [
    "# Importing some required Libraries"
   ]
  },
  {
   "cell_type": "code",
   "execution_count": 5,
   "id": "05e4e15a",
   "metadata": {
    "execution": {
     "iopub.execute_input": "2022-02-13T16:02:37.410455Z",
     "iopub.status.busy": "2022-02-13T16:02:37.409676Z",
     "iopub.status.idle": "2022-02-13T16:02:38.780599Z",
     "shell.execute_reply": "2022-02-13T16:02:38.779735Z",
     "shell.execute_reply.started": "2022-02-13T15:48:28.489523Z"
    },
    "papermill": {
     "duration": 1.439778,
     "end_time": "2022-02-13T16:02:38.780770",
     "exception": false,
     "start_time": "2022-02-13T16:02:37.340992",
     "status": "completed"
    },
    "tags": []
   },
   "outputs": [],
   "source": [
    "#Import important libraries\n",
    "import pandas as pd\n",
    "import numpy as np\n",
    "import seaborn as sns\n",
    "import matplotlib.pyplot as plt\n",
    "plt.style.use('fivethirtyeight')\n",
    "from scipy import stats\n",
    "import sklearn\n",
    "from sklearn import preprocessing\n",
    "from sklearn.preprocessing import OneHotEncoder\n",
    "from sklearn.preprocessing import LabelEncoder\n",
    "import warnings\n",
    "warnings.filterwarnings('ignore')\n",
    "\n",
    "\n",
    "from scipy import stats\n",
    "from scipy.stats import norm, skew"
   ]
  },
  {
   "cell_type": "markdown",
   "id": "39bbfe76",
   "metadata": {
    "papermill": {
     "duration": 0.064954,
     "end_time": "2022-02-13T16:02:38.911495",
     "exception": false,
     "start_time": "2022-02-13T16:02:38.846541",
     "status": "completed"
    },
    "tags": []
   },
   "source": [
    "# Exploratory data analysis\n",
    "* Read the data files"
   ]
  },
  {
   "cell_type": "code",
   "execution_count": 6,
   "id": "f2367aa6",
   "metadata": {
    "execution": {
     "iopub.execute_input": "2022-02-13T16:02:39.048890Z",
     "iopub.status.busy": "2022-02-13T16:02:39.048028Z",
     "iopub.status.idle": "2022-02-13T16:02:39.131753Z",
     "shell.execute_reply": "2022-02-13T16:02:39.132377Z",
     "shell.execute_reply.started": "2022-02-13T15:48:28.504671Z"
    },
    "papermill": {
     "duration": 0.152279,
     "end_time": "2022-02-13T16:02:39.132576",
     "exception": false,
     "start_time": "2022-02-13T16:02:38.980297",
     "status": "completed"
    },
    "tags": []
   },
   "outputs": [],
   "source": [
    "#importing the data into dataframes\n",
    "train_data = pd.read_csv('train_house.csv',low_memory=False)\n",
    "test_data = pd.read_csv('test_house.csv',low_memory=False)"
   ]
  },
  {
   "cell_type": "markdown",
   "id": "7ea57b6f",
   "metadata": {
    "papermill": {
     "duration": 0.067878,
     "end_time": "2022-02-13T16:02:39.265290",
     "exception": false,
     "start_time": "2022-02-13T16:02:39.197412",
     "status": "completed"
    },
    "tags": []
   },
   "source": [
    "**First 5 rows of the train dataset**"
   ]
  },
  {
   "cell_type": "code",
   "execution_count": 7,
   "id": "0fbedd31",
   "metadata": {
    "execution": {
     "iopub.execute_input": "2022-02-13T16:02:39.398133Z",
     "iopub.status.busy": "2022-02-13T16:02:39.397421Z",
     "iopub.status.idle": "2022-02-13T16:02:39.402945Z",
     "shell.execute_reply": "2022-02-13T16:02:39.403547Z",
     "shell.execute_reply.started": "2022-02-13T15:48:28.555967Z"
    },
    "papermill": {
     "duration": 0.073196,
     "end_time": "2022-02-13T16:02:39.403735",
     "exception": false,
     "start_time": "2022-02-13T16:02:39.330539",
     "status": "completed"
    },
    "tags": []
   },
   "outputs": [
    {
     "name": "stdout",
     "output_type": "stream",
     "text": [
      "(1460, 81) (1459, 80)\n"
     ]
    }
   ],
   "source": [
    "#checking the shapes of dataframes\n",
    "print(train_data.shape, test_data.shape)"
   ]
  },
  {
   "cell_type": "code",
   "execution_count": 8,
   "id": "9cf85200",
   "metadata": {
    "execution": {
     "iopub.execute_input": "2022-02-13T16:02:39.539737Z",
     "iopub.status.busy": "2022-02-13T16:02:39.538977Z",
     "iopub.status.idle": "2022-02-13T16:02:39.570001Z",
     "shell.execute_reply": "2022-02-13T16:02:39.570546Z",
     "shell.execute_reply.started": "2022-02-13T15:48:28.561341Z"
    },
    "papermill": {
     "duration": 0.103988,
     "end_time": "2022-02-13T16:02:39.570747",
     "exception": false,
     "start_time": "2022-02-13T16:02:39.466759",
     "status": "completed"
    },
    "tags": []
   },
   "outputs": [
    {
     "data": {
      "text/html": [
       "<div>\n",
       "<style scoped>\n",
       "    .dataframe tbody tr th:only-of-type {\n",
       "        vertical-align: middle;\n",
       "    }\n",
       "\n",
       "    .dataframe tbody tr th {\n",
       "        vertical-align: top;\n",
       "    }\n",
       "\n",
       "    .dataframe thead th {\n",
       "        text-align: right;\n",
       "    }\n",
       "</style>\n",
       "<table border=\"1\" class=\"dataframe\">\n",
       "  <thead>\n",
       "    <tr style=\"text-align: right;\">\n",
       "      <th></th>\n",
       "      <th>Id</th>\n",
       "      <th>MSSubClass</th>\n",
       "      <th>MSZoning</th>\n",
       "      <th>LotFrontage</th>\n",
       "      <th>LotArea</th>\n",
       "      <th>Street</th>\n",
       "      <th>Alley</th>\n",
       "      <th>LotShape</th>\n",
       "      <th>LandContour</th>\n",
       "      <th>Utilities</th>\n",
       "      <th>...</th>\n",
       "      <th>PoolArea</th>\n",
       "      <th>PoolQC</th>\n",
       "      <th>Fence</th>\n",
       "      <th>MiscFeature</th>\n",
       "      <th>MiscVal</th>\n",
       "      <th>MoSold</th>\n",
       "      <th>YrSold</th>\n",
       "      <th>SaleType</th>\n",
       "      <th>SaleCondition</th>\n",
       "      <th>SalePrice</th>\n",
       "    </tr>\n",
       "  </thead>\n",
       "  <tbody>\n",
       "    <tr>\n",
       "      <th>0</th>\n",
       "      <td>1</td>\n",
       "      <td>60</td>\n",
       "      <td>RL</td>\n",
       "      <td>65.0</td>\n",
       "      <td>8450</td>\n",
       "      <td>Pave</td>\n",
       "      <td>NaN</td>\n",
       "      <td>Reg</td>\n",
       "      <td>Lvl</td>\n",
       "      <td>AllPub</td>\n",
       "      <td>...</td>\n",
       "      <td>0</td>\n",
       "      <td>NaN</td>\n",
       "      <td>NaN</td>\n",
       "      <td>NaN</td>\n",
       "      <td>0</td>\n",
       "      <td>2</td>\n",
       "      <td>2008</td>\n",
       "      <td>WD</td>\n",
       "      <td>Normal</td>\n",
       "      <td>208500</td>\n",
       "    </tr>\n",
       "    <tr>\n",
       "      <th>1</th>\n",
       "      <td>2</td>\n",
       "      <td>20</td>\n",
       "      <td>RL</td>\n",
       "      <td>80.0</td>\n",
       "      <td>9600</td>\n",
       "      <td>Pave</td>\n",
       "      <td>NaN</td>\n",
       "      <td>Reg</td>\n",
       "      <td>Lvl</td>\n",
       "      <td>AllPub</td>\n",
       "      <td>...</td>\n",
       "      <td>0</td>\n",
       "      <td>NaN</td>\n",
       "      <td>NaN</td>\n",
       "      <td>NaN</td>\n",
       "      <td>0</td>\n",
       "      <td>5</td>\n",
       "      <td>2007</td>\n",
       "      <td>WD</td>\n",
       "      <td>Normal</td>\n",
       "      <td>181500</td>\n",
       "    </tr>\n",
       "    <tr>\n",
       "      <th>2</th>\n",
       "      <td>3</td>\n",
       "      <td>60</td>\n",
       "      <td>RL</td>\n",
       "      <td>68.0</td>\n",
       "      <td>11250</td>\n",
       "      <td>Pave</td>\n",
       "      <td>NaN</td>\n",
       "      <td>IR1</td>\n",
       "      <td>Lvl</td>\n",
       "      <td>AllPub</td>\n",
       "      <td>...</td>\n",
       "      <td>0</td>\n",
       "      <td>NaN</td>\n",
       "      <td>NaN</td>\n",
       "      <td>NaN</td>\n",
       "      <td>0</td>\n",
       "      <td>9</td>\n",
       "      <td>2008</td>\n",
       "      <td>WD</td>\n",
       "      <td>Normal</td>\n",
       "      <td>223500</td>\n",
       "    </tr>\n",
       "    <tr>\n",
       "      <th>3</th>\n",
       "      <td>4</td>\n",
       "      <td>70</td>\n",
       "      <td>RL</td>\n",
       "      <td>60.0</td>\n",
       "      <td>9550</td>\n",
       "      <td>Pave</td>\n",
       "      <td>NaN</td>\n",
       "      <td>IR1</td>\n",
       "      <td>Lvl</td>\n",
       "      <td>AllPub</td>\n",
       "      <td>...</td>\n",
       "      <td>0</td>\n",
       "      <td>NaN</td>\n",
       "      <td>NaN</td>\n",
       "      <td>NaN</td>\n",
       "      <td>0</td>\n",
       "      <td>2</td>\n",
       "      <td>2006</td>\n",
       "      <td>WD</td>\n",
       "      <td>Abnorml</td>\n",
       "      <td>140000</td>\n",
       "    </tr>\n",
       "    <tr>\n",
       "      <th>4</th>\n",
       "      <td>5</td>\n",
       "      <td>60</td>\n",
       "      <td>RL</td>\n",
       "      <td>84.0</td>\n",
       "      <td>14260</td>\n",
       "      <td>Pave</td>\n",
       "      <td>NaN</td>\n",
       "      <td>IR1</td>\n",
       "      <td>Lvl</td>\n",
       "      <td>AllPub</td>\n",
       "      <td>...</td>\n",
       "      <td>0</td>\n",
       "      <td>NaN</td>\n",
       "      <td>NaN</td>\n",
       "      <td>NaN</td>\n",
       "      <td>0</td>\n",
       "      <td>12</td>\n",
       "      <td>2008</td>\n",
       "      <td>WD</td>\n",
       "      <td>Normal</td>\n",
       "      <td>250000</td>\n",
       "    </tr>\n",
       "  </tbody>\n",
       "</table>\n",
       "<p>5 rows × 81 columns</p>\n",
       "</div>"
      ],
      "text/plain": [
       "   Id  MSSubClass MSZoning  LotFrontage  LotArea Street Alley LotShape  \\\n",
       "0   1          60       RL         65.0     8450   Pave   NaN      Reg   \n",
       "1   2          20       RL         80.0     9600   Pave   NaN      Reg   \n",
       "2   3          60       RL         68.0    11250   Pave   NaN      IR1   \n",
       "3   4          70       RL         60.0     9550   Pave   NaN      IR1   \n",
       "4   5          60       RL         84.0    14260   Pave   NaN      IR1   \n",
       "\n",
       "  LandContour Utilities  ... PoolArea PoolQC Fence MiscFeature MiscVal MoSold  \\\n",
       "0         Lvl    AllPub  ...        0    NaN   NaN         NaN       0      2   \n",
       "1         Lvl    AllPub  ...        0    NaN   NaN         NaN       0      5   \n",
       "2         Lvl    AllPub  ...        0    NaN   NaN         NaN       0      9   \n",
       "3         Lvl    AllPub  ...        0    NaN   NaN         NaN       0      2   \n",
       "4         Lvl    AllPub  ...        0    NaN   NaN         NaN       0     12   \n",
       "\n",
       "  YrSold  SaleType  SaleCondition  SalePrice  \n",
       "0   2008        WD         Normal     208500  \n",
       "1   2007        WD         Normal     181500  \n",
       "2   2008        WD         Normal     223500  \n",
       "3   2006        WD        Abnorml     140000  \n",
       "4   2008        WD         Normal     250000  \n",
       "\n",
       "[5 rows x 81 columns]"
      ]
     },
     "execution_count": 8,
     "metadata": {},
     "output_type": "execute_result"
    }
   ],
   "source": [
    "#inspecting the first few rows of the train dataframe\n",
    "train_data.head()"
   ]
  },
  {
   "cell_type": "code",
   "execution_count": 9,
   "id": "719e6010",
   "metadata": {
    "execution": {
     "iopub.execute_input": "2022-02-13T16:02:39.707157Z",
     "iopub.status.busy": "2022-02-13T16:02:39.706407Z",
     "iopub.status.idle": "2022-02-13T16:02:39.740342Z",
     "shell.execute_reply": "2022-02-13T16:02:39.739706Z",
     "shell.execute_reply.started": "2022-02-13T15:48:28.599386Z"
    },
    "papermill": {
     "duration": 0.104559,
     "end_time": "2022-02-13T16:02:39.740522",
     "exception": false,
     "start_time": "2022-02-13T16:02:39.635963",
     "status": "completed"
    },
    "tags": []
   },
   "outputs": [
    {
     "name": "stdout",
     "output_type": "stream",
     "text": [
      "<class 'pandas.core.frame.DataFrame'>\n",
      "RangeIndex: 1460 entries, 0 to 1459\n",
      "Data columns (total 81 columns):\n",
      " #   Column         Non-Null Count  Dtype  \n",
      "---  ------         --------------  -----  \n",
      " 0   Id             1460 non-null   int64  \n",
      " 1   MSSubClass     1460 non-null   int64  \n",
      " 2   MSZoning       1460 non-null   object \n",
      " 3   LotFrontage    1201 non-null   float64\n",
      " 4   LotArea        1460 non-null   int64  \n",
      " 5   Street         1460 non-null   object \n",
      " 6   Alley          91 non-null     object \n",
      " 7   LotShape       1460 non-null   object \n",
      " 8   LandContour    1460 non-null   object \n",
      " 9   Utilities      1460 non-null   object \n",
      " 10  LotConfig      1460 non-null   object \n",
      " 11  LandSlope      1460 non-null   object \n",
      " 12  Neighborhood   1460 non-null   object \n",
      " 13  Condition1     1460 non-null   object \n",
      " 14  Condition2     1460 non-null   object \n",
      " 15  BldgType       1460 non-null   object \n",
      " 16  HouseStyle     1460 non-null   object \n",
      " 17  OverallQual    1460 non-null   int64  \n",
      " 18  OverallCond    1460 non-null   int64  \n",
      " 19  YearBuilt      1460 non-null   int64  \n",
      " 20  YearRemodAdd   1460 non-null   int64  \n",
      " 21  RoofStyle      1460 non-null   object \n",
      " 22  RoofMatl       1460 non-null   object \n",
      " 23  Exterior1st    1460 non-null   object \n",
      " 24  Exterior2nd    1460 non-null   object \n",
      " 25  MasVnrType     1452 non-null   object \n",
      " 26  MasVnrArea     1452 non-null   float64\n",
      " 27  ExterQual      1460 non-null   object \n",
      " 28  ExterCond      1460 non-null   object \n",
      " 29  Foundation     1460 non-null   object \n",
      " 30  BsmtQual       1423 non-null   object \n",
      " 31  BsmtCond       1423 non-null   object \n",
      " 32  BsmtExposure   1422 non-null   object \n",
      " 33  BsmtFinType1   1423 non-null   object \n",
      " 34  BsmtFinSF1     1460 non-null   int64  \n",
      " 35  BsmtFinType2   1422 non-null   object \n",
      " 36  BsmtFinSF2     1460 non-null   int64  \n",
      " 37  BsmtUnfSF      1460 non-null   int64  \n",
      " 38  TotalBsmtSF    1460 non-null   int64  \n",
      " 39  Heating        1460 non-null   object \n",
      " 40  HeatingQC      1460 non-null   object \n",
      " 41  CentralAir     1460 non-null   object \n",
      " 42  Electrical     1459 non-null   object \n",
      " 43  1stFlrSF       1460 non-null   int64  \n",
      " 44  2ndFlrSF       1460 non-null   int64  \n",
      " 45  LowQualFinSF   1460 non-null   int64  \n",
      " 46  GrLivArea      1460 non-null   int64  \n",
      " 47  BsmtFullBath   1460 non-null   int64  \n",
      " 48  BsmtHalfBath   1460 non-null   int64  \n",
      " 49  FullBath       1460 non-null   int64  \n",
      " 50  HalfBath       1460 non-null   int64  \n",
      " 51  BedroomAbvGr   1460 non-null   int64  \n",
      " 52  KitchenAbvGr   1460 non-null   int64  \n",
      " 53  KitchenQual    1460 non-null   object \n",
      " 54  TotRmsAbvGrd   1460 non-null   int64  \n",
      " 55  Functional     1460 non-null   object \n",
      " 56  Fireplaces     1460 non-null   int64  \n",
      " 57  FireplaceQu    770 non-null    object \n",
      " 58  GarageType     1379 non-null   object \n",
      " 59  GarageYrBlt    1379 non-null   float64\n",
      " 60  GarageFinish   1379 non-null   object \n",
      " 61  GarageCars     1460 non-null   int64  \n",
      " 62  GarageArea     1460 non-null   int64  \n",
      " 63  GarageQual     1379 non-null   object \n",
      " 64  GarageCond     1379 non-null   object \n",
      " 65  PavedDrive     1460 non-null   object \n",
      " 66  WoodDeckSF     1460 non-null   int64  \n",
      " 67  OpenPorchSF    1460 non-null   int64  \n",
      " 68  EnclosedPorch  1460 non-null   int64  \n",
      " 69  3SsnPorch      1460 non-null   int64  \n",
      " 70  ScreenPorch    1460 non-null   int64  \n",
      " 71  PoolArea       1460 non-null   int64  \n",
      " 72  PoolQC         7 non-null      object \n",
      " 73  Fence          281 non-null    object \n",
      " 74  MiscFeature    54 non-null     object \n",
      " 75  MiscVal        1460 non-null   int64  \n",
      " 76  MoSold         1460 non-null   int64  \n",
      " 77  YrSold         1460 non-null   int64  \n",
      " 78  SaleType       1460 non-null   object \n",
      " 79  SaleCondition  1460 non-null   object \n",
      " 80  SalePrice      1460 non-null   int64  \n",
      "dtypes: float64(3), int64(35), object(43)\n",
      "memory usage: 924.0+ KB\n"
     ]
    }
   ],
   "source": [
    "#checking for columns infomation \n",
    "train_data.info()"
   ]
  },
  {
   "cell_type": "markdown",
   "id": "9d78b77a",
   "metadata": {
    "papermill": {
     "duration": 0.062066,
     "end_time": "2022-02-13T16:02:39.866109",
     "exception": false,
     "start_time": "2022-02-13T16:02:39.804043",
     "status": "completed"
    },
    "tags": []
   },
   "source": [
    "**Check for null values**"
   ]
  },
  {
   "cell_type": "code",
   "execution_count": 10,
   "id": "05721d41",
   "metadata": {
    "execution": {
     "iopub.execute_input": "2022-02-13T16:02:40.003948Z",
     "iopub.status.busy": "2022-02-13T16:02:39.995012Z",
     "iopub.status.idle": "2022-02-13T16:02:40.011774Z",
     "shell.execute_reply": "2022-02-13T16:02:40.012397Z",
     "shell.execute_reply.started": "2022-02-13T15:48:28.619718Z"
    },
    "papermill": {
     "duration": 0.083699,
     "end_time": "2022-02-13T16:02:40.012574",
     "exception": false,
     "start_time": "2022-02-13T16:02:39.928875",
     "status": "completed"
    },
    "tags": []
   },
   "outputs": [
    {
     "data": {
      "text/plain": [
       "Id                 0\n",
       "MSSubClass         0\n",
       "MSZoning           0\n",
       "LotFrontage      259\n",
       "LotArea            0\n",
       "                ... \n",
       "MoSold             0\n",
       "YrSold             0\n",
       "SaleType           0\n",
       "SaleCondition      0\n",
       "SalePrice          0\n",
       "Length: 81, dtype: int64"
      ]
     },
     "execution_count": 10,
     "metadata": {},
     "output_type": "execute_result"
    }
   ],
   "source": [
    "#counts of missing values\n",
    "train_data.isnull().sum()"
   ]
  },
  {
   "cell_type": "code",
   "execution_count": 11,
   "id": "6d279a3f",
   "metadata": {
    "execution": {
     "iopub.execute_input": "2022-02-13T16:02:40.150169Z",
     "iopub.status.busy": "2022-02-13T16:02:40.149155Z",
     "iopub.status.idle": "2022-02-13T16:02:40.152754Z",
     "shell.execute_reply": "2022-02-13T16:02:40.153257Z",
     "shell.execute_reply.started": "2022-02-13T15:48:28.629867Z"
    },
    "papermill": {
     "duration": 0.07537,
     "end_time": "2022-02-13T16:02:40.153453",
     "exception": false,
     "start_time": "2022-02-13T16:02:40.078083",
     "status": "completed"
    },
    "tags": []
   },
   "outputs": [
    {
     "data": {
      "text/plain": [
       "Index(['Id', 'MSSubClass', 'MSZoning', 'LotFrontage', 'LotArea', 'Street',\n",
       "       'Alley', 'LotShape', 'LandContour', 'Utilities', 'LotConfig',\n",
       "       'LandSlope', 'Neighborhood', 'Condition1', 'Condition2', 'BldgType',\n",
       "       'HouseStyle', 'OverallQual', 'OverallCond', 'YearBuilt', 'YearRemodAdd',\n",
       "       'RoofStyle', 'RoofMatl', 'Exterior1st', 'Exterior2nd', 'MasVnrType',\n",
       "       'MasVnrArea', 'ExterQual', 'ExterCond', 'Foundation', 'BsmtQual',\n",
       "       'BsmtCond', 'BsmtExposure', 'BsmtFinType1', 'BsmtFinSF1',\n",
       "       'BsmtFinType2', 'BsmtFinSF2', 'BsmtUnfSF', 'TotalBsmtSF', 'Heating',\n",
       "       'HeatingQC', 'CentralAir', 'Electrical', '1stFlrSF', '2ndFlrSF',\n",
       "       'LowQualFinSF', 'GrLivArea', 'BsmtFullBath', 'BsmtHalfBath', 'FullBath',\n",
       "       'HalfBath', 'BedroomAbvGr', 'KitchenAbvGr', 'KitchenQual',\n",
       "       'TotRmsAbvGrd', 'Functional', 'Fireplaces', 'FireplaceQu', 'GarageType',\n",
       "       'GarageYrBlt', 'GarageFinish', 'GarageCars', 'GarageArea', 'GarageQual',\n",
       "       'GarageCond', 'PavedDrive', 'WoodDeckSF', 'OpenPorchSF',\n",
       "       'EnclosedPorch', '3SsnPorch', 'ScreenPorch', 'PoolArea', 'PoolQC',\n",
       "       'Fence', 'MiscFeature', 'MiscVal', 'MoSold', 'YrSold', 'SaleType',\n",
       "       'SaleCondition', 'SalePrice'],\n",
       "      dtype='object')"
      ]
     },
     "execution_count": 11,
     "metadata": {},
     "output_type": "execute_result"
    }
   ],
   "source": [
    "#display of columns name\n",
    "train_data.columns.unique()"
   ]
  },
  {
   "cell_type": "code",
   "execution_count": 12,
   "id": "29a3e38e",
   "metadata": {},
   "outputs": [
    {
     "data": {
      "text/plain": [
       "81"
      ]
     },
     "execution_count": 12,
     "metadata": {},
     "output_type": "execute_result"
    }
   ],
   "source": [
    "# Total count of columns\n",
    "train_data.columns.nunique()"
   ]
  },
  {
   "cell_type": "code",
   "execution_count": 13,
   "id": "9bd6dfa0",
   "metadata": {
    "execution": {
     "iopub.execute_input": "2022-02-13T16:02:40.291234Z",
     "iopub.status.busy": "2022-02-13T16:02:40.290093Z",
     "iopub.status.idle": "2022-02-13T16:02:40.325386Z",
     "shell.execute_reply": "2022-02-13T16:02:40.324253Z",
     "shell.execute_reply.started": "2022-02-13T15:48:28.647610Z"
    },
    "papermill": {
     "duration": 0.108723,
     "end_time": "2022-02-13T16:02:40.325671",
     "exception": false,
     "start_time": "2022-02-13T16:02:40.216948",
     "status": "completed"
    },
    "tags": []
   },
   "outputs": [
    {
     "name": "stdout",
     "output_type": "stream",
     "text": [
      "Id - 1460\n",
      "MSSubClass - 15\n",
      "MSZoning - 5\n",
      "LotFrontage - 110\n",
      "LotArea - 1073\n",
      "Street - 2\n",
      "Alley - 2\n",
      "LotShape - 4\n",
      "LandContour - 4\n",
      "Utilities - 2\n",
      "LotConfig - 5\n",
      "LandSlope - 3\n",
      "Neighborhood - 25\n",
      "Condition1 - 9\n",
      "Condition2 - 8\n",
      "BldgType - 5\n",
      "HouseStyle - 8\n",
      "OverallQual - 10\n",
      "OverallCond - 9\n",
      "YearBuilt - 112\n",
      "YearRemodAdd - 61\n",
      "RoofStyle - 6\n",
      "RoofMatl - 8\n",
      "Exterior1st - 15\n",
      "Exterior2nd - 16\n",
      "MasVnrType - 4\n",
      "MasVnrArea - 327\n",
      "ExterQual - 4\n",
      "ExterCond - 5\n",
      "Foundation - 6\n",
      "BsmtQual - 4\n",
      "BsmtCond - 4\n",
      "BsmtExposure - 4\n",
      "BsmtFinType1 - 6\n",
      "BsmtFinSF1 - 637\n",
      "BsmtFinType2 - 6\n",
      "BsmtFinSF2 - 144\n",
      "BsmtUnfSF - 780\n",
      "TotalBsmtSF - 721\n",
      "Heating - 6\n",
      "HeatingQC - 5\n",
      "CentralAir - 2\n",
      "Electrical - 5\n",
      "1stFlrSF - 753\n",
      "2ndFlrSF - 417\n",
      "LowQualFinSF - 24\n",
      "GrLivArea - 861\n",
      "BsmtFullBath - 4\n",
      "BsmtHalfBath - 3\n",
      "FullBath - 4\n",
      "HalfBath - 3\n",
      "BedroomAbvGr - 8\n",
      "KitchenAbvGr - 4\n",
      "KitchenQual - 4\n",
      "TotRmsAbvGrd - 12\n",
      "Functional - 7\n",
      "Fireplaces - 4\n",
      "FireplaceQu - 5\n",
      "GarageType - 6\n",
      "GarageYrBlt - 97\n",
      "GarageFinish - 3\n",
      "GarageCars - 5\n",
      "GarageArea - 441\n",
      "GarageQual - 5\n",
      "GarageCond - 5\n",
      "PavedDrive - 3\n",
      "WoodDeckSF - 274\n",
      "OpenPorchSF - 202\n",
      "EnclosedPorch - 120\n",
      "3SsnPorch - 20\n",
      "ScreenPorch - 76\n",
      "PoolArea - 8\n",
      "PoolQC - 3\n",
      "Fence - 4\n",
      "MiscFeature - 4\n",
      "MiscVal - 21\n",
      "MoSold - 12\n",
      "YrSold - 5\n",
      "SaleType - 9\n",
      "SaleCondition - 6\n",
      "SalePrice - 663\n"
     ]
    }
   ],
   "source": [
    "#Getting unique values on the train data\n",
    "for col in train_data.columns:\n",
    "    print(f\"{col} - {train_data[col].nunique()}\")"
   ]
  },
  {
   "cell_type": "markdown",
   "id": "2b9bb403",
   "metadata": {
    "papermill": {
     "duration": 0.063663,
     "end_time": "2022-02-13T16:02:40.455123",
     "exception": false,
     "start_time": "2022-02-13T16:02:40.391460",
     "status": "completed"
    },
    "tags": []
   },
   "source": [
    "**Relating what each column represents**\n",
    "* SalePrice - the property's sale price in dollars. This is the target variable that you're trying to predict.\n",
    "* MSSubClass: The building class\n",
    "* MSZoning: The general zoning classification\n",
    "* LotFrontage: Linear feet of street connected to property\n",
    "* LotArea: Lot size in square feet\n",
    "* Street: Type of road access\n",
    "* Alley: Type of alley access\n",
    "* LotShape: General shape of property\n",
    "* LandContour: Flatness of the property\n",
    "* Utilities: Type of utilities available\n",
    "* LotConfig: Lot configuration\n",
    "* LandSlope: Slope of property\n",
    "* Neighborhood: Physical locations within Ames city limits\n",
    "* Condition1: Proximity to main road or railroad\n",
    "* Condition2: Proximity to main road or railroad (if a second is present)\n",
    "* BldgType: Type of dwelling\n",
    "* HouseStyle: Style of dwelling\n",
    "* OverallQual: Overall material and finish quality\n",
    "* OverallCond: Overall condition rating\n",
    "* YearBuilt: Original construction date\n",
    "* YearRemodAdd: Remodel date\n",
    "* RoofStyle: Type of roof\n",
    "* RoofMatl: Roof material\n",
    "* Exterior1st: Exterior covering on house\n",
    "* Exterior2nd: Exterior covering on house (if more than one material)\n",
    "* MasVnrType: Masonry veneer type\n",
    "* MasVnrArea: Masonry veneer area in square feet\n",
    "* ExterQual: Exterior material quality\n",
    "* ExterCond: Present condition of the material on the exterior\n",
    "* Foundation: Type of foundation\n",
    "* BsmtQual: Height of the basement\n",
    "* BsmtCond: General condition of the basement\n",
    "* BsmtExposure: Walkout or garden level basement walls\n",
    "* BsmtFinType1: Quality of basement finished area\n",
    "* BsmtFinSF1: Type 1 finished square feet\n",
    "* BsmtFinType2: Quality of second finished area (if present)\n",
    "* BsmtFinSF2: Type 2 finished square feet\n",
    "* BsmtUnfSF: Unfinished square feet of basement area\n",
    "* TotalBsmtSF: Total square feet of basement area\n",
    "* Heating: Type of heating\n",
    "* HeatingQC: Heating quality and condition\n",
    "* CentralAir: Central air conditioning\n",
    "* Electrical: Electrical system\n",
    "* 1stFlrSF: First Floor square feet\n",
    "* 2ndFlrSF: Second floor square feet\n",
    "* LowQualFinSF: Low quality finished square feet (all floors)\n",
    "* GrLivArea: Above grade (ground) living area square feet\n",
    "* BsmtFullBath: Basement full bathrooms\n",
    "* BsmtHalfBath: Basement half bathrooms\n",
    "* FullBath: Full bathrooms above grade\n",
    "* HalfBath: Half baths above grade\n",
    "* Bedroom: Number of bedrooms above basement level\n",
    "* Kitchen: Number of kitchens\n",
    "* KitchenQual: Kitchen quality\n",
    "* TotRmsAbvGrd: Total rooms above grade (does not include bathrooms)\n",
    "* Functional: Home functionality rating\n",
    "* Fireplaces: Number of fireplaces\n",
    "* FireplaceQu: Fireplace quality\n",
    "* GarageType: Garage location\n",
    "* GarageYrBlt: Year garage was built\n",
    "* GarageFinish: Interior finish of the garage\n",
    "* GarageCars: Size of garage in car capacity\n",
    "* GarageArea: Size of garage in square feet\n",
    "* GarageQual: Garage quality\n",
    "* GarageCond: Garage condition\n",
    "* PavedDrive: Paved driveway\n",
    "* WoodDeckSF: Wood deck area in square feet\n",
    "* OpenPorchSF: Open porch area in square feet\n",
    "* EnclosedPorch: Enclosed porch area in square feet\n",
    "* 3SsnPorch: Three season porch area in square feet\n",
    "* ScreenPorch: Screen porch area in square feet\n",
    "* PoolArea: Pool area in square feet\n",
    "* PoolQC: Pool quality\n",
    "* Fence: Fence quality\n",
    "* MiscFeature: Miscellaneous feature not covered in other categories\n",
    "* MiscVal: Value of miscellaneous feature\n",
    "* MoSold: Month Sold\n",
    "* YrSold: Year Sold\n",
    "* SaleType: Type of sale\n",
    "* SaleCondition: Condition of sale"
   ]
  },
  {
   "cell_type": "code",
   "execution_count": 14,
   "id": "242f20ff",
   "metadata": {
    "execution": {
     "iopub.execute_input": "2022-02-13T16:02:40.591459Z",
     "iopub.status.busy": "2022-02-13T16:02:40.590723Z",
     "iopub.status.idle": "2022-02-13T16:02:40.685312Z",
     "shell.execute_reply": "2022-02-13T16:02:40.685958Z",
     "shell.execute_reply.started": "2022-02-13T15:48:28.692879Z"
    },
    "papermill": {
     "duration": 0.166825,
     "end_time": "2022-02-13T16:02:40.686145",
     "exception": false,
     "start_time": "2022-02-13T16:02:40.519320",
     "status": "completed"
    },
    "tags": []
   },
   "outputs": [
    {
     "data": {
      "text/html": [
       "<div>\n",
       "<style scoped>\n",
       "    .dataframe tbody tr th:only-of-type {\n",
       "        vertical-align: middle;\n",
       "    }\n",
       "\n",
       "    .dataframe tbody tr th {\n",
       "        vertical-align: top;\n",
       "    }\n",
       "\n",
       "    .dataframe thead th {\n",
       "        text-align: right;\n",
       "    }\n",
       "</style>\n",
       "<table border=\"1\" class=\"dataframe\">\n",
       "  <thead>\n",
       "    <tr style=\"text-align: right;\">\n",
       "      <th></th>\n",
       "      <th>Id</th>\n",
       "      <th>MSSubClass</th>\n",
       "      <th>LotFrontage</th>\n",
       "      <th>LotArea</th>\n",
       "      <th>OverallQual</th>\n",
       "      <th>OverallCond</th>\n",
       "      <th>YearBuilt</th>\n",
       "      <th>YearRemodAdd</th>\n",
       "      <th>MasVnrArea</th>\n",
       "      <th>BsmtFinSF1</th>\n",
       "      <th>...</th>\n",
       "      <th>WoodDeckSF</th>\n",
       "      <th>OpenPorchSF</th>\n",
       "      <th>EnclosedPorch</th>\n",
       "      <th>3SsnPorch</th>\n",
       "      <th>ScreenPorch</th>\n",
       "      <th>PoolArea</th>\n",
       "      <th>MiscVal</th>\n",
       "      <th>MoSold</th>\n",
       "      <th>YrSold</th>\n",
       "      <th>SalePrice</th>\n",
       "    </tr>\n",
       "  </thead>\n",
       "  <tbody>\n",
       "    <tr>\n",
       "      <th>count</th>\n",
       "      <td>1460.000000</td>\n",
       "      <td>1460.000000</td>\n",
       "      <td>1201.000000</td>\n",
       "      <td>1460.000000</td>\n",
       "      <td>1460.000000</td>\n",
       "      <td>1460.000000</td>\n",
       "      <td>1460.000000</td>\n",
       "      <td>1460.000000</td>\n",
       "      <td>1452.000000</td>\n",
       "      <td>1460.000000</td>\n",
       "      <td>...</td>\n",
       "      <td>1460.000000</td>\n",
       "      <td>1460.000000</td>\n",
       "      <td>1460.000000</td>\n",
       "      <td>1460.000000</td>\n",
       "      <td>1460.000000</td>\n",
       "      <td>1460.000000</td>\n",
       "      <td>1460.000000</td>\n",
       "      <td>1460.000000</td>\n",
       "      <td>1460.000000</td>\n",
       "      <td>1460.000000</td>\n",
       "    </tr>\n",
       "    <tr>\n",
       "      <th>mean</th>\n",
       "      <td>730.500000</td>\n",
       "      <td>56.897260</td>\n",
       "      <td>70.049958</td>\n",
       "      <td>10516.828082</td>\n",
       "      <td>6.099315</td>\n",
       "      <td>5.575342</td>\n",
       "      <td>1971.267808</td>\n",
       "      <td>1984.865753</td>\n",
       "      <td>103.685262</td>\n",
       "      <td>443.639726</td>\n",
       "      <td>...</td>\n",
       "      <td>94.244521</td>\n",
       "      <td>46.660274</td>\n",
       "      <td>21.954110</td>\n",
       "      <td>3.409589</td>\n",
       "      <td>15.060959</td>\n",
       "      <td>2.758904</td>\n",
       "      <td>43.489041</td>\n",
       "      <td>6.321918</td>\n",
       "      <td>2007.815753</td>\n",
       "      <td>180921.195890</td>\n",
       "    </tr>\n",
       "    <tr>\n",
       "      <th>std</th>\n",
       "      <td>421.610009</td>\n",
       "      <td>42.300571</td>\n",
       "      <td>24.284752</td>\n",
       "      <td>9981.264932</td>\n",
       "      <td>1.382997</td>\n",
       "      <td>1.112799</td>\n",
       "      <td>30.202904</td>\n",
       "      <td>20.645407</td>\n",
       "      <td>181.066207</td>\n",
       "      <td>456.098091</td>\n",
       "      <td>...</td>\n",
       "      <td>125.338794</td>\n",
       "      <td>66.256028</td>\n",
       "      <td>61.119149</td>\n",
       "      <td>29.317331</td>\n",
       "      <td>55.757415</td>\n",
       "      <td>40.177307</td>\n",
       "      <td>496.123024</td>\n",
       "      <td>2.703626</td>\n",
       "      <td>1.328095</td>\n",
       "      <td>79442.502883</td>\n",
       "    </tr>\n",
       "    <tr>\n",
       "      <th>min</th>\n",
       "      <td>1.000000</td>\n",
       "      <td>20.000000</td>\n",
       "      <td>21.000000</td>\n",
       "      <td>1300.000000</td>\n",
       "      <td>1.000000</td>\n",
       "      <td>1.000000</td>\n",
       "      <td>1872.000000</td>\n",
       "      <td>1950.000000</td>\n",
       "      <td>0.000000</td>\n",
       "      <td>0.000000</td>\n",
       "      <td>...</td>\n",
       "      <td>0.000000</td>\n",
       "      <td>0.000000</td>\n",
       "      <td>0.000000</td>\n",
       "      <td>0.000000</td>\n",
       "      <td>0.000000</td>\n",
       "      <td>0.000000</td>\n",
       "      <td>0.000000</td>\n",
       "      <td>1.000000</td>\n",
       "      <td>2006.000000</td>\n",
       "      <td>34900.000000</td>\n",
       "    </tr>\n",
       "    <tr>\n",
       "      <th>25%</th>\n",
       "      <td>365.750000</td>\n",
       "      <td>20.000000</td>\n",
       "      <td>59.000000</td>\n",
       "      <td>7553.500000</td>\n",
       "      <td>5.000000</td>\n",
       "      <td>5.000000</td>\n",
       "      <td>1954.000000</td>\n",
       "      <td>1967.000000</td>\n",
       "      <td>0.000000</td>\n",
       "      <td>0.000000</td>\n",
       "      <td>...</td>\n",
       "      <td>0.000000</td>\n",
       "      <td>0.000000</td>\n",
       "      <td>0.000000</td>\n",
       "      <td>0.000000</td>\n",
       "      <td>0.000000</td>\n",
       "      <td>0.000000</td>\n",
       "      <td>0.000000</td>\n",
       "      <td>5.000000</td>\n",
       "      <td>2007.000000</td>\n",
       "      <td>129975.000000</td>\n",
       "    </tr>\n",
       "    <tr>\n",
       "      <th>50%</th>\n",
       "      <td>730.500000</td>\n",
       "      <td>50.000000</td>\n",
       "      <td>69.000000</td>\n",
       "      <td>9478.500000</td>\n",
       "      <td>6.000000</td>\n",
       "      <td>5.000000</td>\n",
       "      <td>1973.000000</td>\n",
       "      <td>1994.000000</td>\n",
       "      <td>0.000000</td>\n",
       "      <td>383.500000</td>\n",
       "      <td>...</td>\n",
       "      <td>0.000000</td>\n",
       "      <td>25.000000</td>\n",
       "      <td>0.000000</td>\n",
       "      <td>0.000000</td>\n",
       "      <td>0.000000</td>\n",
       "      <td>0.000000</td>\n",
       "      <td>0.000000</td>\n",
       "      <td>6.000000</td>\n",
       "      <td>2008.000000</td>\n",
       "      <td>163000.000000</td>\n",
       "    </tr>\n",
       "    <tr>\n",
       "      <th>75%</th>\n",
       "      <td>1095.250000</td>\n",
       "      <td>70.000000</td>\n",
       "      <td>80.000000</td>\n",
       "      <td>11601.500000</td>\n",
       "      <td>7.000000</td>\n",
       "      <td>6.000000</td>\n",
       "      <td>2000.000000</td>\n",
       "      <td>2004.000000</td>\n",
       "      <td>166.000000</td>\n",
       "      <td>712.250000</td>\n",
       "      <td>...</td>\n",
       "      <td>168.000000</td>\n",
       "      <td>68.000000</td>\n",
       "      <td>0.000000</td>\n",
       "      <td>0.000000</td>\n",
       "      <td>0.000000</td>\n",
       "      <td>0.000000</td>\n",
       "      <td>0.000000</td>\n",
       "      <td>8.000000</td>\n",
       "      <td>2009.000000</td>\n",
       "      <td>214000.000000</td>\n",
       "    </tr>\n",
       "    <tr>\n",
       "      <th>max</th>\n",
       "      <td>1460.000000</td>\n",
       "      <td>190.000000</td>\n",
       "      <td>313.000000</td>\n",
       "      <td>215245.000000</td>\n",
       "      <td>10.000000</td>\n",
       "      <td>9.000000</td>\n",
       "      <td>2010.000000</td>\n",
       "      <td>2010.000000</td>\n",
       "      <td>1600.000000</td>\n",
       "      <td>5644.000000</td>\n",
       "      <td>...</td>\n",
       "      <td>857.000000</td>\n",
       "      <td>547.000000</td>\n",
       "      <td>552.000000</td>\n",
       "      <td>508.000000</td>\n",
       "      <td>480.000000</td>\n",
       "      <td>738.000000</td>\n",
       "      <td>15500.000000</td>\n",
       "      <td>12.000000</td>\n",
       "      <td>2010.000000</td>\n",
       "      <td>755000.000000</td>\n",
       "    </tr>\n",
       "  </tbody>\n",
       "</table>\n",
       "<p>8 rows × 38 columns</p>\n",
       "</div>"
      ],
      "text/plain": [
       "                Id   MSSubClass  LotFrontage        LotArea  OverallQual  \\\n",
       "count  1460.000000  1460.000000  1201.000000    1460.000000  1460.000000   \n",
       "mean    730.500000    56.897260    70.049958   10516.828082     6.099315   \n",
       "std     421.610009    42.300571    24.284752    9981.264932     1.382997   \n",
       "min       1.000000    20.000000    21.000000    1300.000000     1.000000   \n",
       "25%     365.750000    20.000000    59.000000    7553.500000     5.000000   \n",
       "50%     730.500000    50.000000    69.000000    9478.500000     6.000000   \n",
       "75%    1095.250000    70.000000    80.000000   11601.500000     7.000000   \n",
       "max    1460.000000   190.000000   313.000000  215245.000000    10.000000   \n",
       "\n",
       "       OverallCond    YearBuilt  YearRemodAdd   MasVnrArea   BsmtFinSF1  ...  \\\n",
       "count  1460.000000  1460.000000   1460.000000  1452.000000  1460.000000  ...   \n",
       "mean      5.575342  1971.267808   1984.865753   103.685262   443.639726  ...   \n",
       "std       1.112799    30.202904     20.645407   181.066207   456.098091  ...   \n",
       "min       1.000000  1872.000000   1950.000000     0.000000     0.000000  ...   \n",
       "25%       5.000000  1954.000000   1967.000000     0.000000     0.000000  ...   \n",
       "50%       5.000000  1973.000000   1994.000000     0.000000   383.500000  ...   \n",
       "75%       6.000000  2000.000000   2004.000000   166.000000   712.250000  ...   \n",
       "max       9.000000  2010.000000   2010.000000  1600.000000  5644.000000  ...   \n",
       "\n",
       "        WoodDeckSF  OpenPorchSF  EnclosedPorch    3SsnPorch  ScreenPorch  \\\n",
       "count  1460.000000  1460.000000    1460.000000  1460.000000  1460.000000   \n",
       "mean     94.244521    46.660274      21.954110     3.409589    15.060959   \n",
       "std     125.338794    66.256028      61.119149    29.317331    55.757415   \n",
       "min       0.000000     0.000000       0.000000     0.000000     0.000000   \n",
       "25%       0.000000     0.000000       0.000000     0.000000     0.000000   \n",
       "50%       0.000000    25.000000       0.000000     0.000000     0.000000   \n",
       "75%     168.000000    68.000000       0.000000     0.000000     0.000000   \n",
       "max     857.000000   547.000000     552.000000   508.000000   480.000000   \n",
       "\n",
       "          PoolArea       MiscVal       MoSold       YrSold      SalePrice  \n",
       "count  1460.000000   1460.000000  1460.000000  1460.000000    1460.000000  \n",
       "mean      2.758904     43.489041     6.321918  2007.815753  180921.195890  \n",
       "std      40.177307    496.123024     2.703626     1.328095   79442.502883  \n",
       "min       0.000000      0.000000     1.000000  2006.000000   34900.000000  \n",
       "25%       0.000000      0.000000     5.000000  2007.000000  129975.000000  \n",
       "50%       0.000000      0.000000     6.000000  2008.000000  163000.000000  \n",
       "75%       0.000000      0.000000     8.000000  2009.000000  214000.000000  \n",
       "max     738.000000  15500.000000    12.000000  2010.000000  755000.000000  \n",
       "\n",
       "[8 rows x 38 columns]"
      ]
     },
     "execution_count": 14,
     "metadata": {},
     "output_type": "execute_result"
    }
   ],
   "source": [
    "#Deriving the summary statistics of the train dataframe\n",
    "train_data.describe()"
   ]
  },
  {
   "cell_type": "code",
   "execution_count": 15,
   "id": "0313cd0e",
   "metadata": {
    "execution": {
     "iopub.execute_input": "2022-02-13T16:02:40.821627Z",
     "iopub.status.busy": "2022-02-13T16:02:40.820889Z",
     "iopub.status.idle": "2022-02-13T16:02:40.913310Z",
     "shell.execute_reply": "2022-02-13T16:02:40.913849Z",
     "shell.execute_reply.started": "2022-02-13T15:48:28.769881Z"
    },
    "papermill": {
     "duration": 0.162871,
     "end_time": "2022-02-13T16:02:40.914023",
     "exception": false,
     "start_time": "2022-02-13T16:02:40.751152",
     "status": "completed"
    },
    "tags": []
   },
   "outputs": [
    {
     "data": {
      "text/html": [
       "<div>\n",
       "<style scoped>\n",
       "    .dataframe tbody tr th:only-of-type {\n",
       "        vertical-align: middle;\n",
       "    }\n",
       "\n",
       "    .dataframe tbody tr th {\n",
       "        vertical-align: top;\n",
       "    }\n",
       "\n",
       "    .dataframe thead th {\n",
       "        text-align: right;\n",
       "    }\n",
       "</style>\n",
       "<table border=\"1\" class=\"dataframe\">\n",
       "  <thead>\n",
       "    <tr style=\"text-align: right;\">\n",
       "      <th></th>\n",
       "      <th>Id</th>\n",
       "      <th>MSSubClass</th>\n",
       "      <th>LotFrontage</th>\n",
       "      <th>LotArea</th>\n",
       "      <th>OverallQual</th>\n",
       "      <th>OverallCond</th>\n",
       "      <th>YearBuilt</th>\n",
       "      <th>YearRemodAdd</th>\n",
       "      <th>MasVnrArea</th>\n",
       "      <th>BsmtFinSF1</th>\n",
       "      <th>...</th>\n",
       "      <th>GarageArea</th>\n",
       "      <th>WoodDeckSF</th>\n",
       "      <th>OpenPorchSF</th>\n",
       "      <th>EnclosedPorch</th>\n",
       "      <th>3SsnPorch</th>\n",
       "      <th>ScreenPorch</th>\n",
       "      <th>PoolArea</th>\n",
       "      <th>MiscVal</th>\n",
       "      <th>MoSold</th>\n",
       "      <th>YrSold</th>\n",
       "    </tr>\n",
       "  </thead>\n",
       "  <tbody>\n",
       "    <tr>\n",
       "      <th>count</th>\n",
       "      <td>1459.000000</td>\n",
       "      <td>1459.000000</td>\n",
       "      <td>1232.000000</td>\n",
       "      <td>1459.000000</td>\n",
       "      <td>1459.000000</td>\n",
       "      <td>1459.000000</td>\n",
       "      <td>1459.000000</td>\n",
       "      <td>1459.000000</td>\n",
       "      <td>1444.000000</td>\n",
       "      <td>1458.000000</td>\n",
       "      <td>...</td>\n",
       "      <td>1458.000000</td>\n",
       "      <td>1459.000000</td>\n",
       "      <td>1459.000000</td>\n",
       "      <td>1459.000000</td>\n",
       "      <td>1459.000000</td>\n",
       "      <td>1459.000000</td>\n",
       "      <td>1459.000000</td>\n",
       "      <td>1459.000000</td>\n",
       "      <td>1459.000000</td>\n",
       "      <td>1459.000000</td>\n",
       "    </tr>\n",
       "    <tr>\n",
       "      <th>mean</th>\n",
       "      <td>2190.000000</td>\n",
       "      <td>57.378341</td>\n",
       "      <td>68.580357</td>\n",
       "      <td>9819.161069</td>\n",
       "      <td>6.078821</td>\n",
       "      <td>5.553804</td>\n",
       "      <td>1971.357779</td>\n",
       "      <td>1983.662783</td>\n",
       "      <td>100.709141</td>\n",
       "      <td>439.203704</td>\n",
       "      <td>...</td>\n",
       "      <td>472.768861</td>\n",
       "      <td>93.174777</td>\n",
       "      <td>48.313914</td>\n",
       "      <td>24.243317</td>\n",
       "      <td>1.794380</td>\n",
       "      <td>17.064428</td>\n",
       "      <td>1.744345</td>\n",
       "      <td>58.167923</td>\n",
       "      <td>6.104181</td>\n",
       "      <td>2007.769705</td>\n",
       "    </tr>\n",
       "    <tr>\n",
       "      <th>std</th>\n",
       "      <td>421.321334</td>\n",
       "      <td>42.746880</td>\n",
       "      <td>22.376841</td>\n",
       "      <td>4955.517327</td>\n",
       "      <td>1.436812</td>\n",
       "      <td>1.113740</td>\n",
       "      <td>30.390071</td>\n",
       "      <td>21.130467</td>\n",
       "      <td>177.625900</td>\n",
       "      <td>455.268042</td>\n",
       "      <td>...</td>\n",
       "      <td>217.048611</td>\n",
       "      <td>127.744882</td>\n",
       "      <td>68.883364</td>\n",
       "      <td>67.227765</td>\n",
       "      <td>20.207842</td>\n",
       "      <td>56.609763</td>\n",
       "      <td>30.491646</td>\n",
       "      <td>630.806978</td>\n",
       "      <td>2.722432</td>\n",
       "      <td>1.301740</td>\n",
       "    </tr>\n",
       "    <tr>\n",
       "      <th>min</th>\n",
       "      <td>1461.000000</td>\n",
       "      <td>20.000000</td>\n",
       "      <td>21.000000</td>\n",
       "      <td>1470.000000</td>\n",
       "      <td>1.000000</td>\n",
       "      <td>1.000000</td>\n",
       "      <td>1879.000000</td>\n",
       "      <td>1950.000000</td>\n",
       "      <td>0.000000</td>\n",
       "      <td>0.000000</td>\n",
       "      <td>...</td>\n",
       "      <td>0.000000</td>\n",
       "      <td>0.000000</td>\n",
       "      <td>0.000000</td>\n",
       "      <td>0.000000</td>\n",
       "      <td>0.000000</td>\n",
       "      <td>0.000000</td>\n",
       "      <td>0.000000</td>\n",
       "      <td>0.000000</td>\n",
       "      <td>1.000000</td>\n",
       "      <td>2006.000000</td>\n",
       "    </tr>\n",
       "    <tr>\n",
       "      <th>25%</th>\n",
       "      <td>1825.500000</td>\n",
       "      <td>20.000000</td>\n",
       "      <td>58.000000</td>\n",
       "      <td>7391.000000</td>\n",
       "      <td>5.000000</td>\n",
       "      <td>5.000000</td>\n",
       "      <td>1953.000000</td>\n",
       "      <td>1963.000000</td>\n",
       "      <td>0.000000</td>\n",
       "      <td>0.000000</td>\n",
       "      <td>...</td>\n",
       "      <td>318.000000</td>\n",
       "      <td>0.000000</td>\n",
       "      <td>0.000000</td>\n",
       "      <td>0.000000</td>\n",
       "      <td>0.000000</td>\n",
       "      <td>0.000000</td>\n",
       "      <td>0.000000</td>\n",
       "      <td>0.000000</td>\n",
       "      <td>4.000000</td>\n",
       "      <td>2007.000000</td>\n",
       "    </tr>\n",
       "    <tr>\n",
       "      <th>50%</th>\n",
       "      <td>2190.000000</td>\n",
       "      <td>50.000000</td>\n",
       "      <td>67.000000</td>\n",
       "      <td>9399.000000</td>\n",
       "      <td>6.000000</td>\n",
       "      <td>5.000000</td>\n",
       "      <td>1973.000000</td>\n",
       "      <td>1992.000000</td>\n",
       "      <td>0.000000</td>\n",
       "      <td>350.500000</td>\n",
       "      <td>...</td>\n",
       "      <td>480.000000</td>\n",
       "      <td>0.000000</td>\n",
       "      <td>28.000000</td>\n",
       "      <td>0.000000</td>\n",
       "      <td>0.000000</td>\n",
       "      <td>0.000000</td>\n",
       "      <td>0.000000</td>\n",
       "      <td>0.000000</td>\n",
       "      <td>6.000000</td>\n",
       "      <td>2008.000000</td>\n",
       "    </tr>\n",
       "    <tr>\n",
       "      <th>75%</th>\n",
       "      <td>2554.500000</td>\n",
       "      <td>70.000000</td>\n",
       "      <td>80.000000</td>\n",
       "      <td>11517.500000</td>\n",
       "      <td>7.000000</td>\n",
       "      <td>6.000000</td>\n",
       "      <td>2001.000000</td>\n",
       "      <td>2004.000000</td>\n",
       "      <td>164.000000</td>\n",
       "      <td>753.500000</td>\n",
       "      <td>...</td>\n",
       "      <td>576.000000</td>\n",
       "      <td>168.000000</td>\n",
       "      <td>72.000000</td>\n",
       "      <td>0.000000</td>\n",
       "      <td>0.000000</td>\n",
       "      <td>0.000000</td>\n",
       "      <td>0.000000</td>\n",
       "      <td>0.000000</td>\n",
       "      <td>8.000000</td>\n",
       "      <td>2009.000000</td>\n",
       "    </tr>\n",
       "    <tr>\n",
       "      <th>max</th>\n",
       "      <td>2919.000000</td>\n",
       "      <td>190.000000</td>\n",
       "      <td>200.000000</td>\n",
       "      <td>56600.000000</td>\n",
       "      <td>10.000000</td>\n",
       "      <td>9.000000</td>\n",
       "      <td>2010.000000</td>\n",
       "      <td>2010.000000</td>\n",
       "      <td>1290.000000</td>\n",
       "      <td>4010.000000</td>\n",
       "      <td>...</td>\n",
       "      <td>1488.000000</td>\n",
       "      <td>1424.000000</td>\n",
       "      <td>742.000000</td>\n",
       "      <td>1012.000000</td>\n",
       "      <td>360.000000</td>\n",
       "      <td>576.000000</td>\n",
       "      <td>800.000000</td>\n",
       "      <td>17000.000000</td>\n",
       "      <td>12.000000</td>\n",
       "      <td>2010.000000</td>\n",
       "    </tr>\n",
       "  </tbody>\n",
       "</table>\n",
       "<p>8 rows × 37 columns</p>\n",
       "</div>"
      ],
      "text/plain": [
       "                Id   MSSubClass  LotFrontage       LotArea  OverallQual  \\\n",
       "count  1459.000000  1459.000000  1232.000000   1459.000000  1459.000000   \n",
       "mean   2190.000000    57.378341    68.580357   9819.161069     6.078821   \n",
       "std     421.321334    42.746880    22.376841   4955.517327     1.436812   \n",
       "min    1461.000000    20.000000    21.000000   1470.000000     1.000000   \n",
       "25%    1825.500000    20.000000    58.000000   7391.000000     5.000000   \n",
       "50%    2190.000000    50.000000    67.000000   9399.000000     6.000000   \n",
       "75%    2554.500000    70.000000    80.000000  11517.500000     7.000000   \n",
       "max    2919.000000   190.000000   200.000000  56600.000000    10.000000   \n",
       "\n",
       "       OverallCond    YearBuilt  YearRemodAdd   MasVnrArea   BsmtFinSF1  ...  \\\n",
       "count  1459.000000  1459.000000   1459.000000  1444.000000  1458.000000  ...   \n",
       "mean      5.553804  1971.357779   1983.662783   100.709141   439.203704  ...   \n",
       "std       1.113740    30.390071     21.130467   177.625900   455.268042  ...   \n",
       "min       1.000000  1879.000000   1950.000000     0.000000     0.000000  ...   \n",
       "25%       5.000000  1953.000000   1963.000000     0.000000     0.000000  ...   \n",
       "50%       5.000000  1973.000000   1992.000000     0.000000   350.500000  ...   \n",
       "75%       6.000000  2001.000000   2004.000000   164.000000   753.500000  ...   \n",
       "max       9.000000  2010.000000   2010.000000  1290.000000  4010.000000  ...   \n",
       "\n",
       "        GarageArea   WoodDeckSF  OpenPorchSF  EnclosedPorch    3SsnPorch  \\\n",
       "count  1458.000000  1459.000000  1459.000000    1459.000000  1459.000000   \n",
       "mean    472.768861    93.174777    48.313914      24.243317     1.794380   \n",
       "std     217.048611   127.744882    68.883364      67.227765    20.207842   \n",
       "min       0.000000     0.000000     0.000000       0.000000     0.000000   \n",
       "25%     318.000000     0.000000     0.000000       0.000000     0.000000   \n",
       "50%     480.000000     0.000000    28.000000       0.000000     0.000000   \n",
       "75%     576.000000   168.000000    72.000000       0.000000     0.000000   \n",
       "max    1488.000000  1424.000000   742.000000    1012.000000   360.000000   \n",
       "\n",
       "       ScreenPorch     PoolArea       MiscVal       MoSold       YrSold  \n",
       "count  1459.000000  1459.000000   1459.000000  1459.000000  1459.000000  \n",
       "mean     17.064428     1.744345     58.167923     6.104181  2007.769705  \n",
       "std      56.609763    30.491646    630.806978     2.722432     1.301740  \n",
       "min       0.000000     0.000000      0.000000     1.000000  2006.000000  \n",
       "25%       0.000000     0.000000      0.000000     4.000000  2007.000000  \n",
       "50%       0.000000     0.000000      0.000000     6.000000  2008.000000  \n",
       "75%       0.000000     0.000000      0.000000     8.000000  2009.000000  \n",
       "max     576.000000   800.000000  17000.000000    12.000000  2010.000000  \n",
       "\n",
       "[8 rows x 37 columns]"
      ]
     },
     "execution_count": 15,
     "metadata": {},
     "output_type": "execute_result"
    }
   ],
   "source": [
    "#Deriving the summary statistics of the test dataframe\n",
    "test_data.describe()"
   ]
  },
  {
   "cell_type": "markdown",
   "id": "ce687096",
   "metadata": {
    "papermill": {
     "duration": 0.068912,
     "end_time": "2022-02-13T16:02:41.048963",
     "exception": false,
     "start_time": "2022-02-13T16:02:40.980051",
     "status": "completed"
    },
    "tags": []
   },
   "source": [
    "# EDA continues"
   ]
  },
  {
   "cell_type": "markdown",
   "id": "d5f63988",
   "metadata": {
    "papermill": {
     "duration": 0.065366,
     "end_time": "2022-02-13T16:02:41.181107",
     "exception": false,
     "start_time": "2022-02-13T16:02:41.115741",
     "status": "completed"
    },
    "tags": []
   },
   "source": [
    "**Tabulate sum of null values in the test and train data sets**"
   ]
  },
  {
   "cell_type": "code",
   "execution_count": 16,
   "id": "c8e14a89",
   "metadata": {
    "execution": {
     "iopub.execute_input": "2022-02-13T16:02:41.317424Z",
     "iopub.status.busy": "2022-02-13T16:02:41.316699Z",
     "iopub.status.idle": "2022-02-13T16:02:41.356216Z",
     "shell.execute_reply": "2022-02-13T16:02:41.356769Z",
     "shell.execute_reply.started": "2022-02-13T15:48:28.850841Z"
    },
    "papermill": {
     "duration": 0.110173,
     "end_time": "2022-02-13T16:02:41.356956",
     "exception": false,
     "start_time": "2022-02-13T16:02:41.246783",
     "status": "completed"
    },
    "tags": []
   },
   "outputs": [
    {
     "data": {
      "text/html": [
       "<div>\n",
       "<style scoped>\n",
       "    .dataframe tbody tr th:only-of-type {\n",
       "        vertical-align: middle;\n",
       "    }\n",
       "\n",
       "    .dataframe tbody tr th {\n",
       "        vertical-align: top;\n",
       "    }\n",
       "\n",
       "    .dataframe thead th {\n",
       "        text-align: right;\n",
       "    }\n",
       "</style>\n",
       "<table border=\"1\" class=\"dataframe\">\n",
       "  <thead>\n",
       "    <tr style=\"text-align: right;\">\n",
       "      <th></th>\n",
       "      <th>trainNull</th>\n",
       "      <th>TestNull</th>\n",
       "    </tr>\n",
       "  </thead>\n",
       "  <tbody>\n",
       "    <tr>\n",
       "      <th>Electrical</th>\n",
       "      <td>1.0</td>\n",
       "      <td>NaN</td>\n",
       "    </tr>\n",
       "    <tr>\n",
       "      <th>MasVnrType</th>\n",
       "      <td>8.0</td>\n",
       "      <td>16.0</td>\n",
       "    </tr>\n",
       "    <tr>\n",
       "      <th>MasVnrArea</th>\n",
       "      <td>8.0</td>\n",
       "      <td>15.0</td>\n",
       "    </tr>\n",
       "    <tr>\n",
       "      <th>BsmtQual</th>\n",
       "      <td>37.0</td>\n",
       "      <td>44.0</td>\n",
       "    </tr>\n",
       "    <tr>\n",
       "      <th>BsmtCond</th>\n",
       "      <td>37.0</td>\n",
       "      <td>45.0</td>\n",
       "    </tr>\n",
       "    <tr>\n",
       "      <th>BsmtFinType1</th>\n",
       "      <td>37.0</td>\n",
       "      <td>42.0</td>\n",
       "    </tr>\n",
       "    <tr>\n",
       "      <th>BsmtExposure</th>\n",
       "      <td>38.0</td>\n",
       "      <td>44.0</td>\n",
       "    </tr>\n",
       "    <tr>\n",
       "      <th>BsmtFinType2</th>\n",
       "      <td>38.0</td>\n",
       "      <td>42.0</td>\n",
       "    </tr>\n",
       "    <tr>\n",
       "      <th>GarageCond</th>\n",
       "      <td>81.0</td>\n",
       "      <td>78.0</td>\n",
       "    </tr>\n",
       "    <tr>\n",
       "      <th>GarageQual</th>\n",
       "      <td>81.0</td>\n",
       "      <td>78.0</td>\n",
       "    </tr>\n",
       "    <tr>\n",
       "      <th>GarageFinish</th>\n",
       "      <td>81.0</td>\n",
       "      <td>78.0</td>\n",
       "    </tr>\n",
       "    <tr>\n",
       "      <th>GarageType</th>\n",
       "      <td>81.0</td>\n",
       "      <td>76.0</td>\n",
       "    </tr>\n",
       "    <tr>\n",
       "      <th>GarageYrBlt</th>\n",
       "      <td>81.0</td>\n",
       "      <td>78.0</td>\n",
       "    </tr>\n",
       "    <tr>\n",
       "      <th>LotFrontage</th>\n",
       "      <td>259.0</td>\n",
       "      <td>227.0</td>\n",
       "    </tr>\n",
       "    <tr>\n",
       "      <th>FireplaceQu</th>\n",
       "      <td>690.0</td>\n",
       "      <td>730.0</td>\n",
       "    </tr>\n",
       "    <tr>\n",
       "      <th>Fence</th>\n",
       "      <td>1179.0</td>\n",
       "      <td>1169.0</td>\n",
       "    </tr>\n",
       "    <tr>\n",
       "      <th>Alley</th>\n",
       "      <td>1369.0</td>\n",
       "      <td>1352.0</td>\n",
       "    </tr>\n",
       "    <tr>\n",
       "      <th>MiscFeature</th>\n",
       "      <td>1406.0</td>\n",
       "      <td>1408.0</td>\n",
       "    </tr>\n",
       "    <tr>\n",
       "      <th>PoolQC</th>\n",
       "      <td>1453.0</td>\n",
       "      <td>1456.0</td>\n",
       "    </tr>\n",
       "    <tr>\n",
       "      <th>TotalBsmtSF</th>\n",
       "      <td>NaN</td>\n",
       "      <td>1.0</td>\n",
       "    </tr>\n",
       "    <tr>\n",
       "      <th>GarageArea</th>\n",
       "      <td>NaN</td>\n",
       "      <td>1.0</td>\n",
       "    </tr>\n",
       "    <tr>\n",
       "      <th>GarageCars</th>\n",
       "      <td>NaN</td>\n",
       "      <td>1.0</td>\n",
       "    </tr>\n",
       "    <tr>\n",
       "      <th>KitchenQual</th>\n",
       "      <td>NaN</td>\n",
       "      <td>1.0</td>\n",
       "    </tr>\n",
       "    <tr>\n",
       "      <th>BsmtUnfSF</th>\n",
       "      <td>NaN</td>\n",
       "      <td>1.0</td>\n",
       "    </tr>\n",
       "    <tr>\n",
       "      <th>BsmtFinSF2</th>\n",
       "      <td>NaN</td>\n",
       "      <td>1.0</td>\n",
       "    </tr>\n",
       "    <tr>\n",
       "      <th>BsmtFinSF1</th>\n",
       "      <td>NaN</td>\n",
       "      <td>1.0</td>\n",
       "    </tr>\n",
       "    <tr>\n",
       "      <th>SaleType</th>\n",
       "      <td>NaN</td>\n",
       "      <td>1.0</td>\n",
       "    </tr>\n",
       "    <tr>\n",
       "      <th>Exterior1st</th>\n",
       "      <td>NaN</td>\n",
       "      <td>1.0</td>\n",
       "    </tr>\n",
       "    <tr>\n",
       "      <th>Exterior2nd</th>\n",
       "      <td>NaN</td>\n",
       "      <td>1.0</td>\n",
       "    </tr>\n",
       "    <tr>\n",
       "      <th>Functional</th>\n",
       "      <td>NaN</td>\n",
       "      <td>2.0</td>\n",
       "    </tr>\n",
       "    <tr>\n",
       "      <th>Utilities</th>\n",
       "      <td>NaN</td>\n",
       "      <td>2.0</td>\n",
       "    </tr>\n",
       "    <tr>\n",
       "      <th>BsmtHalfBath</th>\n",
       "      <td>NaN</td>\n",
       "      <td>2.0</td>\n",
       "    </tr>\n",
       "    <tr>\n",
       "      <th>BsmtFullBath</th>\n",
       "      <td>NaN</td>\n",
       "      <td>2.0</td>\n",
       "    </tr>\n",
       "    <tr>\n",
       "      <th>MSZoning</th>\n",
       "      <td>NaN</td>\n",
       "      <td>4.0</td>\n",
       "    </tr>\n",
       "  </tbody>\n",
       "</table>\n",
       "</div>"
      ],
      "text/plain": [
       "              trainNull  TestNull\n",
       "Electrical          1.0       NaN\n",
       "MasVnrType          8.0      16.0\n",
       "MasVnrArea          8.0      15.0\n",
       "BsmtQual           37.0      44.0\n",
       "BsmtCond           37.0      45.0\n",
       "BsmtFinType1       37.0      42.0\n",
       "BsmtExposure       38.0      44.0\n",
       "BsmtFinType2       38.0      42.0\n",
       "GarageCond         81.0      78.0\n",
       "GarageQual         81.0      78.0\n",
       "GarageFinish       81.0      78.0\n",
       "GarageType         81.0      76.0\n",
       "GarageYrBlt        81.0      78.0\n",
       "LotFrontage       259.0     227.0\n",
       "FireplaceQu       690.0     730.0\n",
       "Fence            1179.0    1169.0\n",
       "Alley            1369.0    1352.0\n",
       "MiscFeature      1406.0    1408.0\n",
       "PoolQC           1453.0    1456.0\n",
       "TotalBsmtSF         NaN       1.0\n",
       "GarageArea          NaN       1.0\n",
       "GarageCars          NaN       1.0\n",
       "KitchenQual         NaN       1.0\n",
       "BsmtUnfSF           NaN       1.0\n",
       "BsmtFinSF2          NaN       1.0\n",
       "BsmtFinSF1          NaN       1.0\n",
       "SaleType            NaN       1.0\n",
       "Exterior1st         NaN       1.0\n",
       "Exterior2nd         NaN       1.0\n",
       "Functional          NaN       2.0\n",
       "Utilities           NaN       2.0\n",
       "BsmtHalfBath        NaN       2.0\n",
       "BsmtFullBath        NaN       2.0\n",
       "MSZoning            NaN       4.0"
      ]
     },
     "execution_count": 16,
     "metadata": {},
     "output_type": "execute_result"
    }
   ],
   "source": [
    "#Get null values of train data\n",
    "nullVal = train_data.isna().sum()\n",
    "nullCol = nullVal.drop(nullVal[nullVal == 0].index).sort_values()\n",
    "\n",
    "#Get null values of test data\n",
    "nulltest = test_data.isnull().sum()\n",
    "natestVal = nulltest.drop(nulltest[nulltest == 0].index).sort_values()\n",
    "\n",
    "#concatinate both null value together\n",
    "allNa = pd.concat([nullCol,natestVal], axis = 1, keys = ['trainNull','TestNull'])\n",
    "allNa\n"
   ]
  },
  {
   "cell_type": "markdown",
   "id": "0eb77c6c",
   "metadata": {
    "papermill": {
     "duration": 0.068701,
     "end_time": "2022-02-13T16:02:41.493430",
     "exception": false,
     "start_time": "2022-02-13T16:02:41.424729",
     "status": "completed"
    },
    "tags": []
   },
   "source": [
    "**Steps taken in dealing with the null values**\n",
    "* Calculate percentages of missing values\n",
    "* Drop columns with negligable percentages\n",
    "* Fill in with mean/medians for others"
   ]
  },
  {
   "cell_type": "code",
   "execution_count": 17,
   "id": "b00fea01",
   "metadata": {
    "execution": {
     "iopub.execute_input": "2022-02-13T16:02:41.629773Z",
     "iopub.status.busy": "2022-02-13T16:02:41.628699Z",
     "iopub.status.idle": "2022-02-13T16:02:41.686280Z",
     "shell.execute_reply": "2022-02-13T16:02:41.686883Z",
     "shell.execute_reply.started": "2022-02-13T15:48:28.879286Z"
    },
    "papermill": {
     "duration": 0.127532,
     "end_time": "2022-02-13T16:02:41.687075",
     "exception": false,
     "start_time": "2022-02-13T16:02:41.559543",
     "status": "completed"
    },
    "tags": []
   },
   "outputs": [
    {
     "name": "stdout",
     "output_type": "stream",
     "text": [
      "              Total      Rate\n",
      "PoolQC         1453  0.995205\n",
      "MiscFeature    1406  0.963014\n",
      "Alley          1369  0.937671\n",
      "Fence          1179  0.807534\n",
      "FireplaceQu     690  0.472603\n",
      "LotFrontage     259  0.177397\n",
      "GarageType       81  0.055479\n",
      "GarageYrBlt      81  0.055479\n",
      "GarageFinish     81  0.055479\n",
      "GarageQual       81  0.055479\n",
      "GarageCond       81  0.055479\n",
      "BsmtExposure     38  0.026027\n",
      "BsmtFinType2     38  0.026027\n",
      "BsmtFinType1     37  0.025342\n",
      "BsmtCond         37  0.025342\n",
      "BsmtQual         37  0.025342\n",
      "MasVnrArea        8  0.005479\n",
      "MasVnrType        8  0.005479\n",
      "Electrical        1  0.000685\n"
     ]
    }
   ],
   "source": [
    "#showing missing value with the percentages \n",
    "Rate_train = (train_data.isnull().sum()/train_data.isnull().count()).sort_values()\n",
    "Rates_train = pd.concat([nullVal,Rate_train], axis = 1, keys =['Total','Rate'] )\n",
    "Rates_train = Rates_train.drop(nullVal[nullVal == 0].index).sort_values('Rate',ascending=False)\n",
    "print(Rates_train)\n",
    "\n"
   ]
  },
  {
   "cell_type": "code",
   "execution_count": 18,
   "id": "87ca1d65",
   "metadata": {},
   "outputs": [
    {
     "name": "stdout",
     "output_type": "stream",
     "text": [
      "              Total      Rate\n",
      "PoolQC         1453  0.997944\n",
      "MiscFeature    1406  0.965045\n",
      "Alley          1369  0.926662\n",
      "Fence          1179  0.801234\n",
      "FireplaceQu     690  0.500343\n",
      "LotFrontage     259  0.155586\n",
      "GarageYrBlt      81  0.053461\n",
      "GarageFinish     81  0.053461\n",
      "GarageQual       81  0.053461\n",
      "GarageCond       81  0.053461\n",
      "GarageType       81  0.052090\n",
      "BsmtCond         37  0.030843\n",
      "BsmtExposure     38  0.030158\n",
      "BsmtQual         37  0.030158\n",
      "BsmtFinType1     37  0.028787\n",
      "BsmtFinType2     38  0.028787\n",
      "MasVnrType        8  0.010966\n",
      "MasVnrArea        8  0.010281\n",
      "Electrical        1  0.000000\n"
     ]
    }
   ],
   "source": [
    "Rate_test = (test_data.isnull().sum()/test_data.isnull().count()).sort_values()\n",
    "Rates_test = pd.concat([nullVal,Rate_test], axis = 1, keys =['Total','Rate'] )\n",
    "Rates_test = Rates_test.drop(nullVal[nullVal == 0].index).sort_values( 'Rate',ascending=False)\n",
    "print(Rates_test)"
   ]
  },
  {
   "cell_type": "markdown",
   "id": "cce33342",
   "metadata": {
    "papermill": {
     "duration": 0.069022,
     "end_time": "2022-02-13T16:02:41.823952",
     "exception": false,
     "start_time": "2022-02-13T16:02:41.754930",
     "status": "completed"
    },
    "tags": []
   },
   "source": [
    "**Dealing with missing values** \n",
    "* Missing values with large (above 10%) percentages are droped\n",
    "* Numerical missing values are filled with 0\n",
    "* Categorical missing values with none\n",
    "*The Id column is set aside to reduce data features"
   ]
  },
  {
   "cell_type": "code",
   "execution_count": 21,
   "id": "890d715d",
   "metadata": {
    "execution": {
     "iopub.execute_input": "2022-02-13T16:02:41.965769Z",
     "iopub.status.busy": "2022-02-13T16:02:41.965063Z",
     "iopub.status.idle": "2022-02-13T16:02:41.973040Z",
     "shell.execute_reply": "2022-02-13T16:02:41.973649Z",
     "shell.execute_reply.started": "2022-02-13T15:48:28.912244Z"
    },
    "papermill": {
     "duration": 0.081663,
     "end_time": "2022-02-13T16:02:41.973842",
     "exception": false,
     "start_time": "2022-02-13T16:02:41.892179",
     "status": "completed"
    },
    "tags": []
   },
   "outputs": [
    {
     "ename": "KeyError",
     "evalue": "\"['PoolQC' 'MiscFeature' 'Alley' 'Fence' 'FireplaceQu' 'LotFrontage'] not found in axis\"",
     "output_type": "error",
     "traceback": [
      "\u001b[1;31m---------------------------------------------------------------------------\u001b[0m",
      "\u001b[1;31mKeyError\u001b[0m                                  Traceback (most recent call last)",
      "\u001b[1;32m<ipython-input-21-12af3b22a73a>\u001b[0m in \u001b[0;36m<module>\u001b[1;34m\u001b[0m\n\u001b[0;32m      1\u001b[0m \u001b[1;31m# Train shape After droping the high propotions of missing values\u001b[0m\u001b[1;33m\u001b[0m\u001b[1;33m\u001b[0m\u001b[1;33m\u001b[0m\u001b[0m\n\u001b[1;32m----> 2\u001b[1;33m \u001b[0mtrain_data\u001b[0m \u001b[1;33m=\u001b[0m \u001b[0mtrain_data\u001b[0m\u001b[1;33m.\u001b[0m\u001b[0mdrop\u001b[0m\u001b[1;33m(\u001b[0m\u001b[1;33m(\u001b[0m\u001b[0mRates_train\u001b[0m\u001b[1;33m[\u001b[0m\u001b[0mRates_train\u001b[0m\u001b[1;33m[\u001b[0m\u001b[1;34m'Rate'\u001b[0m\u001b[1;33m]\u001b[0m \u001b[1;33m>\u001b[0m \u001b[1;36m0.1\u001b[0m\u001b[1;33m]\u001b[0m\u001b[1;33m)\u001b[0m\u001b[1;33m.\u001b[0m\u001b[0mindex\u001b[0m\u001b[1;33m,\u001b[0m\u001b[1;36m1\u001b[0m\u001b[1;33m)\u001b[0m\u001b[1;33m\u001b[0m\u001b[1;33m\u001b[0m\u001b[0m\n\u001b[0m\u001b[0;32m      3\u001b[0m \u001b[0mtrain_data\u001b[0m\u001b[1;33m.\u001b[0m\u001b[0mshape\u001b[0m\u001b[1;33m\u001b[0m\u001b[1;33m\u001b[0m\u001b[0m\n",
      "\u001b[1;32mC:\\Users\\New folder\\lib\\site-packages\\pandas\\core\\frame.py\u001b[0m in \u001b[0;36mdrop\u001b[1;34m(self, labels, axis, index, columns, level, inplace, errors)\u001b[0m\n\u001b[0;32m   4306\u001b[0m                 \u001b[0mweight\u001b[0m  \u001b[1;36m1.0\u001b[0m     \u001b[1;36m0.8\u001b[0m\u001b[1;33m\u001b[0m\u001b[1;33m\u001b[0m\u001b[0m\n\u001b[0;32m   4307\u001b[0m         \"\"\"\n\u001b[1;32m-> 4308\u001b[1;33m         return super().drop(\n\u001b[0m\u001b[0;32m   4309\u001b[0m             \u001b[0mlabels\u001b[0m\u001b[1;33m=\u001b[0m\u001b[0mlabels\u001b[0m\u001b[1;33m,\u001b[0m\u001b[1;33m\u001b[0m\u001b[1;33m\u001b[0m\u001b[0m\n\u001b[0;32m   4310\u001b[0m             \u001b[0maxis\u001b[0m\u001b[1;33m=\u001b[0m\u001b[0maxis\u001b[0m\u001b[1;33m,\u001b[0m\u001b[1;33m\u001b[0m\u001b[1;33m\u001b[0m\u001b[0m\n",
      "\u001b[1;32mC:\\Users\\New folder\\lib\\site-packages\\pandas\\core\\generic.py\u001b[0m in \u001b[0;36mdrop\u001b[1;34m(self, labels, axis, index, columns, level, inplace, errors)\u001b[0m\n\u001b[0;32m   4151\u001b[0m         \u001b[1;32mfor\u001b[0m \u001b[0maxis\u001b[0m\u001b[1;33m,\u001b[0m \u001b[0mlabels\u001b[0m \u001b[1;32min\u001b[0m \u001b[0maxes\u001b[0m\u001b[1;33m.\u001b[0m\u001b[0mitems\u001b[0m\u001b[1;33m(\u001b[0m\u001b[1;33m)\u001b[0m\u001b[1;33m:\u001b[0m\u001b[1;33m\u001b[0m\u001b[1;33m\u001b[0m\u001b[0m\n\u001b[0;32m   4152\u001b[0m             \u001b[1;32mif\u001b[0m \u001b[0mlabels\u001b[0m \u001b[1;32mis\u001b[0m \u001b[1;32mnot\u001b[0m \u001b[1;32mNone\u001b[0m\u001b[1;33m:\u001b[0m\u001b[1;33m\u001b[0m\u001b[1;33m\u001b[0m\u001b[0m\n\u001b[1;32m-> 4153\u001b[1;33m                 \u001b[0mobj\u001b[0m \u001b[1;33m=\u001b[0m \u001b[0mobj\u001b[0m\u001b[1;33m.\u001b[0m\u001b[0m_drop_axis\u001b[0m\u001b[1;33m(\u001b[0m\u001b[0mlabels\u001b[0m\u001b[1;33m,\u001b[0m \u001b[0maxis\u001b[0m\u001b[1;33m,\u001b[0m \u001b[0mlevel\u001b[0m\u001b[1;33m=\u001b[0m\u001b[0mlevel\u001b[0m\u001b[1;33m,\u001b[0m \u001b[0merrors\u001b[0m\u001b[1;33m=\u001b[0m\u001b[0merrors\u001b[0m\u001b[1;33m)\u001b[0m\u001b[1;33m\u001b[0m\u001b[1;33m\u001b[0m\u001b[0m\n\u001b[0m\u001b[0;32m   4154\u001b[0m \u001b[1;33m\u001b[0m\u001b[0m\n\u001b[0;32m   4155\u001b[0m         \u001b[1;32mif\u001b[0m \u001b[0minplace\u001b[0m\u001b[1;33m:\u001b[0m\u001b[1;33m\u001b[0m\u001b[1;33m\u001b[0m\u001b[0m\n",
      "\u001b[1;32mC:\\Users\\New folder\\lib\\site-packages\\pandas\\core\\generic.py\u001b[0m in \u001b[0;36m_drop_axis\u001b[1;34m(self, labels, axis, level, errors)\u001b[0m\n\u001b[0;32m   4186\u001b[0m                 \u001b[0mnew_axis\u001b[0m \u001b[1;33m=\u001b[0m \u001b[0maxis\u001b[0m\u001b[1;33m.\u001b[0m\u001b[0mdrop\u001b[0m\u001b[1;33m(\u001b[0m\u001b[0mlabels\u001b[0m\u001b[1;33m,\u001b[0m \u001b[0mlevel\u001b[0m\u001b[1;33m=\u001b[0m\u001b[0mlevel\u001b[0m\u001b[1;33m,\u001b[0m \u001b[0merrors\u001b[0m\u001b[1;33m=\u001b[0m\u001b[0merrors\u001b[0m\u001b[1;33m)\u001b[0m\u001b[1;33m\u001b[0m\u001b[1;33m\u001b[0m\u001b[0m\n\u001b[0;32m   4187\u001b[0m             \u001b[1;32melse\u001b[0m\u001b[1;33m:\u001b[0m\u001b[1;33m\u001b[0m\u001b[1;33m\u001b[0m\u001b[0m\n\u001b[1;32m-> 4188\u001b[1;33m                 \u001b[0mnew_axis\u001b[0m \u001b[1;33m=\u001b[0m \u001b[0maxis\u001b[0m\u001b[1;33m.\u001b[0m\u001b[0mdrop\u001b[0m\u001b[1;33m(\u001b[0m\u001b[0mlabels\u001b[0m\u001b[1;33m,\u001b[0m \u001b[0merrors\u001b[0m\u001b[1;33m=\u001b[0m\u001b[0merrors\u001b[0m\u001b[1;33m)\u001b[0m\u001b[1;33m\u001b[0m\u001b[1;33m\u001b[0m\u001b[0m\n\u001b[0m\u001b[0;32m   4189\u001b[0m             \u001b[0mresult\u001b[0m \u001b[1;33m=\u001b[0m \u001b[0mself\u001b[0m\u001b[1;33m.\u001b[0m\u001b[0mreindex\u001b[0m\u001b[1;33m(\u001b[0m\u001b[1;33m**\u001b[0m\u001b[1;33m{\u001b[0m\u001b[0maxis_name\u001b[0m\u001b[1;33m:\u001b[0m \u001b[0mnew_axis\u001b[0m\u001b[1;33m}\u001b[0m\u001b[1;33m)\u001b[0m\u001b[1;33m\u001b[0m\u001b[1;33m\u001b[0m\u001b[0m\n\u001b[0;32m   4190\u001b[0m \u001b[1;33m\u001b[0m\u001b[0m\n",
      "\u001b[1;32mC:\\Users\\New folder\\lib\\site-packages\\pandas\\core\\indexes\\base.py\u001b[0m in \u001b[0;36mdrop\u001b[1;34m(self, labels, errors)\u001b[0m\n\u001b[0;32m   5589\u001b[0m         \u001b[1;32mif\u001b[0m \u001b[0mmask\u001b[0m\u001b[1;33m.\u001b[0m\u001b[0many\u001b[0m\u001b[1;33m(\u001b[0m\u001b[1;33m)\u001b[0m\u001b[1;33m:\u001b[0m\u001b[1;33m\u001b[0m\u001b[1;33m\u001b[0m\u001b[0m\n\u001b[0;32m   5590\u001b[0m             \u001b[1;32mif\u001b[0m \u001b[0merrors\u001b[0m \u001b[1;33m!=\u001b[0m \u001b[1;34m\"ignore\"\u001b[0m\u001b[1;33m:\u001b[0m\u001b[1;33m\u001b[0m\u001b[1;33m\u001b[0m\u001b[0m\n\u001b[1;32m-> 5591\u001b[1;33m                 \u001b[1;32mraise\u001b[0m \u001b[0mKeyError\u001b[0m\u001b[1;33m(\u001b[0m\u001b[1;34mf\"{labels[mask]} not found in axis\"\u001b[0m\u001b[1;33m)\u001b[0m\u001b[1;33m\u001b[0m\u001b[1;33m\u001b[0m\u001b[0m\n\u001b[0m\u001b[0;32m   5592\u001b[0m             \u001b[0mindexer\u001b[0m \u001b[1;33m=\u001b[0m \u001b[0mindexer\u001b[0m\u001b[1;33m[\u001b[0m\u001b[1;33m~\u001b[0m\u001b[0mmask\u001b[0m\u001b[1;33m]\u001b[0m\u001b[1;33m\u001b[0m\u001b[1;33m\u001b[0m\u001b[0m\n\u001b[0;32m   5593\u001b[0m         \u001b[1;32mreturn\u001b[0m \u001b[0mself\u001b[0m\u001b[1;33m.\u001b[0m\u001b[0mdelete\u001b[0m\u001b[1;33m(\u001b[0m\u001b[0mindexer\u001b[0m\u001b[1;33m)\u001b[0m\u001b[1;33m\u001b[0m\u001b[1;33m\u001b[0m\u001b[0m\n",
      "\u001b[1;31mKeyError\u001b[0m: \"['PoolQC' 'MiscFeature' 'Alley' 'Fence' 'FireplaceQu' 'LotFrontage'] not found in axis\""
     ]
    }
   ],
   "source": [
    "# Train shape After droping the high propotions of missing values\n",
    "train_data = train_data.drop((Rates_train[Rates_train['Rate'] > 0.1]).index,1)\n",
    "train_data.shape"
   ]
  },
  {
   "cell_type": "code",
   "execution_count": 20,
   "id": "baa44881",
   "metadata": {
    "execution": {
     "iopub.execute_input": "2022-02-13T16:02:42.116421Z",
     "iopub.status.busy": "2022-02-13T16:02:42.115739Z",
     "iopub.status.idle": "2022-02-13T16:02:42.123554Z",
     "shell.execute_reply": "2022-02-13T16:02:42.124333Z",
     "shell.execute_reply.started": "2022-02-13T15:48:28.921095Z"
    },
    "papermill": {
     "duration": 0.081555,
     "end_time": "2022-02-13T16:02:42.124570",
     "exception": false,
     "start_time": "2022-02-13T16:02:42.043015",
     "status": "completed"
    },
    "tags": []
   },
   "outputs": [
    {
     "data": {
      "text/plain": [
       "(1459, 74)"
      ]
     },
     "execution_count": 20,
     "metadata": {},
     "output_type": "execute_result"
    }
   ],
   "source": [
    "# Test shape After droping the high propotions of missing values\n",
    "test_data = test_data.drop((Rates_test[Rates_test['Rate'] > 0.1]).index,1)\n",
    "test_data.shape"
   ]
  },
  {
   "cell_type": "markdown",
   "id": "7a47c0a3",
   "metadata": {
    "papermill": {
     "duration": 0.072246,
     "end_time": "2022-02-13T16:02:42.267858",
     "exception": false,
     "start_time": "2022-02-13T16:02:42.195612",
     "status": "completed"
    },
    "tags": []
   },
   "source": [
    "# Data wrangling\n",
    "* Drop some null data\n",
    "* fill in other null values\n"
   ]
  },
  {
   "cell_type": "code",
   "execution_count": 22,
   "id": "21ff4eae",
   "metadata": {
    "execution": {
     "iopub.execute_input": "2022-02-13T16:02:42.409155Z",
     "iopub.status.busy": "2022-02-13T16:02:42.408331Z",
     "iopub.status.idle": "2022-02-13T16:02:42.416704Z",
     "shell.execute_reply": "2022-02-13T16:02:42.417299Z",
     "shell.execute_reply.started": "2022-02-13T15:48:28.943744Z"
    },
    "papermill": {
     "duration": 0.079721,
     "end_time": "2022-02-13T16:02:42.417507",
     "exception": false,
     "start_time": "2022-02-13T16:02:42.337786",
     "status": "completed"
    },
    "tags": []
   },
   "outputs": [],
   "source": [
    "#store data Id for later use\n",
    "train_ID = train_data['Id']\n",
    "test_ID = test_data['Id']\n",
    "\n",
    "train_data.drop(\"Id\", axis = 1, inplace = True)\n",
    "test_data.drop(\"Id\", axis = 1, inplace = True)"
   ]
  },
  {
   "cell_type": "code",
   "execution_count": 23,
   "id": "72f4cbe2",
   "metadata": {
    "execution": {
     "iopub.execute_input": "2022-02-13T16:02:42.559514Z",
     "iopub.status.busy": "2022-02-13T16:02:42.558804Z",
     "iopub.status.idle": "2022-02-13T16:02:42.579640Z",
     "shell.execute_reply": "2022-02-13T16:02:42.579031Z",
     "shell.execute_reply.started": "2022-02-13T15:48:28.960167Z"
    },
    "papermill": {
     "duration": 0.092934,
     "end_time": "2022-02-13T16:02:42.579821",
     "exception": false,
     "start_time": "2022-02-13T16:02:42.486887",
     "status": "completed"
    },
    "tags": []
   },
   "outputs": [
    {
     "data": {
      "text/plain": [
       "MSSubClass        1.407657\n",
       "LotArea          12.207688\n",
       "OverallQual       0.216944\n",
       "OverallCond       0.693067\n",
       "YearBuilt        -0.613461\n",
       "YearRemodAdd     -0.503562\n",
       "MasVnrArea        2.669084\n",
       "BsmtFinSF1        1.685503\n",
       "BsmtFinSF2        4.255261\n",
       "BsmtUnfSF         0.920268\n",
       "TotalBsmtSF       1.524255\n",
       "1stFlrSF          1.376757\n",
       "2ndFlrSF          0.813030\n",
       "LowQualFinSF      9.011341\n",
       "GrLivArea         1.366560\n",
       "BsmtFullBath      0.596067\n",
       "BsmtHalfBath      4.103403\n",
       "FullBath          0.036562\n",
       "HalfBath          0.675897\n",
       "BedroomAbvGr      0.211790\n",
       "KitchenAbvGr      4.488397\n",
       "TotRmsAbvGrd      0.676341\n",
       "Fireplaces        0.649565\n",
       "GarageYrBlt      -0.649415\n",
       "GarageCars       -0.342549\n",
       "GarageArea        0.179981\n",
       "WoodDeckSF        1.541376\n",
       "OpenPorchSF       2.364342\n",
       "EnclosedPorch     3.089872\n",
       "3SsnPorch        10.304342\n",
       "ScreenPorch       4.122214\n",
       "PoolArea         14.828374\n",
       "MiscVal          24.476794\n",
       "MoSold            0.212053\n",
       "YrSold            0.096269\n",
       "SalePrice         1.882876\n",
       "dtype: float64"
      ]
     },
     "execution_count": 23,
     "metadata": {},
     "output_type": "execute_result"
    }
   ],
   "source": [
    "#outputing the rate of skew of each column\n",
    "train_data.skew(axis=None, skipna=None, level=None, numeric_only=None)"
   ]
  },
  {
   "cell_type": "code",
   "execution_count": 24,
   "id": "442093b6",
   "metadata": {},
   "outputs": [
    {
     "data": {
      "text/plain": [
       "38"
      ]
     },
     "execution_count": 24,
     "metadata": {},
     "output_type": "execute_result"
    }
   ],
   "source": [
    "train_data.dtypes[train_data.dtypes == \"object\"].count()"
   ]
  },
  {
   "cell_type": "code",
   "execution_count": 25,
   "id": "79ced75d",
   "metadata": {},
   "outputs": [
    {
     "data": {
      "text/plain": [
       "34"
      ]
     },
     "execution_count": 25,
     "metadata": {},
     "output_type": "execute_result"
    }
   ],
   "source": [
    "train_data.dtypes[train_data.dtypes == \"int64\"].count()"
   ]
  },
  {
   "cell_type": "raw",
   "id": "114c58bd",
   "metadata": {},
   "source": []
  },
  {
   "cell_type": "code",
   "execution_count": 26,
   "id": "7b8aaf07",
   "metadata": {
    "execution": {
     "iopub.execute_input": "2022-02-13T16:02:42.730452Z",
     "iopub.status.busy": "2022-02-13T16:02:42.727173Z",
     "iopub.status.idle": "2022-02-13T16:02:42.734731Z",
     "shell.execute_reply": "2022-02-13T16:02:42.734117Z",
     "shell.execute_reply.started": "2022-02-13T15:48:28.984589Z"
    },
    "papermill": {
     "duration": 0.085571,
     "end_time": "2022-02-13T16:02:42.734886",
     "exception": false,
     "start_time": "2022-02-13T16:02:42.649315",
     "status": "completed"
    },
    "tags": []
   },
   "outputs": [],
   "source": [
    "#fill missing values of categorical columns type with \"None\" \n",
    "for col in ('GarageType', 'GarageFinish', 'GarageQual', 'GarageCond','BsmtQual',\n",
    "            'BsmtCond', 'BsmtExposure', 'BsmtFinType1', 'BsmtFinType2','MasVnrType'):\n",
    "    train_data[col] = train_data[col].fillna('None')\n",
    "\n",
    "#fill missing values of numerical columns type with 0 \n",
    "for col in ('GarageYrBlt', 'GarageCars',\"MasVnrArea\"):\n",
    "    train_data[col] = train_data[col].fillna(0) \n",
    "    "
   ]
  },
  {
   "cell_type": "code",
   "execution_count": 27,
   "id": "7da3ccb3",
   "metadata": {
    "execution": {
     "iopub.execute_input": "2022-02-13T16:02:42.878663Z",
     "iopub.status.busy": "2022-02-13T16:02:42.877966Z",
     "iopub.status.idle": "2022-02-13T16:02:42.889727Z",
     "shell.execute_reply": "2022-02-13T16:02:42.890266Z",
     "shell.execute_reply.started": "2022-02-13T15:48:29.002559Z"
    },
    "papermill": {
     "duration": 0.083857,
     "end_time": "2022-02-13T16:02:42.890470",
     "exception": false,
     "start_time": "2022-02-13T16:02:42.806613",
     "status": "completed"
    },
    "tags": []
   },
   "outputs": [],
   "source": [
    "for col in ('GarageType', 'GarageFinish', 'GarageQual', 'GarageCond',\n",
    "           'BsmtQual', 'BsmtCond', 'BsmtExposure', 'BsmtFinType1', 'BsmtFinType2','MasVnrType'):\n",
    "    test_data[col] = test_data[col].fillna('None')\n",
    "\n",
    "\n",
    "for col in ('GarageYrBlt', 'GarageCars',\"MasVnrArea\"):\n",
    "    test_data[col] = test_data[col].fillna(0) \n"
   ]
  },
  {
   "cell_type": "code",
   "execution_count": 28,
   "id": "b45d2f2e",
   "metadata": {
    "execution": {
     "iopub.execute_input": "2022-02-13T16:02:43.028718Z",
     "iopub.status.busy": "2022-02-13T16:02:43.027996Z",
     "iopub.status.idle": "2022-02-13T16:02:43.035425Z",
     "shell.execute_reply": "2022-02-13T16:02:43.036137Z",
     "shell.execute_reply.started": "2022-02-13T15:48:29.030003Z"
    },
    "papermill": {
     "duration": 0.078283,
     "end_time": "2022-02-13T16:02:43.036331",
     "exception": false,
     "start_time": "2022-02-13T16:02:42.958048",
     "status": "completed"
    },
    "tags": []
   },
   "outputs": [],
   "source": [
    "train_data['Electrical'] = train_data['Electrical'].fillna(train_data['Electrical'].mode()[0])\n",
    "test_data['Electrical'] = test_data['Electrical'].fillna(test_data['Electrical'].mode()[0])"
   ]
  },
  {
   "cell_type": "code",
   "execution_count": 29,
   "id": "6c8bb011",
   "metadata": {
    "execution": {
     "iopub.execute_input": "2022-02-13T16:02:43.187028Z",
     "iopub.status.busy": "2022-02-13T16:02:43.186143Z",
     "iopub.status.idle": "2022-02-13T16:02:43.208054Z",
     "shell.execute_reply": "2022-02-13T16:02:43.208603Z",
     "shell.execute_reply.started": "2022-02-13T15:48:29.057520Z"
    },
    "papermill": {
     "duration": 0.103906,
     "end_time": "2022-02-13T16:02:43.208786",
     "exception": false,
     "start_time": "2022-02-13T16:02:43.104880",
     "status": "completed"
    },
    "tags": []
   },
   "outputs": [
    {
     "data": {
      "text/html": [
       "<div>\n",
       "<style scoped>\n",
       "    .dataframe tbody tr th:only-of-type {\n",
       "        vertical-align: middle;\n",
       "    }\n",
       "\n",
       "    .dataframe tbody tr th {\n",
       "        vertical-align: top;\n",
       "    }\n",
       "\n",
       "    .dataframe thead th {\n",
       "        text-align: right;\n",
       "    }\n",
       "</style>\n",
       "<table border=\"1\" class=\"dataframe\">\n",
       "  <thead>\n",
       "    <tr style=\"text-align: right;\">\n",
       "      <th></th>\n",
       "      <th>trainNull</th>\n",
       "      <th>TestNull</th>\n",
       "    </tr>\n",
       "  </thead>\n",
       "  <tbody>\n",
       "    <tr>\n",
       "      <th>Exterior1st</th>\n",
       "      <td>NaN</td>\n",
       "      <td>1</td>\n",
       "    </tr>\n",
       "    <tr>\n",
       "      <th>Exterior2nd</th>\n",
       "      <td>NaN</td>\n",
       "      <td>1</td>\n",
       "    </tr>\n",
       "    <tr>\n",
       "      <th>BsmtFinSF1</th>\n",
       "      <td>NaN</td>\n",
       "      <td>1</td>\n",
       "    </tr>\n",
       "    <tr>\n",
       "      <th>BsmtFinSF2</th>\n",
       "      <td>NaN</td>\n",
       "      <td>1</td>\n",
       "    </tr>\n",
       "    <tr>\n",
       "      <th>BsmtUnfSF</th>\n",
       "      <td>NaN</td>\n",
       "      <td>1</td>\n",
       "    </tr>\n",
       "    <tr>\n",
       "      <th>TotalBsmtSF</th>\n",
       "      <td>NaN</td>\n",
       "      <td>1</td>\n",
       "    </tr>\n",
       "    <tr>\n",
       "      <th>KitchenQual</th>\n",
       "      <td>NaN</td>\n",
       "      <td>1</td>\n",
       "    </tr>\n",
       "    <tr>\n",
       "      <th>GarageArea</th>\n",
       "      <td>NaN</td>\n",
       "      <td>1</td>\n",
       "    </tr>\n",
       "    <tr>\n",
       "      <th>SaleType</th>\n",
       "      <td>NaN</td>\n",
       "      <td>1</td>\n",
       "    </tr>\n",
       "    <tr>\n",
       "      <th>Utilities</th>\n",
       "      <td>NaN</td>\n",
       "      <td>2</td>\n",
       "    </tr>\n",
       "    <tr>\n",
       "      <th>BsmtFullBath</th>\n",
       "      <td>NaN</td>\n",
       "      <td>2</td>\n",
       "    </tr>\n",
       "    <tr>\n",
       "      <th>BsmtHalfBath</th>\n",
       "      <td>NaN</td>\n",
       "      <td>2</td>\n",
       "    </tr>\n",
       "    <tr>\n",
       "      <th>Functional</th>\n",
       "      <td>NaN</td>\n",
       "      <td>2</td>\n",
       "    </tr>\n",
       "    <tr>\n",
       "      <th>MSZoning</th>\n",
       "      <td>NaN</td>\n",
       "      <td>4</td>\n",
       "    </tr>\n",
       "  </tbody>\n",
       "</table>\n",
       "</div>"
      ],
      "text/plain": [
       "              trainNull  TestNull\n",
       "Exterior1st         NaN         1\n",
       "Exterior2nd         NaN         1\n",
       "BsmtFinSF1          NaN         1\n",
       "BsmtFinSF2          NaN         1\n",
       "BsmtUnfSF           NaN         1\n",
       "TotalBsmtSF         NaN         1\n",
       "KitchenQual         NaN         1\n",
       "GarageArea          NaN         1\n",
       "SaleType            NaN         1\n",
       "Utilities           NaN         2\n",
       "BsmtFullBath        NaN         2\n",
       "BsmtHalfBath        NaN         2\n",
       "Functional          NaN         2\n",
       "MSZoning            NaN         4"
      ]
     },
     "execution_count": 29,
     "metadata": {},
     "output_type": "execute_result"
    }
   ],
   "source": [
    "##Check ALL missing values are replaced\n",
    "\n",
    "#Get null values of train data\n",
    "nullVal = train_data.isna().sum()\n",
    "nullCol = nullVal.drop(nullVal[nullVal == 0].index).sort_values()\n",
    "\n",
    "#Get null values of test data\n",
    "nulltest = test_data.isnull().sum()\n",
    "natestVal = nulltest.drop(nulltest[nulltest == 0].index).sort_values()\n",
    "\n",
    "#concatinate both null value together\n",
    "allNa = pd.concat([nullCol,natestVal], axis = 1, keys = ['trainNull','TestNull'])\n",
    "allNa"
   ]
  },
  {
   "cell_type": "code",
   "execution_count": 30,
   "id": "d83e7e44",
   "metadata": {},
   "outputs": [
    {
     "name": "stdout",
     "output_type": "stream",
     "text": [
      "Empty DataFrame\n",
      "Columns: [Total, Rate]\n",
      "Index: []\n"
     ]
    }
   ],
   "source": [
    "Rate_train = (train_data.isnull().sum()/train_data.isnull().count()).sort_values()\n",
    "Rates_train = pd.concat([nullVal,Rate_train], axis = 1, keys =['Total','Rate'] )\n",
    "Rates_train = Rates_train.drop(nullVal[nullVal == 0].index).sort_values( 'Rate',ascending=False)\n",
    "print(Rates_train)"
   ]
  },
  {
   "cell_type": "code",
   "execution_count": 31,
   "id": "99f16d67",
   "metadata": {},
   "outputs": [
    {
     "name": "stdout",
     "output_type": "stream",
     "text": [
      "Empty DataFrame\n",
      "Columns: [Total, Rate]\n",
      "Index: []\n"
     ]
    }
   ],
   "source": [
    "Rate_test = (test_data.isnull().sum()/test_data.isnull().count()).sort_values()\n",
    "Rates_test = pd.concat([nullVal,Rate_test], axis = 1, keys =['Total','Rate'] )\n",
    "Rates_test = Rates_test.drop(nullVal[nullVal == 0].index).sort_values( 'Rate',ascending=False)\n",
    "print(Rates_test)"
   ]
  },
  {
   "cell_type": "markdown",
   "id": "338d9d43",
   "metadata": {
    "papermill": {
     "duration": 0.068259,
     "end_time": "2022-02-13T16:02:43.345663",
     "exception": false,
     "start_time": "2022-02-13T16:02:43.277404",
     "status": "completed"
    },
    "tags": []
   },
   "source": [
    "**Check for outliers in the data set**\n",
    "\n",
    "*In statistics, an outlier is an observation point that is distant from other observations.*"
   ]
  },
  {
   "cell_type": "code",
   "execution_count": 32,
   "id": "fa632e5c",
   "metadata": {
    "execution": {
     "iopub.execute_input": "2022-02-13T16:02:43.487534Z",
     "iopub.status.busy": "2022-02-13T16:02:43.486680Z",
     "iopub.status.idle": "2022-02-13T16:02:43.491003Z",
     "shell.execute_reply": "2022-02-13T16:02:43.491602Z",
     "shell.execute_reply.started": "2022-02-13T15:48:29.089072Z"
    },
    "papermill": {
     "duration": 0.076866,
     "end_time": "2022-02-13T16:02:43.491791",
     "exception": false,
     "start_time": "2022-02-13T16:02:43.414925",
     "status": "completed"
    },
    "tags": []
   },
   "outputs": [],
   "source": [
    "trainCo = train_data.copy()"
   ]
  },
  {
   "cell_type": "markdown",
   "id": "d6fb065f",
   "metadata": {
    "papermill": {
     "duration": 0.069122,
     "end_time": "2022-02-13T16:02:43.630256",
     "exception": false,
     "start_time": "2022-02-13T16:02:43.561134",
     "status": "completed"
    },
    "tags": []
   },
   "source": [
    "# Data Vitualizations"
   ]
  },
  {
   "cell_type": "code",
   "execution_count": 33,
   "id": "d1ba2076",
   "metadata": {
    "execution": {
     "iopub.execute_input": "2022-02-13T16:02:43.771049Z",
     "iopub.status.busy": "2022-02-13T16:02:43.770218Z",
     "iopub.status.idle": "2022-02-13T16:02:53.180670Z",
     "shell.execute_reply": "2022-02-13T16:02:53.181183Z",
     "shell.execute_reply.started": "2022-02-13T15:48:29.097206Z"
    },
    "papermill": {
     "duration": 9.482389,
     "end_time": "2022-02-13T16:02:53.181393",
     "exception": false,
     "start_time": "2022-02-13T16:02:43.699004",
     "status": "completed"
    },
    "tags": []
   },
   "outputs": [
    {
     "data": {
      "image/png": "[encoded data removed]",
      "text/plain": [
       "<Figure size 1440x1512 with 30 Axes>"
      ]
     },
     "metadata": {},
     "output_type": "display_data"
    }
   ],
   "source": [
    "#For 25 int and 4 float values 10 x 3 cells are used\n",
    "numRows = 10\n",
    "numCols = 3\n",
    " \n",
    "fig, axes = plt.subplots(numRows, numCols,figsize=(20,21))\n",
    "palette= sns.color_palette(\"Paired\", 40)\n",
    "\n",
    "numerical_cols = trainCo.dtypes[trainCo.dtypes != \"object\"].index\n",
    "listNum = list(numerical_cols)\n",
    "\n",
    "x=-1\n",
    "for num in range(0, numRows):\n",
    "    for col in range(0, numCols):  \n",
    "        i = num * numCols + col\n",
    "        if i < len(listNum):\n",
    "            x += 1\n",
    "            sns.regplot(trainCo[listNum[i]], trainCo['SalePrice'], ax = axes[num][col],color = palette[x],marker=\".\")  \n",
    "plt.tight_layout()    \n",
    "plt.show()   "
   ]
  },
  {
   "cell_type": "code",
   "execution_count": 34,
   "id": "419ae9df",
   "metadata": {
    "execution": {
     "iopub.execute_input": "2022-02-13T16:02:53.350387Z",
     "iopub.status.busy": "2022-02-13T16:02:53.349293Z",
     "iopub.status.idle": "2022-02-13T16:02:53.373851Z",
     "shell.execute_reply": "2022-02-13T16:02:53.374437Z",
     "shell.execute_reply.started": "2022-02-13T15:48:40.185109Z"
    },
    "papermill": {
     "duration": 0.110067,
     "end_time": "2022-02-13T16:02:53.374620",
     "exception": false,
     "start_time": "2022-02-13T16:02:53.264553",
     "status": "completed"
    },
    "tags": []
   },
   "outputs": [],
   "source": [
    "#Removing some outliers\n",
    "train_data = train_data.drop(train_data[(train_data['LotArea']>50000)].index)\n",
    "train_data = train_data.drop(train_data[(train_data['MasVnrArea']>1000)].index)\n",
    "train_data = train_data.drop(train_data[(train_data['GarageArea']>1200)].index)\n",
    "train_data = train_data.drop(train_data[(train_data['OpenPorchSF']>400)].index)\n",
    "train_data = train_data.drop(train_data[(train_data['EnclosedPorch']>300)].index)\n",
    "train_data = train_data.drop(train_data[(train_data['GrLivArea']>4000)].index)\n",
    "train_data = train_data.drop(train_data[(train_data['WoodDeckSF']>600)].index)"
   ]
  },
  {
   "cell_type": "markdown",
   "id": "c65fea18",
   "metadata": {
    "papermill": {
     "duration": 0.082764,
     "end_time": "2022-02-13T16:02:53.538543",
     "exception": false,
     "start_time": "2022-02-13T16:02:53.455779",
     "status": "completed"
    },
    "tags": []
   },
   "source": [
    "**Calculation of Z-score**\n",
    "\n",
    "*Mathematical method of identifying outliers*"
   ]
  },
  {
   "cell_type": "markdown",
   "id": "05c7bf50",
   "metadata": {
    "papermill": {
     "duration": 0.081272,
     "end_time": "2022-02-13T16:02:53.699959",
     "exception": false,
     "start_time": "2022-02-13T16:02:53.618687",
     "status": "completed"
    },
    "tags": []
   },
   "source": [
    "**Encoding For the categorical features**\n",
    "\n",
    "*Check for unique values*\n",
    "*Encode*"
   ]
  },
  {
   "cell_type": "code",
   "execution_count": 35,
   "id": "e74a6fce",
   "metadata": {
    "execution": {
     "iopub.execute_input": "2022-02-13T16:02:53.903865Z",
     "iopub.status.busy": "2022-02-13T16:02:53.898116Z",
     "iopub.status.idle": "2022-02-13T16:02:53.936120Z",
     "shell.execute_reply": "2022-02-13T16:02:53.935484Z",
     "shell.execute_reply.started": "2022-02-13T15:48:40.211980Z"
    },
    "papermill": {
     "duration": 0.148963,
     "end_time": "2022-02-13T16:02:53.936271",
     "exception": false,
     "start_time": "2022-02-13T16:02:53.787308",
     "status": "completed"
    },
    "tags": []
   },
   "outputs": [
    {
     "data": {
      "text/html": [
       "<div>\n",
       "<style scoped>\n",
       "    .dataframe tbody tr th:only-of-type {\n",
       "        vertical-align: middle;\n",
       "    }\n",
       "\n",
       "    .dataframe tbody tr th {\n",
       "        vertical-align: top;\n",
       "    }\n",
       "\n",
       "    .dataframe thead th {\n",
       "        text-align: right;\n",
       "    }\n",
       "</style>\n",
       "<table border=\"1\" class=\"dataframe\">\n",
       "  <thead>\n",
       "    <tr style=\"text-align: right;\">\n",
       "      <th></th>\n",
       "      <th>Features</th>\n",
       "      <th>Number of distinct values</th>\n",
       "    </tr>\n",
       "  </thead>\n",
       "  <tbody>\n",
       "    <tr>\n",
       "      <th>0</th>\n",
       "      <td>MSZoning</td>\n",
       "      <td>5</td>\n",
       "    </tr>\n",
       "    <tr>\n",
       "      <th>1</th>\n",
       "      <td>Street</td>\n",
       "      <td>2</td>\n",
       "    </tr>\n",
       "    <tr>\n",
       "      <th>2</th>\n",
       "      <td>LotShape</td>\n",
       "      <td>4</td>\n",
       "    </tr>\n",
       "    <tr>\n",
       "      <th>3</th>\n",
       "      <td>LandContour</td>\n",
       "      <td>4</td>\n",
       "    </tr>\n",
       "    <tr>\n",
       "      <th>4</th>\n",
       "      <td>Utilities</td>\n",
       "      <td>2</td>\n",
       "    </tr>\n",
       "    <tr>\n",
       "      <th>5</th>\n",
       "      <td>LotConfig</td>\n",
       "      <td>5</td>\n",
       "    </tr>\n",
       "    <tr>\n",
       "      <th>6</th>\n",
       "      <td>LandSlope</td>\n",
       "      <td>3</td>\n",
       "    </tr>\n",
       "    <tr>\n",
       "      <th>7</th>\n",
       "      <td>Neighborhood</td>\n",
       "      <td>25</td>\n",
       "    </tr>\n",
       "    <tr>\n",
       "      <th>8</th>\n",
       "      <td>Condition1</td>\n",
       "      <td>9</td>\n",
       "    </tr>\n",
       "    <tr>\n",
       "      <th>9</th>\n",
       "      <td>Condition2</td>\n",
       "      <td>6</td>\n",
       "    </tr>\n",
       "    <tr>\n",
       "      <th>10</th>\n",
       "      <td>BldgType</td>\n",
       "      <td>5</td>\n",
       "    </tr>\n",
       "    <tr>\n",
       "      <th>11</th>\n",
       "      <td>HouseStyle</td>\n",
       "      <td>8</td>\n",
       "    </tr>\n",
       "    <tr>\n",
       "      <th>12</th>\n",
       "      <td>RoofStyle</td>\n",
       "      <td>6</td>\n",
       "    </tr>\n",
       "    <tr>\n",
       "      <th>13</th>\n",
       "      <td>RoofMatl</td>\n",
       "      <td>7</td>\n",
       "    </tr>\n",
       "    <tr>\n",
       "      <th>14</th>\n",
       "      <td>Exterior1st</td>\n",
       "      <td>15</td>\n",
       "    </tr>\n",
       "    <tr>\n",
       "      <th>15</th>\n",
       "      <td>Exterior2nd</td>\n",
       "      <td>16</td>\n",
       "    </tr>\n",
       "    <tr>\n",
       "      <th>16</th>\n",
       "      <td>MasVnrType</td>\n",
       "      <td>4</td>\n",
       "    </tr>\n",
       "    <tr>\n",
       "      <th>17</th>\n",
       "      <td>ExterQual</td>\n",
       "      <td>4</td>\n",
       "    </tr>\n",
       "    <tr>\n",
       "      <th>18</th>\n",
       "      <td>ExterCond</td>\n",
       "      <td>5</td>\n",
       "    </tr>\n",
       "    <tr>\n",
       "      <th>19</th>\n",
       "      <td>Foundation</td>\n",
       "      <td>6</td>\n",
       "    </tr>\n",
       "    <tr>\n",
       "      <th>20</th>\n",
       "      <td>BsmtQual</td>\n",
       "      <td>5</td>\n",
       "    </tr>\n",
       "    <tr>\n",
       "      <th>21</th>\n",
       "      <td>BsmtCond</td>\n",
       "      <td>5</td>\n",
       "    </tr>\n",
       "    <tr>\n",
       "      <th>22</th>\n",
       "      <td>BsmtExposure</td>\n",
       "      <td>5</td>\n",
       "    </tr>\n",
       "    <tr>\n",
       "      <th>23</th>\n",
       "      <td>BsmtFinType1</td>\n",
       "      <td>7</td>\n",
       "    </tr>\n",
       "    <tr>\n",
       "      <th>24</th>\n",
       "      <td>BsmtFinType2</td>\n",
       "      <td>7</td>\n",
       "    </tr>\n",
       "    <tr>\n",
       "      <th>25</th>\n",
       "      <td>Heating</td>\n",
       "      <td>6</td>\n",
       "    </tr>\n",
       "    <tr>\n",
       "      <th>26</th>\n",
       "      <td>HeatingQC</td>\n",
       "      <td>5</td>\n",
       "    </tr>\n",
       "    <tr>\n",
       "      <th>27</th>\n",
       "      <td>CentralAir</td>\n",
       "      <td>2</td>\n",
       "    </tr>\n",
       "    <tr>\n",
       "      <th>28</th>\n",
       "      <td>Electrical</td>\n",
       "      <td>5</td>\n",
       "    </tr>\n",
       "    <tr>\n",
       "      <th>29</th>\n",
       "      <td>KitchenQual</td>\n",
       "      <td>4</td>\n",
       "    </tr>\n",
       "    <tr>\n",
       "      <th>30</th>\n",
       "      <td>Functional</td>\n",
       "      <td>7</td>\n",
       "    </tr>\n",
       "    <tr>\n",
       "      <th>31</th>\n",
       "      <td>GarageType</td>\n",
       "      <td>7</td>\n",
       "    </tr>\n",
       "    <tr>\n",
       "      <th>32</th>\n",
       "      <td>GarageFinish</td>\n",
       "      <td>4</td>\n",
       "    </tr>\n",
       "    <tr>\n",
       "      <th>33</th>\n",
       "      <td>GarageQual</td>\n",
       "      <td>6</td>\n",
       "    </tr>\n",
       "    <tr>\n",
       "      <th>34</th>\n",
       "      <td>GarageCond</td>\n",
       "      <td>6</td>\n",
       "    </tr>\n",
       "    <tr>\n",
       "      <th>35</th>\n",
       "      <td>PavedDrive</td>\n",
       "      <td>3</td>\n",
       "    </tr>\n",
       "    <tr>\n",
       "      <th>36</th>\n",
       "      <td>SaleType</td>\n",
       "      <td>9</td>\n",
       "    </tr>\n",
       "    <tr>\n",
       "      <th>37</th>\n",
       "      <td>SaleCondition</td>\n",
       "      <td>6</td>\n",
       "    </tr>\n",
       "  </tbody>\n",
       "</table>\n",
       "</div>"
      ],
      "text/plain": [
       "         Features  Number of distinct values\n",
       "0        MSZoning                          5\n",
       "1          Street                          2\n",
       "2        LotShape                          4\n",
       "3     LandContour                          4\n",
       "4       Utilities                          2\n",
       "5       LotConfig                          5\n",
       "6       LandSlope                          3\n",
       "7    Neighborhood                         25\n",
       "8      Condition1                          9\n",
       "9      Condition2                          6\n",
       "10       BldgType                          5\n",
       "11     HouseStyle                          8\n",
       "12      RoofStyle                          6\n",
       "13       RoofMatl                          7\n",
       "14    Exterior1st                         15\n",
       "15    Exterior2nd                         16\n",
       "16     MasVnrType                          4\n",
       "17      ExterQual                          4\n",
       "18      ExterCond                          5\n",
       "19     Foundation                          6\n",
       "20       BsmtQual                          5\n",
       "21       BsmtCond                          5\n",
       "22   BsmtExposure                          5\n",
       "23   BsmtFinType1                          7\n",
       "24   BsmtFinType2                          7\n",
       "25        Heating                          6\n",
       "26      HeatingQC                          5\n",
       "27     CentralAir                          2\n",
       "28     Electrical                          5\n",
       "29    KitchenQual                          4\n",
       "30     Functional                          7\n",
       "31     GarageType                          7\n",
       "32   GarageFinish                          4\n",
       "33     GarageQual                          6\n",
       "34     GarageCond                          6\n",
       "35     PavedDrive                          3\n",
       "36       SaleType                          9\n",
       "37  SaleCondition                          6"
      ]
     },
     "execution_count": 35,
     "metadata": {},
     "output_type": "execute_result"
    }
   ],
   "source": [
    "categorical_data = train_data.select_dtypes(include='object').copy()\n",
    "#for feature in features:\n",
    "count = [len(train_data[features].unique()) for features in categorical_data]\n",
    "data_tuples = list(zip(categorical_data,count))\n",
    "data = pd.DataFrame(data_tuples, columns=['Features','Number of distinct values'])\n",
    "data"
   ]
  },
  {
   "cell_type": "markdown",
   "id": "3998728e",
   "metadata": {
    "papermill": {
     "duration": 0.097572,
     "end_time": "2022-02-13T16:02:54.122771",
     "exception": false,
     "start_time": "2022-02-13T16:02:54.025199",
     "status": "completed"
    },
    "tags": []
   },
   "source": [
    "**Dilemma between using ONEHOTENCODER  and LABELENCODER**\n",
    "* LabelEncoder will intoduce some relationship to the data set\n",
    "* OneHotEncoder will increase the features of the dataframe considerably"
   ]
  },
  {
   "cell_type": "code",
   "execution_count": 36,
   "id": "c5bd9307",
   "metadata": {
    "execution": {
     "iopub.execute_input": "2022-02-13T16:02:54.299890Z",
     "iopub.status.busy": "2022-02-13T16:02:54.298796Z",
     "iopub.status.idle": "2022-02-13T16:02:54.392709Z",
     "shell.execute_reply": "2022-02-13T16:02:54.393525Z",
     "shell.execute_reply.started": "2022-02-13T15:48:40.237363Z"
    },
    "papermill": {
     "duration": 0.181044,
     "end_time": "2022-02-13T16:02:54.393764",
     "exception": false,
     "start_time": "2022-02-13T16:02:54.212720",
     "status": "completed"
    },
    "tags": []
   },
   "outputs": [
    {
     "name": "stdout",
     "output_type": "stream",
     "text": [
      "<class 'pandas.core.frame.DataFrame'>\n",
      "Int64Index: 1423 entries, 0 to 1458\n",
      "Data columns (total 74 columns):\n",
      " #   Column         Non-Null Count  Dtype  \n",
      "---  ------         --------------  -----  \n",
      " 0   MSSubClass     1423 non-null   int64  \n",
      " 1   MSZoning       1423 non-null   int32  \n",
      " 2   LotArea        1423 non-null   int64  \n",
      " 3   Street         1423 non-null   int32  \n",
      " 4   LotShape       1423 non-null   int32  \n",
      " 5   LandContour    1423 non-null   int32  \n",
      " 6   Utilities      1423 non-null   int32  \n",
      " 7   LotConfig      1423 non-null   int32  \n",
      " 8   LandSlope      1423 non-null   int32  \n",
      " 9   Neighborhood   1423 non-null   int32  \n",
      " 10  Condition1     1423 non-null   int32  \n",
      " 11  Condition2     1423 non-null   int32  \n",
      " 12  BldgType       1423 non-null   int32  \n",
      " 13  HouseStyle     1423 non-null   int32  \n",
      " 14  OverallQual    1423 non-null   int64  \n",
      " 15  OverallCond    1423 non-null   int64  \n",
      " 16  YearBuilt      1423 non-null   int64  \n",
      " 17  YearRemodAdd   1423 non-null   int64  \n",
      " 18  RoofStyle      1423 non-null   int32  \n",
      " 19  RoofMatl       1423 non-null   int32  \n",
      " 20  Exterior1st    1423 non-null   int32  \n",
      " 21  Exterior2nd    1423 non-null   int32  \n",
      " 22  MasVnrType     1423 non-null   int32  \n",
      " 23  MasVnrArea     1423 non-null   float64\n",
      " 24  ExterQual      1423 non-null   int32  \n",
      " 25  ExterCond      1423 non-null   int32  \n",
      " 26  Foundation     1423 non-null   int32  \n",
      " 27  BsmtQual       1423 non-null   int32  \n",
      " 28  BsmtCond       1423 non-null   int32  \n",
      " 29  BsmtExposure   1423 non-null   int32  \n",
      " 30  BsmtFinType1   1423 non-null   int32  \n",
      " 31  BsmtFinSF1     1423 non-null   int64  \n",
      " 32  BsmtFinType2   1423 non-null   int32  \n",
      " 33  BsmtFinSF2     1423 non-null   int64  \n",
      " 34  BsmtUnfSF      1423 non-null   int64  \n",
      " 35  TotalBsmtSF    1423 non-null   int64  \n",
      " 36  Heating        1423 non-null   int32  \n",
      " 37  HeatingQC      1423 non-null   int32  \n",
      " 38  CentralAir     1423 non-null   int32  \n",
      " 39  Electrical     1423 non-null   int32  \n",
      " 40  1stFlrSF       1423 non-null   int64  \n",
      " 41  2ndFlrSF       1423 non-null   int64  \n",
      " 42  LowQualFinSF   1423 non-null   int64  \n",
      " 43  GrLivArea      1423 non-null   int64  \n",
      " 44  BsmtFullBath   1423 non-null   int64  \n",
      " 45  BsmtHalfBath   1423 non-null   int64  \n",
      " 46  FullBath       1423 non-null   int64  \n",
      " 47  HalfBath       1423 non-null   int64  \n",
      " 48  BedroomAbvGr   1423 non-null   int64  \n",
      " 49  KitchenAbvGr   1423 non-null   int64  \n",
      " 50  KitchenQual    1423 non-null   int32  \n",
      " 51  TotRmsAbvGrd   1423 non-null   int64  \n",
      " 52  Functional     1423 non-null   int32  \n",
      " 53  Fireplaces     1423 non-null   int64  \n",
      " 54  GarageType     1423 non-null   int32  \n",
      " 55  GarageYrBlt    1423 non-null   float64\n",
      " 56  GarageFinish   1423 non-null   int32  \n",
      " 57  GarageCars     1423 non-null   int64  \n",
      " 58  GarageArea     1423 non-null   int64  \n",
      " 59  GarageQual     1423 non-null   int32  \n",
      " 60  GarageCond     1423 non-null   int32  \n",
      " 61  PavedDrive     1423 non-null   int32  \n",
      " 62  WoodDeckSF     1423 non-null   int64  \n",
      " 63  OpenPorchSF    1423 non-null   int64  \n",
      " 64  EnclosedPorch  1423 non-null   int64  \n",
      " 65  3SsnPorch      1423 non-null   int64  \n",
      " 66  ScreenPorch    1423 non-null   int64  \n",
      " 67  PoolArea       1423 non-null   int64  \n",
      " 68  MiscVal        1423 non-null   int64  \n",
      " 69  MoSold         1423 non-null   int64  \n",
      " 70  YrSold         1423 non-null   int64  \n",
      " 71  SaleType       1423 non-null   int32  \n",
      " 72  SaleCondition  1423 non-null   int32  \n",
      " 73  SalePrice      1423 non-null   int64  \n",
      "dtypes: float64(2), int32(38), int64(34)\n",
      "memory usage: 622.6 KB\n"
     ]
    }
   ],
   "source": [
    "#Using oneHotEncoding for all categorical features\n",
    "train_copy = train_data.copy()\n",
    "for c in categorical_data:\n",
    "    label_encoder = LabelEncoder() \n",
    "    label_encoder.fit(list(train_copy[c].values)) \n",
    "    train_copy[c] = label_encoder.transform(list(train_copy[c].values))\n",
    "    \n",
    "train_data=train_copy.copy()\n",
    "train_data.info()\n"
   ]
  },
  {
   "cell_type": "code",
   "execution_count": 37,
   "id": "c8f10069",
   "metadata": {
    "execution": {
     "iopub.execute_input": "2022-02-13T16:02:54.566446Z",
     "iopub.status.busy": "2022-02-13T16:02:54.565328Z",
     "iopub.status.idle": "2022-02-13T16:02:54.663864Z",
     "shell.execute_reply": "2022-02-13T16:02:54.664458Z",
     "shell.execute_reply.started": "2022-02-13T15:48:40.319816Z"
    },
    "papermill": {
     "duration": 0.188634,
     "end_time": "2022-02-13T16:02:54.664663",
     "exception": false,
     "start_time": "2022-02-13T16:02:54.476029",
     "status": "completed"
    },
    "tags": []
   },
   "outputs": [
    {
     "name": "stdout",
     "output_type": "stream",
     "text": [
      "<class 'pandas.core.frame.DataFrame'>\n",
      "RangeIndex: 1459 entries, 0 to 1458\n",
      "Data columns (total 73 columns):\n",
      " #   Column         Non-Null Count  Dtype  \n",
      "---  ------         --------------  -----  \n",
      " 0   MSSubClass     1459 non-null   int64  \n",
      " 1   MSZoning       1459 non-null   int32  \n",
      " 2   LotArea        1459 non-null   int64  \n",
      " 3   Street         1459 non-null   int32  \n",
      " 4   LotShape       1459 non-null   int32  \n",
      " 5   LandContour    1459 non-null   int32  \n",
      " 6   Utilities      1459 non-null   int32  \n",
      " 7   LotConfig      1459 non-null   int32  \n",
      " 8   LandSlope      1459 non-null   int32  \n",
      " 9   Neighborhood   1459 non-null   int32  \n",
      " 10  Condition1     1459 non-null   int32  \n",
      " 11  Condition2     1459 non-null   int32  \n",
      " 12  BldgType       1459 non-null   int32  \n",
      " 13  HouseStyle     1459 non-null   int32  \n",
      " 14  OverallQual    1459 non-null   int64  \n",
      " 15  OverallCond    1459 non-null   int64  \n",
      " 16  YearBuilt      1459 non-null   int64  \n",
      " 17  YearRemodAdd   1459 non-null   int64  \n",
      " 18  RoofStyle      1459 non-null   int32  \n",
      " 19  RoofMatl       1459 non-null   int32  \n",
      " 20  Exterior1st    1459 non-null   int32  \n",
      " 21  Exterior2nd    1459 non-null   int32  \n",
      " 22  MasVnrType     1459 non-null   int32  \n",
      " 23  MasVnrArea     1459 non-null   float64\n",
      " 24  ExterQual      1459 non-null   int32  \n",
      " 25  ExterCond      1459 non-null   int32  \n",
      " 26  Foundation     1459 non-null   int32  \n",
      " 27  BsmtQual       1459 non-null   int32  \n",
      " 28  BsmtCond       1459 non-null   int32  \n",
      " 29  BsmtExposure   1459 non-null   int32  \n",
      " 30  BsmtFinType1   1459 non-null   int32  \n",
      " 31  BsmtFinSF1     1458 non-null   float64\n",
      " 32  BsmtFinType2   1459 non-null   int32  \n",
      " 33  BsmtFinSF2     1458 non-null   float64\n",
      " 34  BsmtUnfSF      1458 non-null   float64\n",
      " 35  TotalBsmtSF    1458 non-null   float64\n",
      " 36  Heating        1459 non-null   int32  \n",
      " 37  HeatingQC      1459 non-null   int32  \n",
      " 38  CentralAir     1459 non-null   int32  \n",
      " 39  Electrical     1459 non-null   int32  \n",
      " 40  1stFlrSF       1459 non-null   int64  \n",
      " 41  2ndFlrSF       1459 non-null   int64  \n",
      " 42  LowQualFinSF   1459 non-null   int64  \n",
      " 43  GrLivArea      1459 non-null   int64  \n",
      " 44  BsmtFullBath   1457 non-null   float64\n",
      " 45  BsmtHalfBath   1457 non-null   float64\n",
      " 46  FullBath       1459 non-null   int64  \n",
      " 47  HalfBath       1459 non-null   int64  \n",
      " 48  BedroomAbvGr   1459 non-null   int64  \n",
      " 49  KitchenAbvGr   1459 non-null   int64  \n",
      " 50  KitchenQual    1459 non-null   int32  \n",
      " 51  TotRmsAbvGrd   1459 non-null   int64  \n",
      " 52  Functional     1459 non-null   int32  \n",
      " 53  Fireplaces     1459 non-null   int64  \n",
      " 54  GarageType     1459 non-null   int32  \n",
      " 55  GarageYrBlt    1459 non-null   float64\n",
      " 56  GarageFinish   1459 non-null   int32  \n",
      " 57  GarageCars     1459 non-null   float64\n",
      " 58  GarageArea     1458 non-null   float64\n",
      " 59  GarageQual     1459 non-null   int32  \n",
      " 60  GarageCond     1459 non-null   int32  \n",
      " 61  PavedDrive     1459 non-null   int32  \n",
      " 62  WoodDeckSF     1459 non-null   int64  \n",
      " 63  OpenPorchSF    1459 non-null   int64  \n",
      " 64  EnclosedPorch  1459 non-null   int64  \n",
      " 65  3SsnPorch      1459 non-null   int64  \n",
      " 66  ScreenPorch    1459 non-null   int64  \n",
      " 67  PoolArea       1459 non-null   int64  \n",
      " 68  MiscVal        1459 non-null   int64  \n",
      " 69  MoSold         1459 non-null   int64  \n",
      " 70  YrSold         1459 non-null   int64  \n",
      " 71  SaleType       1459 non-null   int32  \n",
      " 72  SaleCondition  1459 non-null   int32  \n",
      "dtypes: float64(10), int32(38), int64(25)\n",
      "memory usage: 615.6 KB\n"
     ]
    }
   ],
   "source": [
    "test_copy = test_data.copy()\n",
    "categorical_data = [features for features in test_copy.columns if test_copy[features].dtype == 'O']\n",
    "    \n",
    "for c in categorical_data:\n",
    "    label_encoder = LabelEncoder() \n",
    "    label_encoder.fit(list(test_copy[c].values)) \n",
    "    test_copy[c] = label_encoder.transform(list(test_copy[c].values))\n",
    "    \n",
    "test_data=test_copy.copy()\n",
    "test_data.info()"
   ]
  },
  {
   "cell_type": "code",
   "execution_count": 38,
   "id": "6d4b6353",
   "metadata": {
    "execution": {
     "iopub.execute_input": "2022-02-13T16:02:54.835735Z",
     "iopub.status.busy": "2022-02-13T16:02:54.834983Z",
     "iopub.status.idle": "2022-02-13T16:02:54.895477Z",
     "shell.execute_reply": "2022-02-13T16:02:54.896270Z",
     "shell.execute_reply.started": "2022-02-13T15:48:40.407803Z"
    },
    "papermill": {
     "duration": 0.147929,
     "end_time": "2022-02-13T16:02:54.896551",
     "exception": false,
     "start_time": "2022-02-13T16:02:54.748622",
     "status": "completed"
    },
    "tags": []
   },
   "outputs": [
    {
     "name": "stdout",
     "output_type": "stream",
     "text": [
      "[[0.07600205 0.05305707 0.29885535 ... 0.31081621 0.20817739 0.40503938]\n",
      " [0.87165116 0.05305707 0.03624798 ... 0.31081621 0.20817739 0.042226  ]\n",
      " [0.07600205 0.05305707 0.3405365  ... 0.31081621 0.20817739 0.60660237]\n",
      " ...\n",
      " [0.87165116 0.05305707 0.7801184  ... 0.31081621 0.20817739 0.42519568]\n",
      " [0.31291536 0.05305707 0.16366965 ... 0.31081621 0.20817739 1.18441628]\n",
      " [0.87165116 0.05305707 0.00953054 ... 0.31081621 0.20817739 0.48687685]]\n"
     ]
    }
   ],
   "source": [
    "z = np.abs(stats.zscore(train_data))\n",
    "u = np.abs(stats.zscore(test_data))\n",
    "print(z)"
   ]
  },
  {
   "cell_type": "code",
   "execution_count": null,
   "id": "6985f95f",
   "metadata": {
    "execution": {
     "iopub.execute_input": "2022-02-13T16:02:55.064502Z",
     "iopub.status.busy": "2022-02-13T16:02:55.063660Z",
     "iopub.status.idle": "2022-02-13T16:02:55.066123Z",
     "shell.execute_reply": "2022-02-13T16:02:55.065590Z",
     "shell.execute_reply.started": "2022-02-13T15:48:40.467724Z"
    },
    "papermill": {
     "duration": 0.087861,
     "end_time": "2022-02-13T16:02:55.066265",
     "exception": false,
     "start_time": "2022-02-13T16:02:54.978404",
     "status": "completed"
    },
    "tags": []
   },
   "outputs": [],
   "source": [
    "#train_data_o = train_data[(z < 6).all(axis=1)]\n",
    "#test_data_o = test_data[(z < 6).all(axis=1)]\n",
    "#train_data_o.shape"
   ]
  },
  {
   "cell_type": "code",
   "execution_count": null,
   "id": "b85c5d0a",
   "metadata": {
    "execution": {
     "iopub.execute_input": "2022-02-13T16:02:55.236028Z",
     "iopub.status.busy": "2022-02-13T16:02:55.235124Z",
     "iopub.status.idle": "2022-02-13T16:02:55.238161Z",
     "shell.execute_reply": "2022-02-13T16:02:55.238695Z",
     "shell.execute_reply.started": "2022-02-13T15:48:40.473200Z"
    },
    "papermill": {
     "duration": 0.092061,
     "end_time": "2022-02-13T16:02:55.238878",
     "exception": false,
     "start_time": "2022-02-13T16:02:55.146817",
     "status": "completed"
    },
    "tags": []
   },
   "outputs": [],
   "source": [
    "test_data.shape"
   ]
  },
  {
   "cell_type": "markdown",
   "id": "a746894d",
   "metadata": {
    "papermill": {
     "duration": 0.08095,
     "end_time": "2022-02-13T16:02:55.403949",
     "exception": false,
     "start_time": "2022-02-13T16:02:55.322999",
     "status": "completed"
    },
    "tags": []
   },
   "source": [
    "# **Checking the Four Assumptions**\n",
    "*Before moving on to building the regression model, we must test the assumptions underlying the statistical bases for multivariate analysis.*\n",
    "\n",
    "1. Correlation (interdependence of variable quantities)\n",
    "\n",
    "Multicollinearity occurs when independent variables in a regression model are correlated. This correlation is a problem because independent variables should be independent. If the degree of correlation between variables is high enough, it can cause problems when you fit the model and interpret the results.\n",
    "\n"
   ]
  },
  {
   "cell_type": "code",
   "execution_count": null,
   "id": "12fc5fe2",
   "metadata": {
    "execution": {
     "iopub.execute_input": "2022-02-13T16:02:55.571065Z",
     "iopub.status.busy": "2022-02-13T16:02:55.570242Z",
     "iopub.status.idle": "2022-02-13T16:02:57.679102Z",
     "shell.execute_reply": "2022-02-13T16:02:57.678568Z",
     "shell.execute_reply.started": "2022-02-13T15:48:40.495920Z"
    },
    "papermill": {
     "duration": 2.193996,
     "end_time": "2022-02-13T16:02:57.679252",
     "exception": false,
     "start_time": "2022-02-13T16:02:55.485256",
     "status": "completed"
    },
    "tags": []
   },
   "outputs": [],
   "source": [
    "plt.figure(figsize=(30, 12))\n",
    "# define the mask to set the values in the upper triangle to True\n",
    "mask = np.triu(np.ones_like(train_data.corr(), dtype=np.bool))\n",
    "heatmap = sns.heatmap(train_data.corr(), mask=mask, vmin=-1, vmax=1, cmap='BrBG')\n",
    "heatmap.set_title('Triangle Correlation Heatmap', fontdict={'fontsize':22}, pad=16);"
   ]
  },
  {
   "cell_type": "markdown",
   "id": "ff7c8827",
   "metadata": {
    "papermill": {
     "duration": 0.08758,
     "end_time": "2022-02-13T16:02:57.854615",
     "exception": false,
     "start_time": "2022-02-13T16:02:57.767035",
     "status": "completed"
    },
    "tags": []
   },
   "source": [
    "* With the large feature types it is difficult to guage clearly tthe correlation of individual feature to target feature\n",
    "* filter out high correlated value using function"
   ]
  },
  {
   "cell_type": "code",
   "execution_count": null,
   "id": "dc185511",
   "metadata": {
    "execution": {
     "iopub.execute_input": "2022-02-13T16:02:58.039314Z",
     "iopub.status.busy": "2022-02-13T16:02:58.038633Z",
     "iopub.status.idle": "2022-02-13T16:02:58.074738Z",
     "shell.execute_reply": "2022-02-13T16:02:58.075282Z",
     "shell.execute_reply.started": "2022-02-13T15:48:42.321621Z"
    },
    "papermill": {
     "duration": 0.132051,
     "end_time": "2022-02-13T16:02:58.075483",
     "exception": false,
     "start_time": "2022-02-13T16:02:57.943432",
     "status": "completed"
    },
    "tags": []
   },
   "outputs": [],
   "source": [
    "def getCorrelatedFeature(corrdata, threshold):\n",
    "    feature = []\n",
    "    value = []\n",
    "    for i , index in enumerate(corrdata.index):\n",
    "        if abs(corrdata[index]) > threshold:\n",
    "            feature.append(index)\n",
    "            value.append(corrdata[index])\n",
    "    df2 = pd.DataFrame(data = value, index=feature, columns=['corr value'] )\n",
    "    return df2\n",
    "correlate = train_data.corr()\n",
    "corr_df = getCorrelatedFeature(correlate['SalePrice'], 0.3)\n",
    "corr_df.sort_values(by=['corr value'],ascending=False)"
   ]
  },
  {
   "cell_type": "markdown",
   "id": "9a60841c",
   "metadata": {
    "papermill": {
     "duration": 0.089823,
     "end_time": "2022-02-13T16:02:58.255340",
     "exception": false,
     "start_time": "2022-02-13T16:02:58.165517",
     "status": "completed"
    },
    "tags": []
   },
   "source": [
    "2. Linearity\n",
    "The most common way to assess linearity is to examine scatter plots and search for linear patterns. If you fit a linear model to a non-linear, non-additive data set, the regression algorithm would fail to capture the trend mathematically, resulting in a poor model performance.\n"
   ]
  },
  {
   "cell_type": "markdown",
   "id": "60d005eb",
   "metadata": {
    "papermill": {
     "duration": 0.086648,
     "end_time": "2022-02-13T16:02:58.431324",
     "exception": false,
     "start_time": "2022-02-13T16:02:58.344676",
     "status": "completed"
    },
    "tags": []
   },
   "source": [
    "3. Homoscedasticity\n",
    "Homoscedasticity refers to the assumption that dependent variable(s) exhibit equal, constant levels of variance across the range of predictor variable(s)."
   ]
  },
  {
   "cell_type": "markdown",
   "id": "271e1d7c",
   "metadata": {
    "papermill": {
     "duration": 0.088329,
     "end_time": "2022-02-13T16:02:58.607784",
     "exception": false,
     "start_time": "2022-02-13T16:02:58.519455",
     "status": "completed"
    },
    "tags": []
   },
   "source": [
    "4. Normality of Errors\n",
    "The data should look like a normal distribution. Several statistic tests, like the t-tests, z-test rely on the normal distribution of error terms."
   ]
  },
  {
   "cell_type": "code",
   "execution_count": null,
   "id": "00d220f6",
   "metadata": {
    "execution": {
     "iopub.execute_input": "2022-02-13T16:02:58.785911Z",
     "iopub.status.busy": "2022-02-13T16:02:58.785128Z",
     "iopub.status.idle": "2022-02-13T16:02:59.242695Z",
     "shell.execute_reply": "2022-02-13T16:02:59.243210Z",
     "shell.execute_reply.started": "2022-02-13T15:48:42.351681Z"
    },
    "papermill": {
     "duration": 0.548569,
     "end_time": "2022-02-13T16:02:59.243411",
     "exception": false,
     "start_time": "2022-02-13T16:02:58.694842",
     "status": "completed"
    },
    "tags": []
   },
   "outputs": [],
   "source": [
    "print(\"Skewness: %f\" % train_data['SalePrice'].skew())\n",
    "print(\"Kurtosis: %f\" % train_data['SalePrice'].kurt())\n",
    "print()\n",
    "fig, ax = plt.subplots(1,2, figsize=(16,4))\n",
    "sns.distplot(train_data['SalePrice'] , fit=norm, ax=ax[0])\n",
    "#Get also the QQ-plot\n",
    "res = stats.probplot(train_data['SalePrice'],plot=ax[1])\n",
    "plt.show()"
   ]
  },
  {
   "cell_type": "markdown",
   "id": "4c4b1935",
   "metadata": {
    "papermill": {
     "duration": 0.09006,
     "end_time": "2022-02-13T16:02:59.424774",
     "exception": false,
     "start_time": "2022-02-13T16:02:59.334714",
     "status": "completed"
    },
    "tags": []
   },
   "source": [
    "The figures show that the target variable has peakedness, and the QQ plot shows that the target variable \"SalePrice\" has right (positive) skewness.\n",
    "\n",
    "We will apply log transformation to make the variables normally distributed, i.e, achieve normality of errors."
   ]
  },
  {
   "cell_type": "code",
   "execution_count": null,
   "id": "e2fdc63b",
   "metadata": {
    "execution": {
     "iopub.execute_input": "2022-02-13T16:02:59.612585Z",
     "iopub.status.busy": "2022-02-13T16:02:59.611873Z",
     "iopub.status.idle": "2022-02-13T16:02:59.615247Z",
     "shell.execute_reply": "2022-02-13T16:02:59.615850Z",
     "shell.execute_reply.started": "2022-02-13T15:48:42.703545Z"
    },
    "papermill": {
     "duration": 0.100473,
     "end_time": "2022-02-13T16:02:59.616043",
     "exception": false,
     "start_time": "2022-02-13T16:02:59.515570",
     "status": "completed"
    },
    "tags": []
   },
   "outputs": [],
   "source": [
    "train_data['SalePrice'] = np.log(train_data['SalePrice'])"
   ]
  },
  {
   "cell_type": "code",
   "execution_count": null,
   "id": "6096199d",
   "metadata": {
    "execution": {
     "iopub.execute_input": "2022-02-13T16:02:59.802234Z",
     "iopub.status.busy": "2022-02-13T16:02:59.801514Z",
     "iopub.status.idle": "2022-02-13T16:03:00.404094Z",
     "shell.execute_reply": "2022-02-13T16:03:00.404643Z",
     "shell.execute_reply.started": "2022-02-13T15:48:42.711596Z"
    },
    "papermill": {
     "duration": 0.696195,
     "end_time": "2022-02-13T16:03:00.404827",
     "exception": false,
     "start_time": "2022-02-13T16:02:59.708632",
     "status": "completed"
    },
    "tags": []
   },
   "outputs": [],
   "source": [
    "print(\"Skewness: %f\" % train_data['SalePrice'].skew())\n",
    "print(\"Kurtosis: %f\" % train_data['SalePrice'].kurt())\n",
    "print()\n",
    "fig, ax = plt.subplots(1,2, figsize=(12,4))\n",
    "sns.distplot(train_data['SalePrice'] , fit=norm, ax=ax[0])\n",
    "#Get also the QQ-plot\n",
    "res = stats.probplot(train_data['SalePrice'],plot=ax[1])\n",
    "plt.show()"
   ]
  },
  {
   "cell_type": "markdown",
   "id": "131c2508",
   "metadata": {
    "papermill": {
     "duration": 0.092373,
     "end_time": "2022-02-13T16:03:00.589465",
     "exception": false,
     "start_time": "2022-02-13T16:03:00.497092",
     "status": "completed"
    },
    "tags": []
   },
   "source": [
    "The heteroscedasticity has been removed now, owing to the log transformation that we put 'Saleprice' through.\n",
    "\n",
    "Note : Heteroscedasticity where the spread is close to proportional to the conditional mean will tend to be improved by taking log(y), but if it's not increasing with the mean at close to that rate (or more), then the heteroscedasticity will often be made worse by that transformation."
   ]
  },
  {
   "cell_type": "markdown",
   "id": "be1432d6",
   "metadata": {
    "papermill": {
     "duration": 0.092299,
     "end_time": "2022-02-13T16:03:00.774780",
     "exception": false,
     "start_time": "2022-02-13T16:03:00.682481",
     "status": "completed"
    },
    "tags": []
   },
   "source": [
    "Box-Cox Transformation\n",
    "We will now apply box-cox transformation on the training data so as to normalize our training attributes as well."
   ]
  },
  {
   "cell_type": "code",
   "execution_count": null,
   "id": "a4aa1d39",
   "metadata": {
    "execution": {
     "iopub.execute_input": "2022-02-13T16:03:00.964696Z",
     "iopub.status.busy": "2022-02-13T16:03:00.963640Z",
     "iopub.status.idle": "2022-02-13T16:03:00.975532Z",
     "shell.execute_reply": "2022-02-13T16:03:00.976020Z",
     "shell.execute_reply.started": "2022-02-13T15:48:43.067582Z"
    },
    "papermill": {
     "duration": 0.109288,
     "end_time": "2022-02-13T16:03:00.976207",
     "exception": false,
     "start_time": "2022-02-13T16:03:00.866919",
     "status": "completed"
    },
    "tags": []
   },
   "outputs": [],
   "source": [
    "\n",
    "combined_data = pd.concat([train_data, test_data],axis = 0)\n",
    "combined_data.drop(['SalePrice'],axis = 1, inplace = True)"
   ]
  },
  {
   "cell_type": "markdown",
   "id": "3f9e55c7",
   "metadata": {
    "papermill": {
     "duration": 0.096669,
     "end_time": "2022-02-13T16:03:01.166719",
     "exception": false,
     "start_time": "2022-02-13T16:03:01.070050",
     "status": "completed"
    },
    "tags": []
   },
   "source": [
    "# Box-Cox Transformation\n",
    "**We will now apply box-cox transformation on the training data so as to normalize our training attributes as well.**"
   ]
  },
  {
   "cell_type": "code",
   "execution_count": null,
   "id": "d5890745",
   "metadata": {
    "execution": {
     "iopub.execute_input": "2022-02-13T16:03:01.359065Z",
     "iopub.status.busy": "2022-02-13T16:03:01.357939Z",
     "iopub.status.idle": "2022-02-13T16:03:01.395800Z",
     "shell.execute_reply": "2022-02-13T16:03:01.396309Z",
     "shell.execute_reply.started": "2022-02-13T15:48:43.081202Z"
    },
    "papermill": {
     "duration": 0.133631,
     "end_time": "2022-02-13T16:03:01.396514",
     "exception": false,
     "start_time": "2022-02-13T16:03:01.262883",
     "status": "completed"
    },
    "tags": []
   },
   "outputs": [],
   "source": [
    "#Box-cox transformation on training_data and test_data\n",
    "\n",
    "numeric_feats =combined_data.dtypes[combined_data.dtypes != \"object\"].index\n",
    "\n",
    "# Check the skew of all numerical features\n",
    "skewed_feats = combined_data[numeric_feats].apply(lambda x: skew(x.dropna())).sort_values(ascending=False)\n",
    "print(\"\\nSkew in numerical features: \\n\")\n",
    "skewness = pd.DataFrame({'Skew' :skewed_feats})\n",
    "skewness.head(10)"
   ]
  },
  {
   "cell_type": "code",
   "execution_count": null,
   "id": "b69301c9",
   "metadata": {
    "execution": {
     "iopub.execute_input": "2022-02-13T16:03:01.591279Z",
     "iopub.status.busy": "2022-02-13T16:03:01.590571Z",
     "iopub.status.idle": "2022-02-13T16:03:01.592441Z",
     "shell.execute_reply": "2022-02-13T16:03:01.592949Z",
     "shell.execute_reply.started": "2022-02-13T15:48:43.126539Z"
    },
    "papermill": {
     "duration": 0.100508,
     "end_time": "2022-02-13T16:03:01.593127",
     "exception": false,
     "start_time": "2022-02-13T16:03:01.492619",
     "status": "completed"
    },
    "tags": []
   },
   "outputs": [],
   "source": [
    "#skewness = skewness[abs(skewness) > 0.75]\n",
    "\n",
    "#from scipy.special import boxcox1p\n",
    "#skewed_features = skewness.index\n",
    "#lambda_value = 0.15\n",
    "#for feat in skewed_features:\n",
    " #   combined_data[feat] = boxcox1p(combined_data[feat], lambda_value)"
   ]
  },
  {
   "cell_type": "code",
   "execution_count": null,
   "id": "de8ee067",
   "metadata": {
    "execution": {
     "iopub.execute_input": "2022-02-13T16:03:01.785168Z",
     "iopub.status.busy": "2022-02-13T16:03:01.784472Z",
     "iopub.status.idle": "2022-02-13T16:03:01.813785Z",
     "shell.execute_reply": "2022-02-13T16:03:01.814568Z",
     "shell.execute_reply.started": "2022-02-13T15:48:43.134132Z"
    },
    "papermill": {
     "duration": 0.12791,
     "end_time": "2022-02-13T16:03:01.814774",
     "exception": false,
     "start_time": "2022-02-13T16:03:01.686864",
     "status": "completed"
    },
    "tags": []
   },
   "outputs": [],
   "source": [
    "numeric_feats =test_data.dtypes[test_data.dtypes != \"object\"].index\n",
    "\n",
    "# Check the skew of all numerical features\n",
    "skewed_feats = test_data[numeric_feats].apply(lambda x: skew(x.dropna())).sort_values(ascending=False)\n",
    "skewness = pd.DataFrame({'Skew' :skewed_feats})\n",
    "skewness = skewness[abs(skewness) > 0.75]\n",
    "\n",
    "#skewed_features = skewness.index\n",
    "#lambda_value = 0.15\n",
    "#for feat in skewed_features:\n",
    "#    test_data[feat] = boxcox1p(test_data[feat], lambda_value)"
   ]
  },
  {
   "cell_type": "markdown",
   "id": "2bd136a6",
   "metadata": {
    "papermill": {
     "duration": 0.09372,
     "end_time": "2022-02-13T16:03:02.001381",
     "exception": false,
     "start_time": "2022-02-13T16:03:01.907661",
     "status": "completed"
    },
    "tags": []
   },
   "source": [
    "# Feature Selection"
   ]
  },
  {
   "cell_type": "code",
   "execution_count": null,
   "id": "a8883bec",
   "metadata": {
    "execution": {
     "iopub.execute_input": "2022-02-13T16:03:02.194387Z",
     "iopub.status.busy": "2022-02-13T16:03:02.193645Z",
     "iopub.status.idle": "2022-02-13T16:03:02.420235Z",
     "shell.execute_reply": "2022-02-13T16:03:02.420826Z",
     "shell.execute_reply.started": "2022-02-13T15:48:43.185689Z"
    },
    "papermill": {
     "duration": 0.32445,
     "end_time": "2022-02-13T16:03:02.421042",
     "exception": false,
     "start_time": "2022-02-13T16:03:02.096592",
     "status": "completed"
    },
    "tags": []
   },
   "outputs": [],
   "source": [
    "from sklearn.feature_selection import SelectFromModel\n",
    "from sklearn.linear_model import Lasso\n",
    "\n",
    "#final_data=train_data_o.copy()\n",
    "#final_data.drop(['SalePrice'],axis=1)\n",
    "#X_train=final_data\n",
    "#X_train= X_train.drop(['SalePrice'],axis=1)\n",
    "#y_train=train_data_o['SalePrice'].values\n",
    "\n",
    "#feature_sel_model = SelectFromModel(Lasso(alpha=0.015,random_state=0))\n",
    "#feature_sel_model.fit(X_train,y_train)\n",
    "#feature_sel_model.get_support()\n",
    "\n",
    "#total_selected=X_train.columns[(feature_sel_model.get_support())]\n",
    "#len(total_selected)\n",
    "#X_train = X_train[total_selected]\n",
    "#X_test=test_data_o[total_selected]"
   ]
  },
  {
   "cell_type": "code",
   "execution_count": null,
   "id": "5d3ed8af",
   "metadata": {
    "execution": {
     "iopub.execute_input": "2022-02-13T16:03:02.613061Z",
     "iopub.status.busy": "2022-02-13T16:03:02.612342Z",
     "iopub.status.idle": "2022-02-13T16:03:02.620109Z",
     "shell.execute_reply": "2022-02-13T16:03:02.620610Z",
     "shell.execute_reply.started": "2022-02-13T15:48:43.199845Z"
    },
    "papermill": {
     "duration": 0.105134,
     "end_time": "2022-02-13T16:03:02.620805",
     "exception": false,
     "start_time": "2022-02-13T16:03:02.515671",
     "status": "completed"
    },
    "tags": []
   },
   "outputs": [],
   "source": [
    "final_data=train_data.copy()\n",
    "final_data.drop(['SalePrice'],axis=1)\n",
    "X_train=final_data\n",
    "X_train= X_train.drop(['SalePrice'],axis=1)\n",
    "y_train=train_data['SalePrice'].values\n",
    "X_test=test_data"
   ]
  },
  {
   "cell_type": "markdown",
   "id": "b491f9b8",
   "metadata": {
    "papermill": {
     "duration": 0.095952,
     "end_time": "2022-02-13T16:03:02.809032",
     "exception": false,
     "start_time": "2022-02-13T16:03:02.713080",
     "status": "completed"
    },
    "tags": []
   },
   "source": [
    "# Building Model"
   ]
  },
  {
   "cell_type": "code",
   "execution_count": null,
   "id": "23e3869b",
   "metadata": {
    "execution": {
     "iopub.execute_input": "2022-02-13T16:03:03.003964Z",
     "iopub.status.busy": "2022-02-13T16:03:02.999385Z",
     "iopub.status.idle": "2022-02-13T16:03:03.007672Z",
     "shell.execute_reply": "2022-02-13T16:03:03.007050Z",
     "shell.execute_reply.started": "2022-02-13T15:48:43.225758Z"
    },
    "papermill": {
     "duration": 0.105104,
     "end_time": "2022-02-13T16:03:03.007840",
     "exception": false,
     "start_time": "2022-02-13T16:03:02.902736",
     "status": "completed"
    },
    "tags": []
   },
   "outputs": [],
   "source": [
    "from sklearn.model_selection import KFold,cross_val_score\n",
    "from sklearn.metrics import make_scorer,r2_score\n",
    "from sklearn.metrics import mean_squared_error\n",
    "\n",
    "def test_model(model, X_train=X_train, y_train=y_train):\n",
    "    cv = KFold(n_splits=7,shuffle=True,random_state=42)\n",
    "    r2 = make_scorer(r2_score)\n",
    "    r2_val_score = cross_val_score(model,X_train,y_train,cv=cv,scoring=r2)\n",
    "    score = [r2_val_score.mean()]\n",
    "    return score"
   ]
  },
  {
   "cell_type": "code",
   "execution_count": null,
   "id": "f69fe377",
   "metadata": {
    "execution": {
     "iopub.execute_input": "2022-02-13T16:03:03.200492Z",
     "iopub.status.busy": "2022-02-13T16:03:03.199765Z",
     "iopub.status.idle": "2022-02-13T16:03:03.203136Z",
     "shell.execute_reply": "2022-02-13T16:03:03.203725Z",
     "shell.execute_reply.started": "2022-02-13T15:48:43.249198Z"
    },
    "papermill": {
     "duration": 0.101661,
     "end_time": "2022-02-13T16:03:03.203930",
     "exception": false,
     "start_time": "2022-02-13T16:03:03.102269",
     "status": "completed"
    },
    "tags": []
   },
   "outputs": [],
   "source": [
    "X_test.shape"
   ]
  },
  {
   "cell_type": "code",
   "execution_count": null,
   "id": "ef16cabd",
   "metadata": {
    "execution": {
     "iopub.execute_input": "2022-02-13T16:03:03.396837Z",
     "iopub.status.busy": "2022-02-13T16:03:03.396143Z",
     "iopub.status.idle": "2022-02-13T16:03:03.401030Z",
     "shell.execute_reply": "2022-02-13T16:03:03.401672Z",
     "shell.execute_reply.started": "2022-02-13T15:48:43.279312Z"
    },
    "papermill": {
     "duration": 0.103345,
     "end_time": "2022-02-13T16:03:03.401856",
     "exception": false,
     "start_time": "2022-02-13T16:03:03.298511",
     "status": "completed"
    },
    "tags": []
   },
   "outputs": [],
   "source": [
    "X_train.shape"
   ]
  },
  {
   "cell_type": "markdown",
   "id": "6c5addc5",
   "metadata": {
    "papermill": {
     "duration": 0.093535,
     "end_time": "2022-02-13T16:03:03.589808",
     "exception": false,
     "start_time": "2022-02-13T16:03:03.496273",
     "status": "completed"
    },
    "tags": []
   },
   "source": [
    "**Linear Regression**"
   ]
  },
  {
   "cell_type": "code",
   "execution_count": null,
   "id": "289d42b5",
   "metadata": {
    "execution": {
     "iopub.execute_input": "2022-02-13T16:03:03.781445Z",
     "iopub.status.busy": "2022-02-13T16:03:03.780710Z",
     "iopub.status.idle": "2022-02-13T16:03:03.936220Z",
     "shell.execute_reply": "2022-02-13T16:03:03.937204Z",
     "shell.execute_reply.started": "2022-02-13T15:56:02.911177Z"
    },
    "papermill": {
     "duration": 0.253786,
     "end_time": "2022-02-13T16:03:03.937534",
     "exception": false,
     "start_time": "2022-02-13T16:03:03.683748",
     "status": "completed"
    },
    "tags": []
   },
   "outputs": [],
   "source": [
    "from sklearn.linear_model import LinearRegression, Ridge\n",
    "LR = LinearRegression(normalize=True, n_jobs=-1)\n",
    "LR.fit(X_train,y_train)\n",
    "test_model(LR)"
   ]
  },
  {
   "cell_type": "markdown",
   "id": "b1a5865e",
   "metadata": {
    "papermill": {
     "duration": 0.094939,
     "end_time": "2022-02-13T16:03:04.184721",
     "exception": false,
     "start_time": "2022-02-13T16:03:04.089782",
     "status": "completed"
    },
    "tags": []
   },
   "source": [
    "**Ridge Regression**"
   ]
  },
  {
   "cell_type": "code",
   "execution_count": null,
   "id": "580bc734",
   "metadata": {
    "execution": {
     "iopub.execute_input": "2022-02-13T16:03:04.386894Z",
     "iopub.status.busy": "2022-02-13T16:03:04.386041Z",
     "iopub.status.idle": "2022-02-13T16:03:04.500239Z",
     "shell.execute_reply": "2022-02-13T16:03:04.501105Z",
     "shell.execute_reply.started": "2022-02-13T15:56:26.083282Z"
    },
    "papermill": {
     "duration": 0.216908,
     "end_time": "2022-02-13T16:03:04.501423",
     "exception": false,
     "start_time": "2022-02-13T16:03:04.284515",
     "status": "completed"
    },
    "tags": []
   },
   "outputs": [],
   "source": [
    "RidR = Ridge(alpha = 0.5, normalize=True)\n",
    "RidR.fit(X_train,y_train)\n",
    "test_model(RidR)"
   ]
  },
  {
   "cell_type": "markdown",
   "id": "db49c9fb",
   "metadata": {
    "papermill": {
     "duration": 0.096187,
     "end_time": "2022-02-13T16:03:04.747741",
     "exception": false,
     "start_time": "2022-02-13T16:03:04.651554",
     "status": "completed"
    },
    "tags": []
   },
   "source": [
    "**Lasso Regression**"
   ]
  },
  {
   "cell_type": "code",
   "execution_count": null,
   "id": "22bec496",
   "metadata": {
    "execution": {
     "iopub.execute_input": "2022-02-13T16:03:04.947343Z",
     "iopub.status.busy": "2022-02-13T16:03:04.946404Z",
     "iopub.status.idle": "2022-02-13T16:03:05.078989Z",
     "shell.execute_reply": "2022-02-13T16:03:05.080178Z",
     "shell.execute_reply.started": "2022-02-13T15:48:43.495779Z"
    },
    "papermill": {
     "duration": 0.237057,
     "end_time": "2022-02-13T16:03:05.080514",
     "exception": false,
     "start_time": "2022-02-13T16:03:04.843457",
     "status": "completed"
    },
    "tags": []
   },
   "outputs": [],
   "source": [
    "LasR = Lasso(alpha = 0.001, normalize=True)\n",
    "LasR.fit(X_train,y_train)\n",
    "test_model(LasR)"
   ]
  },
  {
   "cell_type": "markdown",
   "id": "11a385b9",
   "metadata": {
    "papermill": {
     "duration": 0.09551,
     "end_time": "2022-02-13T16:03:05.325570",
     "exception": false,
     "start_time": "2022-02-13T16:03:05.230060",
     "status": "completed"
    },
    "tags": []
   },
   "source": [
    "**Decision Tree**"
   ]
  },
  {
   "cell_type": "code",
   "execution_count": null,
   "id": "e61727be",
   "metadata": {
    "execution": {
     "iopub.execute_input": "2022-02-13T16:03:05.522024Z",
     "iopub.status.busy": "2022-02-13T16:03:05.520996Z",
     "iopub.status.idle": "2022-02-13T16:03:05.757506Z",
     "shell.execute_reply": "2022-02-13T16:03:05.756518Z",
     "shell.execute_reply.started": "2022-02-13T15:57:14.515230Z"
    },
    "papermill": {
     "duration": 0.337523,
     "end_time": "2022-02-13T16:03:05.757674",
     "exception": false,
     "start_time": "2022-02-13T16:03:05.420151",
     "status": "completed"
    },
    "tags": []
   },
   "outputs": [],
   "source": [
    "from sklearn.tree import DecisionTreeRegressor\n",
    "\n",
    "DTree = DecisionTreeRegressor(max_depth=8)\n",
    "DTree.fit(X_train,y_train)\n",
    "test_model(DTree)"
   ]
  },
  {
   "cell_type": "markdown",
   "id": "b925cf9b",
   "metadata": {
    "papermill": {
     "duration": 0.103176,
     "end_time": "2022-02-13T16:03:05.958412",
     "exception": false,
     "start_time": "2022-02-13T16:03:05.855236",
     "status": "completed"
    },
    "tags": []
   },
   "source": [
    "**Random Forest**"
   ]
  },
  {
   "cell_type": "code",
   "execution_count": null,
   "id": "6314f130",
   "metadata": {
    "execution": {
     "iopub.execute_input": "2022-02-13T16:03:06.165606Z",
     "iopub.status.busy": "2022-02-13T16:03:06.164886Z",
     "iopub.status.idle": "2022-02-13T16:03:21.892909Z",
     "shell.execute_reply": "2022-02-13T16:03:21.892321Z",
     "shell.execute_reply.started": "2022-02-13T15:57:32.894584Z"
    },
    "papermill": {
     "duration": 15.832522,
     "end_time": "2022-02-13T16:03:21.893077",
     "exception": false,
     "start_time": "2022-02-13T16:03:06.060555",
     "status": "completed"
    },
    "tags": []
   },
   "outputs": [],
   "source": [
    "from sklearn.ensemble import RandomForestRegressor\n",
    "RF = RandomForestRegressor(random_state = 42)\n",
    "RF.fit(X_train,y_train)\n",
    "test_model(RF)"
   ]
  },
  {
   "cell_type": "markdown",
   "id": "5ea3398f",
   "metadata": {
    "papermill": {
     "duration": 0.098623,
     "end_time": "2022-02-13T16:03:22.089429",
     "exception": false,
     "start_time": "2022-02-13T16:03:21.990806",
     "status": "completed"
    },
    "tags": []
   },
   "source": [
    "**Elastic Net**"
   ]
  },
  {
   "cell_type": "code",
   "execution_count": null,
   "id": "3b721391",
   "metadata": {
    "execution": {
     "iopub.execute_input": "2022-02-13T16:03:22.290454Z",
     "iopub.status.busy": "2022-02-13T16:03:22.289656Z",
     "iopub.status.idle": "2022-02-13T16:03:22.817846Z",
     "shell.execute_reply": "2022-02-13T16:03:22.818697Z",
     "shell.execute_reply.started": "2022-02-13T15:59:23.114566Z"
    },
    "papermill": {
     "duration": 0.628518,
     "end_time": "2022-02-13T16:03:22.819004",
     "exception": false,
     "start_time": "2022-02-13T16:03:22.190486",
     "status": "completed"
    },
    "tags": []
   },
   "outputs": [],
   "source": [
    "from sklearn.linear_model import ElasticNet\n",
    "from sklearn.pipeline import make_pipeline\n",
    "from sklearn.preprocessing import RobustScaler\n",
    "ENet = make_pipeline(RobustScaler(), ElasticNet(alpha=0.0005, l1_ratio=.9, random_state=3))\n",
    "test_model(ENet)"
   ]
  },
  {
   "cell_type": "markdown",
   "id": "d715b1a0",
   "metadata": {
    "papermill": {
     "duration": 0.096759,
     "end_time": "2022-02-13T16:03:23.066573",
     "exception": false,
     "start_time": "2022-02-13T16:03:22.969814",
     "status": "completed"
    },
    "tags": []
   },
   "source": [
    "**XGBoost**"
   ]
  },
  {
   "cell_type": "code",
   "execution_count": null,
   "id": "96a298ec",
   "metadata": {
    "execution": {
     "iopub.execute_input": "2022-02-13T16:03:23.269164Z",
     "iopub.status.busy": "2022-02-13T16:03:23.268491Z",
     "iopub.status.idle": "2022-02-13T16:03:27.663164Z",
     "shell.execute_reply": "2022-02-13T16:03:27.664014Z",
     "shell.execute_reply.started": "2022-02-13T15:48:56.997287Z"
    },
    "papermill": {
     "duration": 4.499074,
     "end_time": "2022-02-13T16:03:27.664290",
     "exception": false,
     "start_time": "2022-02-13T16:03:23.165216",
     "status": "completed"
    },
    "tags": []
   },
   "outputs": [],
   "source": [
    "import xgboost\n",
    "xgb = xgboost.XGBRegressor(learning_rate=0.05, max_depth=3, random_state=4)\n",
    "xgb.fit(X_train,y_train)\n",
    "test_model(xgb)"
   ]
  },
  {
   "cell_type": "markdown",
   "id": "9a1ffdc2",
   "metadata": {
    "papermill": {
     "duration": 0.104477,
     "end_time": "2022-02-13T16:03:27.883963",
     "exception": false,
     "start_time": "2022-02-13T16:03:27.779486",
     "status": "completed"
    },
    "tags": []
   },
   "source": [
    "**Support Vector Machine**"
   ]
  },
  {
   "cell_type": "code",
   "execution_count": null,
   "id": "ba1028aa",
   "metadata": {
    "execution": {
     "iopub.execute_input": "2022-02-13T16:03:28.104722Z",
     "iopub.status.busy": "2022-02-13T16:03:28.103945Z",
     "iopub.status.idle": "2022-02-13T16:03:29.171935Z",
     "shell.execute_reply": "2022-02-13T16:03:29.171329Z",
     "shell.execute_reply.started": "2022-02-13T15:59:52.404619Z"
    },
    "papermill": {
     "duration": 1.183654,
     "end_time": "2022-02-13T16:03:29.172102",
     "exception": false,
     "start_time": "2022-02-13T16:03:27.988448",
     "status": "completed"
    },
    "tags": []
   },
   "outputs": [],
   "source": [
    "from sklearn.svm import SVR\n",
    "Svm = SVR(kernel='rbf')\n",
    "test_model(Svm)"
   ]
  },
  {
   "cell_type": "markdown",
   "id": "638528d2",
   "metadata": {
    "papermill": {
     "duration": 0.096902,
     "end_time": "2022-02-13T16:03:29.368852",
     "exception": false,
     "start_time": "2022-02-13T16:03:29.271950",
     "status": "completed"
    },
    "tags": []
   },
   "source": [
    "**Light Gradient Boosting**"
   ]
  },
  {
   "cell_type": "code",
   "execution_count": null,
   "id": "5559bf72",
   "metadata": {
    "execution": {
     "iopub.execute_input": "2022-02-13T16:03:29.570373Z",
     "iopub.status.busy": "2022-02-13T16:03:29.569628Z",
     "iopub.status.idle": "2022-02-13T16:03:30.892972Z",
     "shell.execute_reply": "2022-02-13T16:03:30.893559Z",
     "shell.execute_reply.started": "2022-02-13T16:00:23.742158Z"
    },
    "papermill": {
     "duration": 1.42983,
     "end_time": "2022-02-13T16:03:30.893809",
     "exception": false,
     "start_time": "2022-02-13T16:03:29.463979",
     "status": "completed"
    },
    "tags": []
   },
   "outputs": [],
   "source": [
    "import lightgbm as lgb\n",
    "model_lgb = lgb.Dataset(X_train, y_train)\n",
    "params ={ 'objective':'regression',\n",
    "        'task': 'train',\n",
    "        'boosting_type': 'gbdt',\n",
    "        'num_leaves': 42,\n",
    "        'metric': {'15'},\n",
    "        'learning_rate': 0.1, \n",
    "        'bagging_fraction': 0.8,\n",
    "        'bagging_freq' : 5,\n",
    "        'feature_fraction':0.9, \n",
    "        'min_data_in_leaf' : 6,\n",
    "        } \n",
    "prediction = lgb.train(params, model_lgb)\n",
    "y_predict = prediction.predict(X_test)\n",
    "y_predict = np.expm1(y_predict)"
   ]
  },
  {
   "cell_type": "code",
   "execution_count": null,
   "id": "042013a1",
   "metadata": {
    "execution": {
     "iopub.execute_input": "2022-02-13T16:03:31.100907Z",
     "iopub.status.busy": "2022-02-13T16:03:31.100057Z",
     "iopub.status.idle": "2022-02-13T16:03:31.113594Z",
     "shell.execute_reply": "2022-02-13T16:03:31.114706Z",
     "shell.execute_reply.started": "2022-02-13T16:01:24.705261Z"
    },
    "papermill": {
     "duration": 0.120888,
     "end_time": "2022-02-13T16:03:31.114961",
     "exception": false,
     "start_time": "2022-02-13T16:03:30.994073",
     "status": "completed"
    },
    "tags": []
   },
   "outputs": [],
   "source": [
    "pred=np.exp(prediction.predict(X_test)).round(2)"
   ]
  },
  {
   "cell_type": "code",
   "execution_count": null,
   "id": "421a47f1",
   "metadata": {
    "execution": {
     "iopub.execute_input": "2022-02-13T16:03:31.330235Z",
     "iopub.status.busy": "2022-02-13T16:03:31.329316Z",
     "iopub.status.idle": "2022-02-13T16:03:31.334027Z",
     "shell.execute_reply": "2022-02-13T16:03:31.333286Z",
     "shell.execute_reply.started": "2022-02-13T16:01:53.524689Z"
    },
    "papermill": {
     "duration": 0.117113,
     "end_time": "2022-02-13T16:03:31.334179",
     "exception": false,
     "start_time": "2022-02-13T16:03:31.217066",
     "status": "completed"
    },
    "tags": []
   },
   "outputs": [],
   "source": [
    "submit_test = pd.concat([test_ID,pd.DataFrame(pred)],axis=1)\n",
    "submit_test.columns = ['Id','SalePrice']\n",
    "submit_test"
   ]
  },
  {
   "cell_type": "code",
   "execution_count": null,
   "id": "20ade399",
   "metadata": {
    "execution": {
     "iopub.execute_input": "2022-02-13T16:03:31.537561Z",
     "iopub.status.busy": "2022-02-13T16:03:31.536623Z",
     "iopub.status.idle": "2022-02-13T16:03:31.547682Z",
     "shell.execute_reply": "2022-02-13T16:03:31.547072Z",
     "shell.execute_reply.started": "2022-02-13T16:02:09.053081Z"
    },
    "papermill": {
     "duration": 0.114929,
     "end_time": "2022-02-13T16:03:31.547861",
     "exception": false,
     "start_time": "2022-02-13T16:03:31.432932",
     "status": "completed"
    },
    "tags": []
   },
   "outputs": [],
   "source": [
    "submit_test.to_csv('submission.csv', index=False)"
   ]
  }
 ],
 "metadata": {
  "kernelspec": {
   "display_name": "Python 3",
   "language": "python",
   "name": "python3"
  },
  "language_info": {
   "codemirror_mode": {
    "name": "ipython",
    "version": 3
   },
   "file_extension": ".py",
   "mimetype": "text/x-python",
   "name": "python",
   "nbconvert_exporter": "python",
   "pygments_lexer": "ipython3",
   "version": "3.8.8"
  },
  "papermill": {
   "default_parameters": {},
   "duration": 67.673443,
   "end_time": "2022-02-13T16:03:32.662167",
   "environment_variables": {},
   "exception": null,
   "input_path": "__notebook__.ipynb",
   "output_path": "__notebook__.ipynb",
   "parameters": {},
   "start_time": "2022-02-13T16:02:24.988724",
   "version": "2.3.3"
  }
 },
 "nbformat": 4,
 "nbformat_minor": 5
}
