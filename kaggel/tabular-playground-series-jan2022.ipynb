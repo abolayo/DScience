{
 "cells": [
  {
   "cell_type": "code",
   "execution_count": null,
   "metadata": {
    "_cell_guid": "b1076dfc-b9ad-4769-8c92-a6c4dae69d19",
    "_uuid": "8f2839f25d086af736a60e9eeb907d3b93b6e0e5",
    "execution": {
     "iopub.execute_input": "2022-01-20T19:31:31.149238Z",
     "iopub.status.busy": "2022-01-20T19:31:31.148886Z",
     "iopub.status.idle": "2022-01-20T19:31:31.165346Z",
     "shell.execute_reply": "2022-01-20T19:31:31.164343Z",
     "shell.execute_reply.started": "2022-01-20T19:31:31.149134Z"
    }
   },
   "outputs": [],
   "source": [
    "# This Python 3 environment comes with many helpful analytics libraries installed\n",
    "# It is defined by the kaggle/python Docker image: https://github.com/kaggle/docker-python\n",
    "# For example, here's several helpful packages to load\n",
    "\n",
    "import numpy as np # linear algebra\n",
    "import pandas as pd # data processing, CSV file I/O (e.g. pd.read_csv)\n",
    "\n",
    "# Input data files are available in the read-only \"../input/\" directory\n",
    "# For example, running this (by clicking run or pressing Shift+Enter) will list all files under the input directory\n",
    "\n",
    "import os\n",
    "for dirname, _, filenames in os.walk('/kaggle/input'):\n",
    "    for filename in filenames:\n",
    "        print(os.path.join(dirname, filename))\n",
    "\n",
    "# You can write up to 20GB to the current directory (/kaggle/working/) that gets preserved as output when you create a version using \"Save & Run All\" \n",
    "# You can also write temporary files to /kaggle/temp/, but they won't be saved outside of the current session"
   ]
  },
  {
   "cell_type": "code",
   "execution_count": null,
   "metadata": {
    "execution": {
     "iopub.execute_input": "2022-01-20T19:31:31.167757Z",
     "iopub.status.busy": "2022-01-20T19:31:31.167170Z",
     "iopub.status.idle": "2022-01-20T19:31:31.626624Z",
     "shell.execute_reply": "2022-01-20T19:31:31.625828Z",
     "shell.execute_reply.started": "2022-01-20T19:31:31.167719Z"
    }
   },
   "outputs": [],
   "source": [
    "import numpy as np\n",
    "import pandas as pd\n",
    "import matplotlib.pyplot as plt\n",
    "import seaborn as sns\n",
    "%matplotlib inline"
   ]
  },
  {
   "cell_type": "code",
   "execution_count": null,
   "metadata": {},
   "outputs": [],
   "source": [
    "# Kaggle API\n",
    "import os\n",
    "os.environ['KAGGLE_USERNAME'] = \"apanpa\"\n",
    "os.environ['KAGGLE_KEY'] = \"c2e92bf0b22a59f21ed0440cc6e40b6e\""
   ]
  },
  {
   "cell_type": "code",
   "execution_count": null,
   "metadata": {},
   "outputs": [],
   "source": [
    "# Downloading the dataset directly from Kaggle on the Colab environment \n",
    "\n",
    "!kaggle competitions download -c tabular-playground-series-jan-2022"
   ]
  },
  {
   "cell_type": "code",
   "execution_count": null,
   "metadata": {},
   "outputs": [],
   "source": [
    "# Unzipping the dataset\n",
    "! unzip/edit/Desktop/DataScience/kaggel/tabular-playground-series-jan-2022.zip\n",
    "#! unzip/content/tabular-playground-series-jan-2022.zip"
   ]
  },
  {
   "cell_type": "code",
   "execution_count": null,
   "metadata": {
    "execution": {
     "iopub.execute_input": "2022-01-20T19:31:31.628082Z",
     "iopub.status.busy": "2022-01-20T19:31:31.627854Z",
     "iopub.status.idle": "2022-01-20T19:31:31.675844Z",
     "shell.execute_reply": "2022-01-20T19:31:31.675034Z",
     "shell.execute_reply.started": "2022-01-20T19:31:31.628054Z"
    }
   },
   "outputs": [],
   "source": [
    "train = pd.read_csv('.../Desktop/DataScience/kaggel/tabular-playground-series-jan-2022/train.csv')\n",
    "test = pd.read_csv('.../Desktop/DataScience/kaggel/tabular-playground-series-jan-2022/test.csv')\n",
    "#C:\\Users\\Med's PC\\Desktop\\DataScience\\kaggel"
   ]
  },
  {
   "cell_type": "code",
   "execution_count": null,
   "metadata": {
    "execution": {
     "iopub.execute_input": "2022-01-20T19:31:31.678308Z",
     "iopub.status.busy": "2022-01-20T19:31:31.678087Z",
     "iopub.status.idle": "2022-01-20T19:31:31.694931Z",
     "shell.execute_reply": "2022-01-20T19:31:31.693998Z",
     "shell.execute_reply.started": "2022-01-20T19:31:31.678279Z"
    }
   },
   "outputs": [],
   "source": [
    "#vitualize first 10 rows of the train data-set\n",
    "train.head(10)"
   ]
  },
  {
   "cell_type": "code",
   "execution_count": null,
   "metadata": {
    "execution": {
     "iopub.execute_input": "2022-01-20T19:31:31.697210Z",
     "iopub.status.busy": "2022-01-20T19:31:31.696881Z",
     "iopub.status.idle": "2022-01-20T19:31:31.716885Z",
     "shell.execute_reply": "2022-01-20T19:31:31.715831Z",
     "shell.execute_reply.started": "2022-01-20T19:31:31.697168Z"
    }
   },
   "outputs": [],
   "source": [
    "#vitualize first 10 rows of the test data-set\n",
    "test.head(10)"
   ]
  },
  {
   "cell_type": "code",
   "execution_count": null,
   "metadata": {
    "execution": {
     "iopub.execute_input": "2022-01-20T19:31:31.719111Z",
     "iopub.status.busy": "2022-01-20T19:31:31.718584Z",
     "iopub.status.idle": "2022-01-20T19:31:31.746828Z",
     "shell.execute_reply": "2022-01-20T19:31:31.745936Z",
     "shell.execute_reply.started": "2022-01-20T19:31:31.719062Z"
    }
   },
   "outputs": [],
   "source": [
    "#summarized infomation on the test data-set\n",
    "train.info()\n"
   ]
  },
  {
   "cell_type": "code",
   "execution_count": null,
   "metadata": {
    "execution": {
     "iopub.execute_input": "2022-01-20T19:31:31.748700Z",
     "iopub.status.busy": "2022-01-20T19:31:31.748115Z",
     "iopub.status.idle": "2022-01-20T19:31:31.770910Z",
     "shell.execute_reply": "2022-01-20T19:31:31.769880Z",
     "shell.execute_reply.started": "2022-01-20T19:31:31.748658Z"
    }
   },
   "outputs": [],
   "source": [
    "#extractioning unique values of the train data-set and their value counts\n",
    "uniqueNations = train['country'].value_counts()\n",
    "uniqueStores = train['store'].value_counts()\n",
    "uniqueProducts = train['product'].value_counts()\n",
    "print(uniqueNations)\n",
    "print(uniqueStores)\n",
    "print(uniqueProducts)"
   ]
  },
  {
   "cell_type": "markdown",
   "metadata": {},
   "source": [
    "**From the data exploration, the following are noticed**\n",
    "* The data contains 6 features including the target feature and 26297 entries\n",
    "* 4 entries are object data-type, while 2 including the target feature are integers\n",
    "* No missing values in the entries\n",
    "* 3 unique locations, 3 products and 2 stores\n",
    "* Equal distributions in respect to location, store and product.\n"
   ]
  },
  {
   "cell_type": "markdown",
   "metadata": {},
   "source": [
    "**DATA PREPROCESSING**"
   ]
  },
  {
   "cell_type": "code",
   "execution_count": null,
   "metadata": {
    "execution": {
     "iopub.execute_input": "2022-01-20T19:31:31.772409Z",
     "iopub.status.busy": "2022-01-20T19:31:31.772178Z",
     "iopub.status.idle": "2022-01-20T19:31:32.460754Z",
     "shell.execute_reply": "2022-01-20T19:31:32.459732Z",
     "shell.execute_reply.started": "2022-01-20T19:31:31.772382Z"
    }
   },
   "outputs": [],
   "source": [
    "#Date column reformated to more suitable fields.\n",
    "#converting objects to int\n",
    "train['date'] = pd.to_datetime(train['date'], format = \"%Y-%m-%d\")\n",
    "test['date'] = pd.to_datetime(test['date'], format = \"%Y-%m-%d\")\n",
    "\n",
    "\n",
    "train['year'] = train['date'].apply(lambda x: x.year)\n",
    "train['month'] = train['date'].apply(lambda x: x.month)\n",
    "train['day'] = train['date'].apply(lambda x: x.day)\n",
    "\n",
    "test['year'] = test['date'].apply(lambda x: x.year)\n",
    "test['month'] = test['date'].apply(lambda x: x.month)\n",
    "test['day'] = test['date'].apply(lambda x: x.day)"
   ]
  },
  {
   "cell_type": "code",
   "execution_count": null,
   "metadata": {
    "execution": {
     "iopub.execute_input": "2022-01-20T19:31:32.462392Z",
     "iopub.status.busy": "2022-01-20T19:31:32.462147Z",
     "iopub.status.idle": "2022-01-20T19:31:32.476672Z",
     "shell.execute_reply": "2022-01-20T19:31:32.475807Z",
     "shell.execute_reply.started": "2022-01-20T19:31:32.462360Z"
    }
   },
   "outputs": [],
   "source": [
    "train.head(5)"
   ]
  },
  {
   "cell_type": "code",
   "execution_count": null,
   "metadata": {
    "execution": {
     "iopub.execute_input": "2022-01-20T19:31:32.478738Z",
     "iopub.status.busy": "2022-01-20T19:31:32.477961Z",
     "iopub.status.idle": "2022-01-20T19:31:32.608446Z",
     "shell.execute_reply": "2022-01-20T19:31:32.607525Z",
     "shell.execute_reply.started": "2022-01-20T19:31:32.478692Z"
    }
   },
   "outputs": [],
   "source": [
    "#visualiized various product sales\n",
    "fig = plt.figure(figsize  = (4,8)) \n",
    "products = train.groupby('product').num_sold.sum()\n",
    "plt.pie(products.values, labels = products.index,  autopct='%0.2f%%')\n",
    "plt.title('Sales Share of various Products')\n",
    "plt.show()"
   ]
  },
  {
   "cell_type": "code",
   "execution_count": null,
   "metadata": {
    "execution": {
     "iopub.execute_input": "2022-01-20T19:31:32.611246Z",
     "iopub.status.busy": "2022-01-20T19:31:32.609990Z",
     "iopub.status.idle": "2022-01-20T19:31:32.744967Z",
     "shell.execute_reply": "2022-01-20T19:31:32.743970Z",
     "shell.execute_reply.started": "2022-01-20T19:31:32.611189Z"
    }
   },
   "outputs": [],
   "source": [
    "#visualiized various product sales\n",
    "fig = plt.figure(figsize  = (4,8)) \n",
    "products = train.groupby('country').num_sold.sum()\n",
    "plt.pie(products.values, labels = products.index,  autopct='%0.2f%%')\n",
    "plt.title('Sales Share of various Products')\n",
    "plt.show()"
   ]
  },
  {
   "cell_type": "code",
   "execution_count": null,
   "metadata": {
    "execution": {
     "iopub.execute_input": "2022-01-20T19:31:32.747554Z",
     "iopub.status.busy": "2022-01-20T19:31:32.746912Z",
     "iopub.status.idle": "2022-01-20T19:31:33.118663Z",
     "shell.execute_reply": "2022-01-20T19:31:33.117634Z",
     "shell.execute_reply.started": "2022-01-20T19:31:32.747500Z"
    }
   },
   "outputs": [],
   "source": [
    "#product sales per country\n",
    "fig = plt.figure(figsize  = (10,8)) \n",
    "countries = ['Finland','Sweden','Norway']\n",
    "for i in range(3):\n",
    "    countrySales = train[train['country'] == countries[i]].groupby('product').num_sold.sum()\n",
    "    ax = fig.add_subplot(1,3,i+1)\n",
    "    ax.pie(countrySales.values, labels = countrySales.index,  autopct='%0.2f%%')\n",
    "    ax.title.set_text(f'Product Sales Share in {countries[i]}')"
   ]
  },
  {
   "cell_type": "code",
   "execution_count": null,
   "metadata": {
    "execution": {
     "iopub.execute_input": "2022-01-20T19:31:33.125479Z",
     "iopub.status.busy": "2022-01-20T19:31:33.124718Z",
     "iopub.status.idle": "2022-01-20T19:31:33.412511Z",
     "shell.execute_reply": "2022-01-20T19:31:33.411540Z",
     "shell.execute_reply.started": "2022-01-20T19:31:33.125408Z"
    }
   },
   "outputs": [],
   "source": [
    "#product sales per country\n",
    "fig = plt.figure(figsize  = (10,8)) \n",
    "countries = ['Finland','Sweden','Norway']\n",
    "for i in range(3):\n",
    "    countrySales = train[train['country'] == countries[i]].groupby('store').num_sold.sum()\n",
    "    ax = fig.add_subplot(1,3,i+1)\n",
    "    ax.pie(countrySales.values, labels = countrySales.index,  autopct='%0.2f%%')\n",
    "    ax.title.set_text(f'Product Sales Share in {countries[i]}')"
   ]
  },
  {
   "cell_type": "code",
   "execution_count": null,
   "metadata": {
    "execution": {
     "iopub.execute_input": "2022-01-20T19:31:33.415178Z",
     "iopub.status.busy": "2022-01-20T19:31:33.414523Z",
     "iopub.status.idle": "2022-01-20T19:31:33.663599Z",
     "shell.execute_reply": "2022-01-20T19:31:33.662394Z",
     "shell.execute_reply.started": "2022-01-20T19:31:33.415125Z"
    }
   },
   "outputs": [],
   "source": [
    "fig = plt.figure(figsize  = (10,8)) \n",
    "\n",
    "rand =221\n",
    "series = train[train['store'] == 'KaggleRama'].groupby('product').num_sold.sum()\n",
    "ax1 = fig.add_subplot(221)\n",
    "ax1.pie(series.values, labels = series.index,  autopct='%0.2f%%')\n",
    "ax1.title.set_text(f'Product Sales Share in KaggleRama')\n",
    "\n",
    "series = train[train['store'] == 'KaggleMart'].groupby('product').num_sold.sum()\n",
    "ax2 = fig.add_subplot(222)\n",
    "ax2.pie(series.values, labels = series.index,  autopct='%0.2f%%')\n",
    "ax2.title.set_text(f'Product Sales Share in KaggleMart')"
   ]
  },
  {
   "cell_type": "markdown",
   "metadata": {},
   "source": [
    "**From the visualization, the following can be deduced:**\n",
    "* the sales pattern in the three countries are very similar, in respect to product item.\n",
    "* Hat is most popular,while sticker is least popular.\n",
    "* Sales are better at all KaggleRama (about 67%) to KaggelMart.\n",
    "* Highest sales comes from Norway, as the least is from Finland."
   ]
  },
  {
   "cell_type": "code",
   "execution_count": null,
   "metadata": {
    "execution": {
     "iopub.execute_input": "2022-01-20T19:31:33.665935Z",
     "iopub.status.busy": "2022-01-20T19:31:33.665589Z",
     "iopub.status.idle": "2022-01-20T19:31:33.920495Z",
     "shell.execute_reply": "2022-01-20T19:31:33.919566Z",
     "shell.execute_reply.started": "2022-01-20T19:31:33.665889Z"
    }
   },
   "outputs": [],
   "source": [
    "#Exploring with date as a variable\n",
    "fig = plt.figure(figsize  = (10,8)) \n",
    "rand =221\n",
    "series = train[train['store'] == 'KaggleMart'].groupby('year').num_sold.sum()\n",
    "ax2 = fig.add_subplot(221)\n",
    "ax2.pie(series.values, labels = series.index,  autopct='%0.2f%%')\n",
    "ax2.title.set_text(f'Product Sales Share in KaggleMart')\n",
    "\n",
    "series = train[train['store'] == 'KaggleRama'].groupby('year').num_sold.sum()\n",
    "ax2 = fig.add_subplot(222)\n",
    "ax2.pie(series.values, labels = series.index,  autopct='%0.2f%%')\n",
    "ax2.title.set_text(f'Product Sales Share in KaggleRama')"
   ]
  },
  {
   "cell_type": "code",
   "execution_count": null,
   "metadata": {
    "execution": {
     "iopub.execute_input": "2022-01-20T19:31:33.922998Z",
     "iopub.status.busy": "2022-01-20T19:31:33.922254Z",
     "iopub.status.idle": "2022-01-20T19:31:34.556897Z",
     "shell.execute_reply": "2022-01-20T19:31:34.555984Z",
     "shell.execute_reply.started": "2022-01-20T19:31:33.922943Z"
    }
   },
   "outputs": [],
   "source": [
    "fig = plt.figure(figsize  = (12,12)) \n",
    "rand =221\n",
    "series = train[train['store'] == 'KaggleMart'].groupby('month').num_sold.sum()\n",
    "ax2 = fig.add_subplot(221)\n",
    "ax2.pie(series.values, labels = series.index,  autopct='%0.2f%%')\n",
    "ax2.title.set_text(f'Product Sales Share in KaggleMart')\n",
    "\n",
    "series = train[train['store'] == 'KaggleRama'].groupby('month').num_sold.sum()\n",
    "ax2 = fig.add_subplot(222)\n",
    "ax2.pie(series.values, labels = series.index,  autopct='%0.2f%%')\n",
    "ax2.title.set_text(f'Product Sales Share in KaggleRama')"
   ]
  },
  {
   "cell_type": "code",
   "execution_count": null,
   "metadata": {
    "execution": {
     "iopub.execute_input": "2022-01-20T19:31:34.558997Z",
     "iopub.status.busy": "2022-01-20T19:31:34.558389Z",
     "iopub.status.idle": "2022-01-20T19:31:35.518200Z",
     "shell.execute_reply": "2022-01-20T19:31:35.517512Z",
     "shell.execute_reply.started": "2022-01-20T19:31:34.558938Z"
    }
   },
   "outputs": [],
   "source": [
    "fig = plt.figure(figsize  = (20,13)) \n",
    "year = 2015\n",
    "for i in range(4):\n",
    "    ax = fig.add_subplot(2,2,i+1)\n",
    "    ax.plot(train[train['year']==year]['date'], train[train['year']==year]['num_sold'])\n",
    "    ax.title.set_text(f'Sales Trend in {year}')\n",
    "    ax.set_ylabel('Sales')\n",
    "    ax.set_xlabel('Date')\n",
    "    year+=1"
   ]
  },
  {
   "cell_type": "code",
   "execution_count": null,
   "metadata": {
    "execution": {
     "iopub.execute_input": "2022-01-20T19:31:35.520008Z",
     "iopub.status.busy": "2022-01-20T19:31:35.519194Z",
     "iopub.status.idle": "2022-01-20T19:31:36.038316Z",
     "shell.execute_reply": "2022-01-20T19:31:36.037613Z",
     "shell.execute_reply.started": "2022-01-20T19:31:35.519957Z"
    }
   },
   "outputs": [],
   "source": [
    "fig = plt.figure(figsize  = (20,12)) \n",
    "\n",
    "series = train[train['store'] == 'KaggleMart'].groupby('day').num_sold.mean()\n",
    "ax1 = fig.add_subplot(231)\n",
    "ax1.bar(x = series.index, height = series.values)\n",
    "ax1.title.set_text(f'Product Sales Share in KaggleMart')\n",
    "ax1.set_ylabel('Average Sales')\n",
    "ax1.set_xlabel('Days of Week')\n",
    "    \n",
    "series = train[train['store'] == 'KaggleRama'].groupby('day').num_sold.mean()\n",
    "ax1 = fig.add_subplot(233)\n",
    "ax1.bar(x = series.index, height = series.values)\n",
    "ax1.title.set_text(f'Product Sales Share in KaggleRama')\n",
    "ax1.set_ylabel('Average Sales')\n",
    "ax1.set_xlabel('Days of Week')\n",
    "\n"
   ]
  },
  {
   "cell_type": "code",
   "execution_count": null,
   "metadata": {
    "execution": {
     "iopub.execute_input": "2022-01-20T19:31:36.039830Z",
     "iopub.status.busy": "2022-01-20T19:31:36.039490Z",
     "iopub.status.idle": "2022-01-20T19:31:37.044227Z",
     "shell.execute_reply": "2022-01-20T19:31:37.043299Z",
     "shell.execute_reply.started": "2022-01-20T19:31:36.039800Z"
    }
   },
   "outputs": [],
   "source": [
    "fig = plt.figure(figsize  = (14,16)) \n",
    "series = train[train['store'] == 'KaggleMart'].groupby('day').num_sold.sum()\n",
    "ax2 = fig.add_subplot(221)\n",
    "ax2.pie(series.values, labels = series.index,  autopct='%0.1f%%')\n",
    "ax2.title.set_text(f'Product Sales Share in KaggleMart')\n",
    "\n",
    "series = train[train['store'] == 'KaggleRama'].groupby('day').num_sold.sum()\n",
    "ax2 = fig.add_subplot(222)\n",
    "ax2.pie(series.values, labels = series.index,  autopct='%0.1f%%')\n",
    "ax2.title.set_text(f'Product Sales Share in KaggleRama')\n",
    "   "
   ]
  },
  {
   "cell_type": "code",
   "execution_count": null,
   "metadata": {
    "execution": {
     "iopub.execute_input": "2022-01-20T19:31:37.046221Z",
     "iopub.status.busy": "2022-01-20T19:31:37.045750Z",
     "iopub.status.idle": "2022-01-20T19:31:37.244781Z",
     "shell.execute_reply": "2022-01-20T19:31:37.244001Z",
     "shell.execute_reply.started": "2022-01-20T19:31:37.046172Z"
    }
   },
   "outputs": [],
   "source": [
    "#adding a column weekday which contains integers, 0 means Monday and 6 means Sunday using inbuild function\n",
    "train['weekday'] = train['date'].apply(lambda x: x.weekday())\n",
    "test['weekday'] = test['date'].apply(lambda x: x.weekday())"
   ]
  },
  {
   "cell_type": "code",
   "execution_count": null,
   "metadata": {
    "execution": {
     "iopub.execute_input": "2022-01-20T19:31:37.246264Z",
     "iopub.status.busy": "2022-01-20T19:31:37.245907Z",
     "iopub.status.idle": "2022-01-20T19:31:37.410527Z",
     "shell.execute_reply": "2022-01-20T19:31:37.409561Z",
     "shell.execute_reply.started": "2022-01-20T19:31:37.246233Z"
    }
   },
   "outputs": [],
   "source": [
    "fig = plt.figure(figsize=(10,8))\n",
    "series = train.groupby('weekday').num_sold.mean()\n",
    "days_of_weak = ['Monday','Tuesday','Wednesday','Thursday','Friday','Saturday','Sunday']\n",
    "ax2 = fig.add_subplot(121)\n",
    "ax2.pie(series.values, labels = [days_of_weak[i] for i in series.index], autopct = '%0.1f%%')\n",
    "ax2.title.set_text(f'Sales Share per Days of Weak')"
   ]
  },
  {
   "cell_type": "code",
   "execution_count": null,
   "metadata": {
    "execution": {
     "iopub.execute_input": "2022-01-20T19:31:37.412890Z",
     "iopub.status.busy": "2022-01-20T19:31:37.412314Z",
     "iopub.status.idle": "2022-01-20T19:31:37.433000Z",
     "shell.execute_reply": "2022-01-20T19:31:37.432089Z",
     "shell.execute_reply.started": "2022-01-20T19:31:37.412827Z"
    }
   },
   "outputs": [],
   "source": [
    "test.head()"
   ]
  },
  {
   "cell_type": "code",
   "execution_count": null,
   "metadata": {
    "execution": {
     "iopub.execute_input": "2022-01-20T19:31:37.435700Z",
     "iopub.status.busy": "2022-01-20T19:31:37.435014Z",
     "iopub.status.idle": "2022-01-20T19:31:37.768197Z",
     "shell.execute_reply": "2022-01-20T19:31:37.767393Z",
     "shell.execute_reply.started": "2022-01-20T19:31:37.435646Z"
    }
   },
   "outputs": [],
   "source": [
    "train.corr()\n",
    "plt.figure(figsize=(12, 6))\n",
    "mask = np.triu(np.ones_like(train.corr(), dtype=bool))\n",
    "sns.heatmap(train.corr(), mask=mask, vmin=-1, vmax=1,annot=True)"
   ]
  },
  {
   "cell_type": "markdown",
   "metadata": {},
   "source": [
    "**More insights**\n",
    "* Sales are better during weekends.\n",
    "* Sales are improves slightly towards the end of the months for each product.\n",
    "* there is a seasonal pattern, that is continous all through the years under review.\n",
    "* The steady growth in popularity of the goods gradual.\n",
    "* No noticable correlation amongst features expect for product and number sold, a strong negative correlation"
   ]
  },
  {
   "cell_type": "markdown",
   "metadata": {},
   "source": [
    "**Data preprocessing preparing for modeling**\n"
   ]
  },
  {
   "cell_type": "code",
   "execution_count": null,
   "metadata": {
    "execution": {
     "iopub.execute_input": "2022-01-20T19:31:37.770211Z",
     "iopub.status.busy": "2022-01-20T19:31:37.769593Z",
     "iopub.status.idle": "2022-01-20T19:31:37.780160Z",
     "shell.execute_reply": "2022-01-20T19:31:37.779536Z",
     "shell.execute_reply.started": "2022-01-20T19:31:37.770160Z"
    }
   },
   "outputs": [],
   "source": [
    "# Since the below features have no correlation to the taget result, they can be droped\n",
    "df_train = train.drop(['row_id','date','year'],axis = 1)\n",
    "df_test = test.drop(['row_id','date','year'],axis = 1)"
   ]
  },
  {
   "cell_type": "code",
   "execution_count": null,
   "metadata": {
    "execution": {
     "iopub.execute_input": "2022-01-20T19:31:37.781874Z",
     "iopub.status.busy": "2022-01-20T19:31:37.781418Z",
     "iopub.status.idle": "2022-01-20T19:31:38.020954Z",
     "shell.execute_reply": "2022-01-20T19:31:38.020007Z",
     "shell.execute_reply.started": "2022-01-20T19:31:37.781842Z"
    }
   },
   "outputs": [],
   "source": [
    "#preprocessing encoding the object features using label encoder\n",
    "from sklearn.preprocessing import LabelEncoder\n",
    "\n",
    "status_encoder = LabelEncoder()\n",
    "df_train[\"country\"] = status_encoder.fit_transform(df_train[\"country\"])\n",
    "df_train[\"store\"] = status_encoder.fit_transform(df_train[\"store\"])\n",
    "df_train[\"product\"] = status_encoder.fit_transform(df_train[\"product\"])\n",
    "\n",
    "df_test[\"country\"] = status_encoder.fit_transform(df_test[\"country\"])\n",
    "df_test[\"store\"] = status_encoder.fit_transform(df_test[\"store\"])\n",
    "df_test[\"product\"] = status_encoder.fit_transform(df_test[\"product\"])\n",
    "\n",
    "df_train.tail()\n"
   ]
  },
  {
   "cell_type": "code",
   "execution_count": null,
   "metadata": {
    "execution": {
     "iopub.execute_input": "2022-01-20T19:31:38.022608Z",
     "iopub.status.busy": "2022-01-20T19:31:38.022237Z",
     "iopub.status.idle": "2022-01-20T19:31:38.031503Z",
     "shell.execute_reply": "2022-01-20T19:31:38.030524Z",
     "shell.execute_reply.started": "2022-01-20T19:31:38.022557Z"
    }
   },
   "outputs": [],
   "source": [
    "train_features = [col for col in df_train.columns if col!='num_sold']\n",
    "X = df_train[train_features]\n",
    "y = df_train['num_sold']"
   ]
  },
  {
   "cell_type": "code",
   "execution_count": null,
   "metadata": {
    "execution": {
     "iopub.execute_input": "2022-01-20T19:31:38.033311Z",
     "iopub.status.busy": "2022-01-20T19:31:38.032993Z",
     "iopub.status.idle": "2022-01-20T19:31:38.060249Z",
     "shell.execute_reply": "2022-01-20T19:31:38.059290Z",
     "shell.execute_reply.started": "2022-01-20T19:31:38.033269Z"
    }
   },
   "outputs": [],
   "source": [
    "# Data spliting into train and test data\n",
    "from sklearn.model_selection import train_test_split\n",
    "X_train, X_test, y_train, y_test = train_test_split(X, y, train_size = 0.8, random_state = 42)"
   ]
  },
  {
   "cell_type": "markdown",
   "metadata": {},
   "source": [
    "**Modeling using different Models (LinearRegression,Ridge,Lasso and XGBoost)**\n"
   ]
  },
  {
   "cell_type": "code",
   "execution_count": null,
   "metadata": {
    "execution": {
     "iopub.execute_input": "2022-01-20T19:31:38.062225Z",
     "iopub.status.busy": "2022-01-20T19:31:38.061911Z",
     "iopub.status.idle": "2022-01-20T19:31:38.075493Z",
     "shell.execute_reply": "2022-01-20T19:31:38.074568Z",
     "shell.execute_reply.started": "2022-01-20T19:31:38.062182Z"
    }
   },
   "outputs": [],
   "source": [
    "from sklearn.preprocessing import MinMaxScaler\n",
    "scaler = MinMaxScaler()\n",
    "\n",
    "X_train_scaled = scaler.fit_transform(X_train)\n",
    "X_test_scaled = scaler.transform(X_test)"
   ]
  },
  {
   "cell_type": "code",
   "execution_count": null,
   "metadata": {
    "execution": {
     "iopub.execute_input": "2022-01-20T19:31:38.077049Z",
     "iopub.status.busy": "2022-01-20T19:31:38.076632Z",
     "iopub.status.idle": "2022-01-20T19:31:38.117843Z",
     "shell.execute_reply": "2022-01-20T19:31:38.116945Z",
     "shell.execute_reply.started": "2022-01-20T19:31:38.077011Z"
    }
   },
   "outputs": [],
   "source": [
    "# Fit Models with Training Data set\n",
    "from sklearn.linear_model import LinearRegression,Ridge,Lasso\n",
    "linear_model = LinearRegression()\n",
    "linear_model.fit(X_train, y_train)\n",
    "predicted_value_1 = linear_model.predict(X_test)\n",
    "print(linear_model.score(X_test, y_test))"
   ]
  },
  {
   "cell_type": "code",
   "execution_count": null,
   "metadata": {
    "execution": {
     "iopub.execute_input": "2022-01-20T19:31:38.119897Z",
     "iopub.status.busy": "2022-01-20T19:31:38.119493Z",
     "iopub.status.idle": "2022-01-20T19:31:38.138593Z",
     "shell.execute_reply": "2022-01-20T19:31:38.137646Z",
     "shell.execute_reply.started": "2022-01-20T19:31:38.119852Z"
    }
   },
   "outputs": [],
   "source": [
    "ridge_reg = Ridge(alpha=0.5)\n",
    "ridge_reg.fit(X_train,y_train)\n",
    "predicted_value_2 = ridge_reg.predict(X_test)\n",
    "print(ridge_reg.score(X_test, y_test))"
   ]
  },
  {
   "cell_type": "code",
   "execution_count": null,
   "metadata": {
    "execution": {
     "iopub.execute_input": "2022-01-20T19:31:38.140796Z",
     "iopub.status.busy": "2022-01-20T19:31:38.140244Z",
     "iopub.status.idle": "2022-01-20T19:31:38.157344Z",
     "shell.execute_reply": "2022-01-20T19:31:38.156517Z",
     "shell.execute_reply.started": "2022-01-20T19:31:38.140744Z"
    }
   },
   "outputs": [],
   "source": [
    "lasso_reg = Lasso(alpha=0.001) \n",
    "lasso_reg.fit(X_train, y_train)\n",
    "predicted_value_3 = lasso_reg.predict(X_test)\n",
    "print(lasso_reg.score(X_test, y_test))"
   ]
  },
  {
   "cell_type": "code",
   "execution_count": null,
   "metadata": {
    "execution": {
     "iopub.execute_input": "2022-01-20T19:31:38.159492Z",
     "iopub.status.busy": "2022-01-20T19:31:38.159169Z",
     "iopub.status.idle": "2022-01-20T19:31:39.180581Z",
     "shell.execute_reply": "2022-01-20T19:31:39.179149Z",
     "shell.execute_reply.started": "2022-01-20T19:31:38.159436Z"
    }
   },
   "outputs": [],
   "source": [
    "from xgboost import XGBRegressor\n",
    "xgb = XGBRegressor(random_state = 42)\n",
    "xgb.fit(X_train, y_train)\n",
    "predicted_value_4 = xgb.predict(X_test)\n",
    "print(xgb.score(X_test, y_test))"
   ]
  },
  {
   "cell_type": "markdown",
   "metadata": {},
   "source": [
    "*** Summary of the predicted score of the four models used ***\n",
    "* Linear Regression gave 66.35% accuracy score\n",
    "* Ridge 66.34%\n",
    "* Lasso 66.35%\n",
    "* XGBoost the best score of 97.21%\n",
    "* futher analysis will be with XGBoost"
   ]
  },
  {
   "cell_type": "code",
   "execution_count": null,
   "metadata": {
    "execution": {
     "iopub.execute_input": "2022-01-20T19:31:39.182758Z",
     "iopub.status.busy": "2022-01-20T19:31:39.182243Z",
     "iopub.status.idle": "2022-01-20T19:31:39.205428Z",
     "shell.execute_reply": "2022-01-20T19:31:39.204101Z",
     "shell.execute_reply.started": "2022-01-20T19:31:39.182712Z"
    }
   },
   "outputs": [],
   "source": [
    "predicted_value_4 = np.array(xgb.predict(X_test))\n",
    "from sklearn.metrics import mean_squared_error\n",
    "print(f\"Mean Squared Error: {mean_squared_error(y_test, predicted_value_4)}\")\n",
    "print(f\"Root Mean Squared Error: {np.sqrt(mean_squared_error(y_test, predicted_value_4))}\")"
   ]
  },
  {
   "cell_type": "code",
   "execution_count": null,
   "metadata": {
    "execution": {
     "iopub.execute_input": "2022-01-20T19:31:39.208058Z",
     "iopub.status.busy": "2022-01-20T19:31:39.207529Z",
     "iopub.status.idle": "2022-01-20T19:31:39.226875Z",
     "shell.execute_reply": "2022-01-20T19:31:39.225934Z",
     "shell.execute_reply.started": "2022-01-20T19:31:39.208012Z"
    }
   },
   "outputs": [],
   "source": [
    "#tabular view of true value and predicted value\n",
    "predictions = pd.DataFrame()\n",
    "predictions['True value'] = y_test\n",
    "predictions['Predicted value'] = predicted_value_4\n",
    "predictions.head(20)"
   ]
  },
  {
   "cell_type": "code",
   "execution_count": null,
   "metadata": {
    "execution": {
     "iopub.execute_input": "2022-01-20T19:31:39.228867Z",
     "iopub.status.busy": "2022-01-20T19:31:39.228362Z",
     "iopub.status.idle": "2022-01-20T19:31:40.285715Z",
     "shell.execute_reply": "2022-01-20T19:31:40.285077Z",
     "shell.execute_reply.started": "2022-01-20T19:31:39.228823Z"
    }
   },
   "outputs": [],
   "source": [
    "#plotting the predictions on the bar plot ti have a visual view\n",
    "predictions[[\"True value\", \"Predicted value\"]].iloc[-50:].plot(kind=\"bar\", figsize=(16, 12))"
   ]
  },
  {
   "cell_type": "code",
   "execution_count": null,
   "metadata": {
    "execution": {
     "iopub.execute_input": "2022-01-20T19:31:40.287156Z",
     "iopub.status.busy": "2022-01-20T19:31:40.286821Z",
     "iopub.status.idle": "2022-01-20T19:31:40.337269Z",
     "shell.execute_reply": "2022-01-20T19:31:40.336668Z",
     "shell.execute_reply.started": "2022-01-20T19:31:40.287126Z"
    }
   },
   "outputs": [],
   "source": [
    "# Baseline submission getting ready\n",
    "predicted_value_4 = xgb.predict(df_test)\n",
    "\n",
    "submission_df = pd.DataFrame({'row_id':test['row_id'],'num_sold':predicted_value_4})\n",
    "submission_df.to_csv('submit_baseline.csv', index = False)\n",
    "submission_df"
   ]
  },
  {
   "cell_type": "code",
   "execution_count": null,
   "metadata": {},
   "outputs": [],
   "source": []
  }
 ],
 "metadata": {
  "kernelspec": {
   "display_name": "Python 3",
   "language": "python",
   "name": "python3"
  },
  "language_info": {
   "codemirror_mode": {
    "name": "ipython",
    "version": 3
   },
   "file_extension": ".py",
   "mimetype": "text/x-python",
   "name": "python",
   "nbconvert_exporter": "python",
   "pygments_lexer": "ipython3",
   "version": "3.8.8"
  }
 },
 "nbformat": 4,
 "nbformat_minor": 4
}
